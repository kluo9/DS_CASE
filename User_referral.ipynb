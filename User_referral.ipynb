{
 "cells": [
  {
   "cell_type": "code",
   "execution_count": 1,
   "id": "4cf57100",
   "metadata": {},
   "outputs": [],
   "source": [
    "import warnings\n",
    "warnings.simplefilter('ignore')\n",
    "\n",
    "import datetime\n",
    "import numpy as np\n",
    "import pandas as pd\n",
    "from scipy.stats import ttest_ind\n",
    "import seaborn as sns\n",
    "import matplotlib.pyplot as plt\n",
    "\n",
    "%matplotlib inline"
   ]
  },
  {
   "cell_type": "markdown",
   "id": "d9856580",
   "metadata": {},
   "source": [
    "# Load Dataset"
   ]
  },
  {
   "cell_type": "code",
   "execution_count": 2,
   "id": "f150f518",
   "metadata": {},
   "outputs": [
    {
     "data": {
      "text/html": [
       "<div>\n",
       "<style scoped>\n",
       "    .dataframe tbody tr th:only-of-type {\n",
       "        vertical-align: middle;\n",
       "    }\n",
       "\n",
       "    .dataframe tbody tr th {\n",
       "        vertical-align: top;\n",
       "    }\n",
       "\n",
       "    .dataframe thead th {\n",
       "        text-align: right;\n",
       "    }\n",
       "</style>\n",
       "<table border=\"1\" class=\"dataframe\">\n",
       "  <thead>\n",
       "    <tr style=\"text-align: right;\">\n",
       "      <th></th>\n",
       "      <th>user_id</th>\n",
       "      <th>date</th>\n",
       "      <th>country</th>\n",
       "      <th>money_spent</th>\n",
       "      <th>is_referral</th>\n",
       "      <th>device_id</th>\n",
       "    </tr>\n",
       "  </thead>\n",
       "  <tbody>\n",
       "    <tr>\n",
       "      <th>0</th>\n",
       "      <td>2</td>\n",
       "      <td>2015-10-03</td>\n",
       "      <td>FR</td>\n",
       "      <td>65</td>\n",
       "      <td>0</td>\n",
       "      <td>EVDCJTZMVMJDG</td>\n",
       "    </tr>\n",
       "    <tr>\n",
       "      <th>1</th>\n",
       "      <td>3</td>\n",
       "      <td>2015-10-03</td>\n",
       "      <td>CA</td>\n",
       "      <td>54</td>\n",
       "      <td>0</td>\n",
       "      <td>WUBZFTVKXGQQX</td>\n",
       "    </tr>\n",
       "    <tr>\n",
       "      <th>2</th>\n",
       "      <td>6</td>\n",
       "      <td>2015-10-03</td>\n",
       "      <td>FR</td>\n",
       "      <td>35</td>\n",
       "      <td>0</td>\n",
       "      <td>CBAPCJRTFNUJG</td>\n",
       "    </tr>\n",
       "    <tr>\n",
       "      <th>3</th>\n",
       "      <td>7</td>\n",
       "      <td>2015-10-03</td>\n",
       "      <td>UK</td>\n",
       "      <td>73</td>\n",
       "      <td>0</td>\n",
       "      <td>PRGXJZAJKMXRH</td>\n",
       "    </tr>\n",
       "    <tr>\n",
       "      <th>4</th>\n",
       "      <td>7</td>\n",
       "      <td>2015-10-03</td>\n",
       "      <td>MX</td>\n",
       "      <td>35</td>\n",
       "      <td>0</td>\n",
       "      <td>PRGXJZAJKMXRH</td>\n",
       "    </tr>\n",
       "  </tbody>\n",
       "</table>\n",
       "</div>"
      ],
      "text/plain": [
       "   user_id       date country  money_spent  is_referral      device_id\n",
       "0        2 2015-10-03      FR           65            0  EVDCJTZMVMJDG\n",
       "1        3 2015-10-03      CA           54            0  WUBZFTVKXGQQX\n",
       "2        6 2015-10-03      FR           35            0  CBAPCJRTFNUJG\n",
       "3        7 2015-10-03      UK           73            0  PRGXJZAJKMXRH\n",
       "4        7 2015-10-03      MX           35            0  PRGXJZAJKMXRH"
      ]
     },
     "execution_count": 2,
     "metadata": {},
     "output_type": "execute_result"
    }
   ],
   "source": [
    "data = pd.read_csv('/Users/kexinluo/Desktop/DS_take_home/11.user_referral_data/referral.csv', parse_dates=['date'])\n",
    "data.head()"
   ]
  },
  {
   "cell_type": "code",
   "execution_count": 3,
   "id": "c17e4122",
   "metadata": {},
   "outputs": [
    {
     "name": "stdout",
     "output_type": "stream",
     "text": [
      "<class 'pandas.core.frame.DataFrame'>\n",
      "RangeIndex: 97341 entries, 0 to 97340\n",
      "Data columns (total 6 columns):\n",
      " #   Column       Non-Null Count  Dtype         \n",
      "---  ------       --------------  -----         \n",
      " 0   user_id      97341 non-null  int64         \n",
      " 1   date         97341 non-null  datetime64[ns]\n",
      " 2   country      97341 non-null  object        \n",
      " 3   money_spent  97341 non-null  int64         \n",
      " 4   is_referral  97341 non-null  int64         \n",
      " 5   device_id    97341 non-null  object        \n",
      "dtypes: datetime64[ns](1), int64(3), object(2)\n",
      "memory usage: 4.5+ MB\n"
     ]
    }
   ],
   "source": [
    "data.info()"
   ]
  },
  {
   "cell_type": "code",
   "execution_count": 4,
   "id": "72318efc",
   "metadata": {},
   "outputs": [
    {
     "name": "stdout",
     "output_type": "stream",
     "text": [
      "Unique country:\t 9\n",
      "Unique user id: 18809\n",
      "Unique device:\t 17887\n"
     ]
    }
   ],
   "source": [
    "print('Unique country:\\t', len(data['country'].unique()))\n",
    "print(f\"Unique user id: {len(data['user_id'].unique())}\")\n",
    "print('Unique device:\\t', len(data['device_id'].unique()))"
   ]
  },
  {
   "cell_type": "code",
   "execution_count": 5,
   "id": "6cbee992",
   "metadata": {},
   "outputs": [
    {
     "data": {
      "text/plain": [
       "False    28\n",
       "True     28\n",
       "dtype: int64"
      ]
     },
     "execution_count": 5,
     "metadata": {},
     "output_type": "execute_result"
    }
   ],
   "source": [
    "dt_referral_starts = datetime.datetime(2015,10,31)\n",
    "(pd.Series(data.date.unique()) >= dt_referral_starts).value_counts()"
   ]
  },
  {
   "cell_type": "markdown",
   "id": "24a33388",
   "metadata": {},
   "source": [
    "There are 28 days before the program, and 28 days after the program. User Referral program starts right in the middle"
   ]
  },
  {
   "cell_type": "code",
   "execution_count": 6,
   "id": "042a09f8",
   "metadata": {},
   "outputs": [
    {
     "data": {
      "text/html": [
       "<div>\n",
       "<style scoped>\n",
       "    .dataframe tbody tr th:only-of-type {\n",
       "        vertical-align: middle;\n",
       "    }\n",
       "\n",
       "    .dataframe tbody tr th {\n",
       "        vertical-align: top;\n",
       "    }\n",
       "\n",
       "    .dataframe thead th {\n",
       "        text-align: right;\n",
       "    }\n",
       "</style>\n",
       "<table border=\"1\" class=\"dataframe\">\n",
       "  <thead>\n",
       "    <tr style=\"text-align: right;\">\n",
       "      <th></th>\n",
       "      <th>user_id</th>\n",
       "      <th>date</th>\n",
       "      <th>country</th>\n",
       "      <th>money_spent</th>\n",
       "      <th>is_referral</th>\n",
       "      <th>device_id</th>\n",
       "      <th>dayofweek</th>\n",
       "    </tr>\n",
       "  </thead>\n",
       "  <tbody>\n",
       "    <tr>\n",
       "      <th>0</th>\n",
       "      <td>2</td>\n",
       "      <td>2015-10-03</td>\n",
       "      <td>FR</td>\n",
       "      <td>65</td>\n",
       "      <td>0</td>\n",
       "      <td>EVDCJTZMVMJDG</td>\n",
       "      <td>5</td>\n",
       "    </tr>\n",
       "    <tr>\n",
       "      <th>1</th>\n",
       "      <td>3</td>\n",
       "      <td>2015-10-03</td>\n",
       "      <td>CA</td>\n",
       "      <td>54</td>\n",
       "      <td>0</td>\n",
       "      <td>WUBZFTVKXGQQX</td>\n",
       "      <td>5</td>\n",
       "    </tr>\n",
       "    <tr>\n",
       "      <th>2</th>\n",
       "      <td>6</td>\n",
       "      <td>2015-10-03</td>\n",
       "      <td>FR</td>\n",
       "      <td>35</td>\n",
       "      <td>0</td>\n",
       "      <td>CBAPCJRTFNUJG</td>\n",
       "      <td>5</td>\n",
       "    </tr>\n",
       "    <tr>\n",
       "      <th>3</th>\n",
       "      <td>7</td>\n",
       "      <td>2015-10-03</td>\n",
       "      <td>UK</td>\n",
       "      <td>73</td>\n",
       "      <td>0</td>\n",
       "      <td>PRGXJZAJKMXRH</td>\n",
       "      <td>5</td>\n",
       "    </tr>\n",
       "    <tr>\n",
       "      <th>4</th>\n",
       "      <td>7</td>\n",
       "      <td>2015-10-03</td>\n",
       "      <td>MX</td>\n",
       "      <td>35</td>\n",
       "      <td>0</td>\n",
       "      <td>PRGXJZAJKMXRH</td>\n",
       "      <td>5</td>\n",
       "    </tr>\n",
       "  </tbody>\n",
       "</table>\n",
       "</div>"
      ],
      "text/plain": [
       "   user_id       date country  money_spent  is_referral      device_id  \\\n",
       "0        2 2015-10-03      FR           65            0  EVDCJTZMVMJDG   \n",
       "1        3 2015-10-03      CA           54            0  WUBZFTVKXGQQX   \n",
       "2        6 2015-10-03      FR           35            0  CBAPCJRTFNUJG   \n",
       "3        7 2015-10-03      UK           73            0  PRGXJZAJKMXRH   \n",
       "4        7 2015-10-03      MX           35            0  PRGXJZAJKMXRH   \n",
       "\n",
       "   dayofweek  \n",
       "0          5  \n",
       "1          5  \n",
       "2          5  \n",
       "3          5  \n",
       "4          5  "
      ]
     },
     "execution_count": 6,
     "metadata": {},
     "output_type": "execute_result"
    }
   ],
   "source": [
    "# extract day of week information\n",
    "data['dayofweek'] = data['date'].apply(lambda x: x.dayofweek)\n",
    "data.head()"
   ]
  },
  {
   "cell_type": "markdown",
   "id": "7c81b007",
   "metadata": {},
   "source": [
    "# Data Visualization"
   ]
  },
  {
   "cell_type": "code",
   "execution_count": 7,
   "id": "b8446e11",
   "metadata": {},
   "outputs": [
    {
     "data": {
      "image/png": "[encoded data removed]",
      "text/plain": [
       "<Figure size 1296x864 with 2 Axes>"
      ]
     },
     "metadata": {
      "needs_background": "light"
     },
     "output_type": "display_data"
    }
   ],
   "source": [
    "# daily money spent visualization\n",
    "fig, ax = plt.subplots(nrows=2, ncols=1, figsize=(18, 12))\n",
    "sns.countplot(x='date', data=data, ax=ax[0])\n",
    "ax[0].set_ylabel('Daily Transaction Number', fontsize=12)\n",
    "\n",
    "sns.barplot(x='date', y='money_spent', data=data, ax=ax[1])\n",
    "ax[1].set_ylabel('Daily Transaction Amount', fontsize=12)\n",
    "plt.tight_layout()\n",
    "plt.show()"
   ]
  },
  {
   "cell_type": "code",
   "execution_count": 8,
   "id": "81548f11",
   "metadata": {},
   "outputs": [
    {
     "data": {
      "image/png": "[encoded data removed]",
      "text/plain": [
       "<Figure size 1296x864 with 2 Axes>"
      ]
     },
     "metadata": {
      "needs_background": "light"
     },
     "output_type": "display_data"
    }
   ],
   "source": [
    "# referral spent visualization\n",
    "fig, ax = plt.subplots(nrows=2, ncols=1, figsize=(18, 12))\n",
    "sns.countplot(x='country', hue='is_referral', data=data, ax=ax[0])\n",
    "ax[0].set_ylabel('Country-wise Transaction Number', fontsize=12)\n",
    "\n",
    "sns.barplot(x='country', y='money_spent', hue='is_referral', data=data, ax=ax[1])\n",
    "ax[1].set_ylabel('Country-wise Transaction Amount', fontsize=12)\n",
    "plt.tight_layout()\n",
    "plt.show()"
   ]
  },
  {
   "cell_type": "code",
   "execution_count": 9,
   "id": "0f4a7617",
   "metadata": {},
   "outputs": [
    {
     "data": {
      "image/png": "[encoded data removed]",
      "text/plain": [
       "<Figure size 1296x864 with 2 Axes>"
      ]
     },
     "metadata": {
      "needs_background": "light"
     },
     "output_type": "display_data"
    }
   ],
   "source": [
    "# day of week spent visualization (Monday is 0 and Sunday is 6)\n",
    "fig, ax = plt.subplots(nrows=2, ncols=1, figsize=(18, 12))\n",
    "sns.countplot(x='dayofweek', hue='is_referral', data=data, ax=ax[0])\n",
    "ax[0].set_ylabel('Day-wise Transaction Number', fontsize=12)\n",
    "\n",
    "sns.barplot(x='dayofweek', y='money_spent', hue='is_referral', data=data, ax=ax[1])\n",
    "ax[1].set_ylabel('Day-wise Transaction Amount', fontsize=12)\n",
    "plt.tight_layout()\n",
    "plt.show()"
   ]
  },
  {
   "cell_type": "markdown",
   "id": "db7c887f",
   "metadata": {},
   "source": [
    "# Data Analysis"
   ]
  },
  {
   "cell_type": "markdown",
   "id": "1d42a12d",
   "metadata": {},
   "source": [
    "## 1. Daily Analysis"
   ]
  },
  {
   "cell_type": "markdown",
   "id": "3674669d",
   "metadata": {},
   "source": [
    "Use hypothesis test to see if reference (before the referral program dropped) daily statistics differ from new (after the referral program dropped) daily statistics.\n",
    "- Use T-test to compare two list of values.\n",
    "- Use two-sided test to see if the before/after statistics are different."
   ]
  },
  {
   "cell_type": "code",
   "execution_count": 10,
   "id": "c9c37209",
   "metadata": {},
   "outputs": [],
   "source": [
    "def basic_stat(df):\n",
    "    \"\"\" function to calculate statistics \"\"\"\n",
    "    no_purchase = len(df)\n",
    "    money_spent = df['money_spent'].sum()\n",
    "    unique_user = len(df['user_id'].unique())\n",
    "    \n",
    "    return pd.Series([no_purchase, money_spent, unique_user], \n",
    "                     index=['no_purchase', 'money_spent', 'unique_user'])"
   ]
  },
  {
   "cell_type": "code",
   "execution_count": 22,
   "id": "ca9dcf24",
   "metadata": {},
   "outputs": [],
   "source": [
    "def daily_stat(data):\n",
    "    grouped = data.groupby('date').apply(basic_stat).reset_index()\n",
    "    ref = grouped[grouped['date'] < dt_referral_starts]\n",
    "    new = grouped[grouped['date'] >= dt_referral_starts]\n",
    "    \n",
    "    names = ['no_purchase', 'money_spent', 'unique_user']\n",
    "    p_vals = []\n",
    "    ref_vals = []\n",
    "    new_vals = []\n",
    "    for name in names:\n",
    "        a = ref[name].values\n",
    "        b = new[name].values\n",
    "        # use two-sided test\n",
    "        p_val = ttest_ind(a, b, equal_var=False)[1]\n",
    "        p_vals.append(p_val)\n",
    "        ref_vals.append(np.mean(a))\n",
    "        new_vals.append(np.mean(b))\n",
    "    df = {'ref_mean': np.round(ref_vals,3), 'new_mean': np.round(new_vals), 'p-value': p_vals}\n",
    "    return pd.DataFrame(df, index=names)"
   ]
  },
  {
   "cell_type": "code",
   "execution_count": 23,
   "id": "a9f153f4",
   "metadata": {},
   "outputs": [
    {
     "data": {
      "text/html": [
       "<div>\n",
       "<style scoped>\n",
       "    .dataframe tbody tr th:only-of-type {\n",
       "        vertical-align: middle;\n",
       "    }\n",
       "\n",
       "    .dataframe tbody tr th {\n",
       "        vertical-align: top;\n",
       "    }\n",
       "\n",
       "    .dataframe thead th {\n",
       "        text-align: right;\n",
       "    }\n",
       "</style>\n",
       "<table border=\"1\" class=\"dataframe\">\n",
       "  <thead>\n",
       "    <tr style=\"text-align: right;\">\n",
       "      <th></th>\n",
       "      <th>ref_mean</th>\n",
       "      <th>new_mean</th>\n",
       "      <th>p-value</th>\n",
       "    </tr>\n",
       "  </thead>\n",
       "  <tbody>\n",
       "    <tr>\n",
       "      <th>no_purchase</th>\n",
       "      <td>1690.750</td>\n",
       "      <td>1786.0</td>\n",
       "      <td>0.696514</td>\n",
       "    </tr>\n",
       "    <tr>\n",
       "      <th>money_spent</th>\n",
       "      <td>71657.000</td>\n",
       "      <td>83714.0</td>\n",
       "      <td>0.270388</td>\n",
       "    </tr>\n",
       "    <tr>\n",
       "      <th>unique_user</th>\n",
       "      <td>1384.464</td>\n",
       "      <td>1687.0</td>\n",
       "      <td>0.119091</td>\n",
       "    </tr>\n",
       "  </tbody>\n",
       "</table>\n",
       "</div>"
      ],
      "text/plain": [
       "              ref_mean  new_mean   p-value\n",
       "no_purchase   1690.750    1786.0  0.696514\n",
       "money_spent  71657.000   83714.0  0.270388\n",
       "unique_user   1384.464    1687.0  0.119091"
      ]
     },
     "execution_count": 23,
     "metadata": {},
     "output_type": "execute_result"
    }
   ],
   "source": [
    "daily_stat(data)"
   ]
  },
  {
   "cell_type": "markdown",
   "id": "f36658cf",
   "metadata": {},
   "source": [
    "No significant difference before/after the referral program regarding number of prchases, money spent and number of users."
   ]
  },
  {
   "cell_type": "markdown",
   "id": "ce3de707",
   "metadata": {},
   "source": [
    "## 2. Country-wise Analysis"
   ]
  },
  {
   "cell_type": "code",
   "execution_count": 25,
   "id": "265a3daa",
   "metadata": {},
   "outputs": [
    {
     "data": {
      "text/html": [
       "<div>\n",
       "<style scoped>\n",
       "    .dataframe tbody tr th:only-of-type {\n",
       "        vertical-align: middle;\n",
       "    }\n",
       "\n",
       "    .dataframe tbody tr th {\n",
       "        vertical-align: top;\n",
       "    }\n",
       "\n",
       "    .dataframe thead th {\n",
       "        text-align: right;\n",
       "    }\n",
       "</style>\n",
       "<table border=\"1\" class=\"dataframe\">\n",
       "  <thead>\n",
       "    <tr style=\"text-align: right;\">\n",
       "      <th></th>\n",
       "      <th></th>\n",
       "      <th>ref_mean</th>\n",
       "      <th>new_mean</th>\n",
       "      <th>p-value</th>\n",
       "    </tr>\n",
       "    <tr>\n",
       "      <th>country</th>\n",
       "      <th></th>\n",
       "      <th></th>\n",
       "      <th></th>\n",
       "      <th></th>\n",
       "    </tr>\n",
       "  </thead>\n",
       "  <tbody>\n",
       "    <tr>\n",
       "      <th rowspan=\"3\" valign=\"top\">CA</th>\n",
       "      <th>no_purchase</th>\n",
       "      <td>177.143</td>\n",
       "      <td>160.0</td>\n",
       "      <td>0.467970</td>\n",
       "    </tr>\n",
       "    <tr>\n",
       "      <th>money_spent</th>\n",
       "      <td>7468.429</td>\n",
       "      <td>7880.0</td>\n",
       "      <td>0.703409</td>\n",
       "    </tr>\n",
       "    <tr>\n",
       "      <th>unique_user</th>\n",
       "      <td>173.286</td>\n",
       "      <td>159.0</td>\n",
       "      <td>0.536511</td>\n",
       "    </tr>\n",
       "    <tr>\n",
       "      <th rowspan=\"3\" valign=\"top\">CH</th>\n",
       "      <th>no_purchase</th>\n",
       "      <td>26.821</td>\n",
       "      <td>17.0</td>\n",
       "      <td>0.006145</td>\n",
       "    </tr>\n",
       "    <tr>\n",
       "      <th>money_spent</th>\n",
       "      <td>1536.321</td>\n",
       "      <td>1024.0</td>\n",
       "      <td>0.013882</td>\n",
       "    </tr>\n",
       "    <tr>\n",
       "      <th>unique_user</th>\n",
       "      <td>26.714</td>\n",
       "      <td>17.0</td>\n",
       "      <td>0.006285</td>\n",
       "    </tr>\n",
       "    <tr>\n",
       "      <th rowspan=\"3\" valign=\"top\">DE</th>\n",
       "      <th>no_purchase</th>\n",
       "      <td>232.143</td>\n",
       "      <td>164.0</td>\n",
       "      <td>0.023596</td>\n",
       "    </tr>\n",
       "    <tr>\n",
       "      <th>money_spent</th>\n",
       "      <td>9856.750</td>\n",
       "      <td>8014.0</td>\n",
       "      <td>0.162919</td>\n",
       "    </tr>\n",
       "    <tr>\n",
       "      <th>unique_user</th>\n",
       "      <td>224.964</td>\n",
       "      <td>163.0</td>\n",
       "      <td>0.031330</td>\n",
       "    </tr>\n",
       "    <tr>\n",
       "      <th rowspan=\"3\" valign=\"top\">ES</th>\n",
       "      <th>no_purchase</th>\n",
       "      <td>156.607</td>\n",
       "      <td>194.0</td>\n",
       "      <td>0.145276</td>\n",
       "    </tr>\n",
       "    <tr>\n",
       "      <th>money_spent</th>\n",
       "      <td>6648.643</td>\n",
       "      <td>8661.0</td>\n",
       "      <td>0.075043</td>\n",
       "    </tr>\n",
       "    <tr>\n",
       "      <th>unique_user</th>\n",
       "      <td>153.393</td>\n",
       "      <td>193.0</td>\n",
       "      <td>0.115907</td>\n",
       "    </tr>\n",
       "    <tr>\n",
       "      <th rowspan=\"3\" valign=\"top\">FR</th>\n",
       "      <th>no_purchase</th>\n",
       "      <td>244.143</td>\n",
       "      <td>306.0</td>\n",
       "      <td>0.117991</td>\n",
       "    </tr>\n",
       "    <tr>\n",
       "      <th>money_spent</th>\n",
       "      <td>10385.250</td>\n",
       "      <td>13635.0</td>\n",
       "      <td>0.063686</td>\n",
       "    </tr>\n",
       "    <tr>\n",
       "      <th>unique_user</th>\n",
       "      <td>236.500</td>\n",
       "      <td>303.0</td>\n",
       "      <td>0.082247</td>\n",
       "    </tr>\n",
       "    <tr>\n",
       "      <th rowspan=\"3\" valign=\"top\">IT</th>\n",
       "      <th>no_purchase</th>\n",
       "      <td>180.857</td>\n",
       "      <td>228.0</td>\n",
       "      <td>0.114909</td>\n",
       "    </tr>\n",
       "    <tr>\n",
       "      <th>money_spent</th>\n",
       "      <td>7651.571</td>\n",
       "      <td>10193.0</td>\n",
       "      <td>0.051460</td>\n",
       "    </tr>\n",
       "    <tr>\n",
       "      <th>unique_user</th>\n",
       "      <td>176.536</td>\n",
       "      <td>226.0</td>\n",
       "      <td>0.087821</td>\n",
       "    </tr>\n",
       "    <tr>\n",
       "      <th rowspan=\"3\" valign=\"top\">MX</th>\n",
       "      <th>no_purchase</th>\n",
       "      <td>126.464</td>\n",
       "      <td>164.0</td>\n",
       "      <td>0.064861</td>\n",
       "    </tr>\n",
       "    <tr>\n",
       "      <th>money_spent</th>\n",
       "      <td>4975.464</td>\n",
       "      <td>7033.0</td>\n",
       "      <td>0.019340</td>\n",
       "    </tr>\n",
       "    <tr>\n",
       "      <th>unique_user</th>\n",
       "      <td>124.393</td>\n",
       "      <td>163.0</td>\n",
       "      <td>0.052406</td>\n",
       "    </tr>\n",
       "    <tr>\n",
       "      <th rowspan=\"3\" valign=\"top\">UK</th>\n",
       "      <th>no_purchase</th>\n",
       "      <td>264.286</td>\n",
       "      <td>289.0</td>\n",
       "      <td>0.522367</td>\n",
       "    </tr>\n",
       "    <tr>\n",
       "      <th>money_spent</th>\n",
       "      <td>11213.536</td>\n",
       "      <td>14196.0</td>\n",
       "      <td>0.096980</td>\n",
       "    </tr>\n",
       "    <tr>\n",
       "      <th>unique_user</th>\n",
       "      <td>255.571</td>\n",
       "      <td>286.0</td>\n",
       "      <td>0.408796</td>\n",
       "    </tr>\n",
       "    <tr>\n",
       "      <th rowspan=\"3\" valign=\"top\">US</th>\n",
       "      <th>no_purchase</th>\n",
       "      <td>282.286</td>\n",
       "      <td>263.0</td>\n",
       "      <td>0.615601</td>\n",
       "    </tr>\n",
       "    <tr>\n",
       "      <th>money_spent</th>\n",
       "      <td>11921.036</td>\n",
       "      <td>13077.0</td>\n",
       "      <td>0.497749</td>\n",
       "    </tr>\n",
       "    <tr>\n",
       "      <th>unique_user</th>\n",
       "      <td>273.179</td>\n",
       "      <td>261.0</td>\n",
       "      <td>0.737720</td>\n",
       "    </tr>\n",
       "  </tbody>\n",
       "</table>\n",
       "</div>"
      ],
      "text/plain": [
       "                      ref_mean  new_mean   p-value\n",
       "country                                           \n",
       "CA      no_purchase    177.143     160.0  0.467970\n",
       "        money_spent   7468.429    7880.0  0.703409\n",
       "        unique_user    173.286     159.0  0.536511\n",
       "CH      no_purchase     26.821      17.0  0.006145\n",
       "        money_spent   1536.321    1024.0  0.013882\n",
       "        unique_user     26.714      17.0  0.006285\n",
       "DE      no_purchase    232.143     164.0  0.023596\n",
       "        money_spent   9856.750    8014.0  0.162919\n",
       "        unique_user    224.964     163.0  0.031330\n",
       "ES      no_purchase    156.607     194.0  0.145276\n",
       "        money_spent   6648.643    8661.0  0.075043\n",
       "        unique_user    153.393     193.0  0.115907\n",
       "FR      no_purchase    244.143     306.0  0.117991\n",
       "        money_spent  10385.250   13635.0  0.063686\n",
       "        unique_user    236.500     303.0  0.082247\n",
       "IT      no_purchase    180.857     228.0  0.114909\n",
       "        money_spent   7651.571   10193.0  0.051460\n",
       "        unique_user    176.536     226.0  0.087821\n",
       "MX      no_purchase    126.464     164.0  0.064861\n",
       "        money_spent   4975.464    7033.0  0.019340\n",
       "        unique_user    124.393     163.0  0.052406\n",
       "UK      no_purchase    264.286     289.0  0.522367\n",
       "        money_spent  11213.536   14196.0  0.096980\n",
       "        unique_user    255.571     286.0  0.408796\n",
       "US      no_purchase    282.286     263.0  0.615601\n",
       "        money_spent  11921.036   13077.0  0.497749\n",
       "        unique_user    273.179     261.0  0.737720"
      ]
     },
     "execution_count": 25,
     "metadata": {},
     "output_type": "execute_result"
    }
   ],
   "source": [
    "data.groupby('country').apply(daily_stat)"
   ]
  },
  {
   "cell_type": "markdown",
   "id": "6481647e",
   "metadata": {},
   "source": [
    "From above result, we know 'User Referral' program has different effect in different countries. The program boosts the sales in some country, but in some other countries, it even decrease the sales."
   ]
  },
  {
   "cell_type": "code",
   "execution_count": null,
   "id": "3dc304c5",
   "metadata": {},
   "outputs": [],
   "source": []
  }
 ],
 "metadata": {
  "kernelspec": {
   "display_name": "Python 3 (ipykernel)",
   "language": "python",
   "name": "python3"
  },
  "language_info": {
   "codemirror_mode": {
    "name": "ipython",
    "version": 3
   },
   "file_extension": ".py",
   "mimetype": "text/x-python",
   "name": "python",
   "nbconvert_exporter": "python",
   "pygments_lexer": "ipython3",
   "version": "3.9.7"
  }
 },
 "nbformat": 4,
 "nbformat_minor": 5
}
