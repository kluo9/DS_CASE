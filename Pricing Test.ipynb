{
 "cells": [
  {
   "cell_type": "code",
   "execution_count": 1,
   "id": "ed4768dd",
   "metadata": {},
   "outputs": [],
   "source": [
    "import  warnings\n",
    "warnings.simplefilter('ignore')\n",
    "\n",
    "import numpy as np\n",
    "import pandas as pd\n",
    "import seaborn as sns\n",
    "import matplotlib.pyplot as plt\n",
    "from scipy.stats import ttest_ind\n",
    "\n",
    "%matplotlib inline"
   ]
  },
  {
   "cell_type": "code",
   "execution_count": 2,
   "id": "4414837b",
   "metadata": {},
   "outputs": [
    {
     "data": {
      "text/html": [
       "<div>\n",
       "<style scoped>\n",
       "    .dataframe tbody tr th:only-of-type {\n",
       "        vertical-align: middle;\n",
       "    }\n",
       "\n",
       "    .dataframe tbody tr th {\n",
       "        vertical-align: top;\n",
       "    }\n",
       "\n",
       "    .dataframe thead th {\n",
       "        text-align: right;\n",
       "    }\n",
       "</style>\n",
       "<table border=\"1\" class=\"dataframe\">\n",
       "  <thead>\n",
       "    <tr style=\"text-align: right;\">\n",
       "      <th></th>\n",
       "      <th>user_id</th>\n",
       "      <th>city</th>\n",
       "      <th>country</th>\n",
       "      <th>lat</th>\n",
       "      <th>long</th>\n",
       "    </tr>\n",
       "  </thead>\n",
       "  <tbody>\n",
       "    <tr>\n",
       "      <th>0</th>\n",
       "      <td>510335</td>\n",
       "      <td>Peabody</td>\n",
       "      <td>USA</td>\n",
       "      <td>42.53</td>\n",
       "      <td>-70.97</td>\n",
       "    </tr>\n",
       "    <tr>\n",
       "      <th>1</th>\n",
       "      <td>89568</td>\n",
       "      <td>Reno</td>\n",
       "      <td>USA</td>\n",
       "      <td>39.54</td>\n",
       "      <td>-119.82</td>\n",
       "    </tr>\n",
       "    <tr>\n",
       "      <th>2</th>\n",
       "      <td>434134</td>\n",
       "      <td>Rialto</td>\n",
       "      <td>USA</td>\n",
       "      <td>34.11</td>\n",
       "      <td>-117.39</td>\n",
       "    </tr>\n",
       "    <tr>\n",
       "      <th>3</th>\n",
       "      <td>289769</td>\n",
       "      <td>Carson City</td>\n",
       "      <td>USA</td>\n",
       "      <td>39.15</td>\n",
       "      <td>-119.74</td>\n",
       "    </tr>\n",
       "    <tr>\n",
       "      <th>4</th>\n",
       "      <td>939586</td>\n",
       "      <td>Chicago</td>\n",
       "      <td>USA</td>\n",
       "      <td>41.84</td>\n",
       "      <td>-87.68</td>\n",
       "    </tr>\n",
       "  </tbody>\n",
       "</table>\n",
       "</div>"
      ],
      "text/plain": [
       "   user_id         city country    lat    long\n",
       "0   510335      Peabody     USA  42.53  -70.97\n",
       "1    89568         Reno     USA  39.54 -119.82\n",
       "2   434134       Rialto     USA  34.11 -117.39\n",
       "3   289769  Carson City     USA  39.15 -119.74\n",
       "4   939586      Chicago     USA  41.84  -87.68"
      ]
     },
     "execution_count": 2,
     "metadata": {},
     "output_type": "execute_result"
    }
   ],
   "source": [
    "user_table = pd.read_csv(\"/Users/kexinluo/Desktop/DS_take_home/6.Pricing_Test/user_table.csv\")\n",
    "user_table.head()"
   ]
  },
  {
   "cell_type": "code",
   "execution_count": 3,
   "id": "c9015c86",
   "metadata": {},
   "outputs": [
    {
     "name": "stdout",
     "output_type": "stream",
     "text": [
      "<class 'pandas.core.frame.DataFrame'>\n",
      "RangeIndex: 275616 entries, 0 to 275615\n",
      "Data columns (total 5 columns):\n",
      " #   Column   Non-Null Count   Dtype  \n",
      "---  ------   --------------   -----  \n",
      " 0   user_id  275616 non-null  int64  \n",
      " 1   city     275616 non-null  object \n",
      " 2   country  275616 non-null  object \n",
      " 3   lat      275616 non-null  float64\n",
      " 4   long     275616 non-null  float64\n",
      "dtypes: float64(2), int64(1), object(2)\n",
      "memory usage: 10.5+ MB\n"
     ]
    }
   ],
   "source": [
    "user_table.info()"
   ]
  },
  {
   "cell_type": "code",
   "execution_count": 4,
   "id": "c7dfcbd0",
   "metadata": {},
   "outputs": [
    {
     "data": {
      "text/plain": [
       "user_id    0\n",
       "city       0\n",
       "country    0\n",
       "lat        0\n",
       "long       0\n",
       "dtype: int64"
      ]
     },
     "execution_count": 4,
     "metadata": {},
     "output_type": "execute_result"
    }
   ],
   "source": [
    "user_table.isnull().sum()"
   ]
  },
  {
   "cell_type": "code",
   "execution_count": 5,
   "id": "200bd236",
   "metadata": {},
   "outputs": [
    {
     "data": {
      "text/html": [
       "<div>\n",
       "<style scoped>\n",
       "    .dataframe tbody tr th:only-of-type {\n",
       "        vertical-align: middle;\n",
       "    }\n",
       "\n",
       "    .dataframe tbody tr th {\n",
       "        vertical-align: top;\n",
       "    }\n",
       "\n",
       "    .dataframe thead th {\n",
       "        text-align: right;\n",
       "    }\n",
       "</style>\n",
       "<table border=\"1\" class=\"dataframe\">\n",
       "  <thead>\n",
       "    <tr style=\"text-align: right;\">\n",
       "      <th></th>\n",
       "      <th>user_id</th>\n",
       "      <th>timestamp</th>\n",
       "      <th>source</th>\n",
       "      <th>device</th>\n",
       "      <th>operative_system</th>\n",
       "      <th>test</th>\n",
       "      <th>price</th>\n",
       "      <th>converted</th>\n",
       "    </tr>\n",
       "  </thead>\n",
       "  <tbody>\n",
       "    <tr>\n",
       "      <th>0</th>\n",
       "      <td>604839</td>\n",
       "      <td>2015-05-08 03:38:34</td>\n",
       "      <td>ads_facebook</td>\n",
       "      <td>mobile</td>\n",
       "      <td>iOS</td>\n",
       "      <td>0</td>\n",
       "      <td>39</td>\n",
       "      <td>0</td>\n",
       "    </tr>\n",
       "    <tr>\n",
       "      <th>1</th>\n",
       "      <td>624057</td>\n",
       "      <td>2015-05-10 21:08:46</td>\n",
       "      <td>seo-google</td>\n",
       "      <td>mobile</td>\n",
       "      <td>android</td>\n",
       "      <td>0</td>\n",
       "      <td>39</td>\n",
       "      <td>0</td>\n",
       "    </tr>\n",
       "    <tr>\n",
       "      <th>2</th>\n",
       "      <td>317970</td>\n",
       "      <td>2015-04-04 15:01:23</td>\n",
       "      <td>ads-bing</td>\n",
       "      <td>mobile</td>\n",
       "      <td>android</td>\n",
       "      <td>0</td>\n",
       "      <td>39</td>\n",
       "      <td>0</td>\n",
       "    </tr>\n",
       "    <tr>\n",
       "      <th>3</th>\n",
       "      <td>685636</td>\n",
       "      <td>2015-05-07 07:26:01</td>\n",
       "      <td>direct_traffic</td>\n",
       "      <td>mobile</td>\n",
       "      <td>iOS</td>\n",
       "      <td>1</td>\n",
       "      <td>59</td>\n",
       "      <td>0</td>\n",
       "    </tr>\n",
       "    <tr>\n",
       "      <th>4</th>\n",
       "      <td>820854</td>\n",
       "      <td>2015-05-24 11:04:40</td>\n",
       "      <td>ads_facebook</td>\n",
       "      <td>web</td>\n",
       "      <td>mac</td>\n",
       "      <td>0</td>\n",
       "      <td>39</td>\n",
       "      <td>0</td>\n",
       "    </tr>\n",
       "  </tbody>\n",
       "</table>\n",
       "</div>"
      ],
      "text/plain": [
       "   user_id            timestamp          source  device operative_system  \\\n",
       "0   604839  2015-05-08 03:38:34    ads_facebook  mobile              iOS   \n",
       "1   624057  2015-05-10 21:08:46      seo-google  mobile          android   \n",
       "2   317970  2015-04-04 15:01:23        ads-bing  mobile          android   \n",
       "3   685636  2015-05-07 07:26:01  direct_traffic  mobile              iOS   \n",
       "4   820854  2015-05-24 11:04:40    ads_facebook     web              mac   \n",
       "\n",
       "   test  price  converted  \n",
       "0     0     39          0  \n",
       "1     0     39          0  \n",
       "2     0     39          0  \n",
       "3     1     59          0  \n",
       "4     0     39          0  "
      ]
     },
     "execution_count": 5,
     "metadata": {},
     "output_type": "execute_result"
    }
   ],
   "source": [
    "test_results = pd.read_csv('/Users/kexinluo/Desktop/DS_take_home/6.Pricing_Test/test_results.csv', parse_dates=['timestamp'])\n",
    "test_results.head()"
   ]
  },
  {
   "cell_type": "code",
   "execution_count": 6,
   "id": "69ba17aa",
   "metadata": {},
   "outputs": [
    {
     "name": "stdout",
     "output_type": "stream",
     "text": [
      "<class 'pandas.core.frame.DataFrame'>\n",
      "RangeIndex: 316800 entries, 0 to 316799\n",
      "Data columns (total 8 columns):\n",
      " #   Column            Non-Null Count   Dtype \n",
      "---  ------            --------------   ----- \n",
      " 0   user_id           316800 non-null  int64 \n",
      " 1   timestamp         316800 non-null  object\n",
      " 2   source            316800 non-null  object\n",
      " 3   device            316800 non-null  object\n",
      " 4   operative_system  316800 non-null  object\n",
      " 5   test              316800 non-null  int64 \n",
      " 6   price             316800 non-null  int64 \n",
      " 7   converted         316800 non-null  int64 \n",
      "dtypes: int64(4), object(4)\n",
      "memory usage: 19.3+ MB\n"
     ]
    }
   ],
   "source": [
    "test_results.info()"
   ]
  },
  {
   "cell_type": "markdown",
   "id": "b7e740a2",
   "metadata": {},
   "source": [
    "# Data Processing and Cleaning"
   ]
  },
  {
   "cell_type": "code",
   "execution_count": 7,
   "id": "fca7a43a",
   "metadata": {},
   "outputs": [
    {
     "name": "stdout",
     "output_type": "stream",
     "text": [
      "user_table:\t (275616,)\n",
      "test_results:\t (316800,)\n"
     ]
    }
   ],
   "source": [
    "# check uniquess\n",
    "print('user_table:\\t', user_table['user_id'].unique().shape)\n",
    "print('test_results:\\t', test_results['user_id'].unique().shape)"
   ]
  },
  {
   "cell_type": "code",
   "execution_count": 8,
   "id": "21e6c107",
   "metadata": {},
   "outputs": [
    {
     "data": {
      "text/html": [
       "<div>\n",
       "<style scoped>\n",
       "    .dataframe tbody tr th:only-of-type {\n",
       "        vertical-align: middle;\n",
       "    }\n",
       "\n",
       "    .dataframe tbody tr th {\n",
       "        vertical-align: top;\n",
       "    }\n",
       "\n",
       "    .dataframe thead th {\n",
       "        text-align: right;\n",
       "    }\n",
       "</style>\n",
       "<table border=\"1\" class=\"dataframe\">\n",
       "  <thead>\n",
       "    <tr style=\"text-align: right;\">\n",
       "      <th></th>\n",
       "      <th>user_id</th>\n",
       "      <th>timestamp</th>\n",
       "      <th>source</th>\n",
       "      <th>device</th>\n",
       "      <th>operative_system</th>\n",
       "      <th>test</th>\n",
       "      <th>price</th>\n",
       "      <th>converted</th>\n",
       "      <th>city</th>\n",
       "      <th>country</th>\n",
       "      <th>lat</th>\n",
       "      <th>long</th>\n",
       "    </tr>\n",
       "  </thead>\n",
       "  <tbody>\n",
       "    <tr>\n",
       "      <th>0</th>\n",
       "      <td>604839</td>\n",
       "      <td>2015-05-08 03:38:34</td>\n",
       "      <td>ads_facebook</td>\n",
       "      <td>mobile</td>\n",
       "      <td>iOS</td>\n",
       "      <td>0</td>\n",
       "      <td>39</td>\n",
       "      <td>0</td>\n",
       "      <td>Buffalo</td>\n",
       "      <td>USA</td>\n",
       "      <td>42.89</td>\n",
       "      <td>-78.86</td>\n",
       "    </tr>\n",
       "    <tr>\n",
       "      <th>1</th>\n",
       "      <td>624057</td>\n",
       "      <td>2015-05-10 21:08:46</td>\n",
       "      <td>seo-google</td>\n",
       "      <td>mobile</td>\n",
       "      <td>android</td>\n",
       "      <td>0</td>\n",
       "      <td>39</td>\n",
       "      <td>0</td>\n",
       "      <td>Lakeville</td>\n",
       "      <td>USA</td>\n",
       "      <td>44.68</td>\n",
       "      <td>-93.24</td>\n",
       "    </tr>\n",
       "    <tr>\n",
       "      <th>2</th>\n",
       "      <td>317970</td>\n",
       "      <td>2015-04-04 15:01:23</td>\n",
       "      <td>ads-bing</td>\n",
       "      <td>mobile</td>\n",
       "      <td>android</td>\n",
       "      <td>0</td>\n",
       "      <td>39</td>\n",
       "      <td>0</td>\n",
       "      <td>Parma</td>\n",
       "      <td>USA</td>\n",
       "      <td>41.38</td>\n",
       "      <td>-81.73</td>\n",
       "    </tr>\n",
       "    <tr>\n",
       "      <th>3</th>\n",
       "      <td>685636</td>\n",
       "      <td>2015-05-07 07:26:01</td>\n",
       "      <td>direct_traffic</td>\n",
       "      <td>mobile</td>\n",
       "      <td>iOS</td>\n",
       "      <td>1</td>\n",
       "      <td>59</td>\n",
       "      <td>0</td>\n",
       "      <td>Fayetteville</td>\n",
       "      <td>USA</td>\n",
       "      <td>35.07</td>\n",
       "      <td>-78.90</td>\n",
       "    </tr>\n",
       "    <tr>\n",
       "      <th>4</th>\n",
       "      <td>820854</td>\n",
       "      <td>2015-05-24 11:04:40</td>\n",
       "      <td>ads_facebook</td>\n",
       "      <td>web</td>\n",
       "      <td>mac</td>\n",
       "      <td>0</td>\n",
       "      <td>39</td>\n",
       "      <td>0</td>\n",
       "      <td>Fishers</td>\n",
       "      <td>USA</td>\n",
       "      <td>39.95</td>\n",
       "      <td>-86.02</td>\n",
       "    </tr>\n",
       "  </tbody>\n",
       "</table>\n",
       "</div>"
      ],
      "text/plain": [
       "   user_id            timestamp          source  device operative_system  \\\n",
       "0   604839  2015-05-08 03:38:34    ads_facebook  mobile              iOS   \n",
       "1   624057  2015-05-10 21:08:46      seo-google  mobile          android   \n",
       "2   317970  2015-04-04 15:01:23        ads-bing  mobile          android   \n",
       "3   685636  2015-05-07 07:26:01  direct_traffic  mobile              iOS   \n",
       "4   820854  2015-05-24 11:04:40    ads_facebook     web              mac   \n",
       "\n",
       "   test  price  converted          city country    lat   long  \n",
       "0     0     39          0       Buffalo     USA  42.89 -78.86  \n",
       "1     0     39          0     Lakeville     USA  44.68 -93.24  \n",
       "2     0     39          0         Parma     USA  41.38 -81.73  \n",
       "3     1     59          0  Fayetteville     USA  35.07 -78.90  \n",
       "4     0     39          0       Fishers     USA  39.95 -86.02  "
      ]
     },
     "execution_count": 8,
     "metadata": {},
     "output_type": "execute_result"
    }
   ],
   "source": [
    "# merge test_results with user_table\n",
    "data = pd.merge(left=test_results, right=user_table, how='left', on='user_id')\n",
    "data.head()"
   ]
  },
  {
   "cell_type": "code",
   "execution_count": 9,
   "id": "4f46e5f4",
   "metadata": {},
   "outputs": [
    {
     "data": {
      "text/html": [
       "<div>\n",
       "<style scoped>\n",
       "    .dataframe tbody tr th:only-of-type {\n",
       "        vertical-align: middle;\n",
       "    }\n",
       "\n",
       "    .dataframe tbody tr th {\n",
       "        vertical-align: top;\n",
       "    }\n",
       "\n",
       "    .dataframe thead th {\n",
       "        text-align: right;\n",
       "    }\n",
       "</style>\n",
       "<table border=\"1\" class=\"dataframe\">\n",
       "  <thead>\n",
       "    <tr style=\"text-align: right;\">\n",
       "      <th></th>\n",
       "      <th></th>\n",
       "      <th>user_id</th>\n",
       "    </tr>\n",
       "    <tr>\n",
       "      <th>test</th>\n",
       "      <th>price</th>\n",
       "      <th></th>\n",
       "    </tr>\n",
       "  </thead>\n",
       "  <tbody>\n",
       "    <tr>\n",
       "      <th rowspan=\"2\" valign=\"top\">0</th>\n",
       "      <th>39</th>\n",
       "      <td>202517</td>\n",
       "    </tr>\n",
       "    <tr>\n",
       "      <th>59</th>\n",
       "      <td>210</td>\n",
       "    </tr>\n",
       "    <tr>\n",
       "      <th rowspan=\"2\" valign=\"top\">1</th>\n",
       "      <th>39</th>\n",
       "      <td>155</td>\n",
       "    </tr>\n",
       "    <tr>\n",
       "      <th>59</th>\n",
       "      <td>113918</td>\n",
       "    </tr>\n",
       "  </tbody>\n",
       "</table>\n",
       "</div>"
      ],
      "text/plain": [
       "            user_id\n",
       "test price         \n",
       "0    39      202517\n",
       "     59         210\n",
       "1    39         155\n",
       "     59      113918"
      ]
     },
     "execution_count": 9,
     "metadata": {},
     "output_type": "execute_result"
    }
   ],
   "source": [
    "# Problem with the data: test and price not match\n",
    "data[['price', 'test', 'user_id']].groupby(['test', 'price']).count()"
   ]
  },
  {
   "cell_type": "markdown",
   "id": "941e4dae",
   "metadata": {},
   "source": [
    "It seems that there are some problems with the data\n",
    "\n",
    "there are a small amount of users who are labelled with test=0 but actually see price 59\n",
    "there are a small amount of users who are labelled with test=1 but actually see price 39.\n",
    "Fortunately, they are only a very small portion of the whole dataset. The first step is to remove these problematic inputs."
   ]
  },
  {
   "cell_type": "code",
   "execution_count": 10,
   "id": "135daf5c",
   "metadata": {},
   "outputs": [],
   "source": [
    "# only keep the valid data\n",
    "data = data[((data['test']==0) & (data['price']==39)) | ((data['test']==1) & (data['price']==59))]"
   ]
  },
  {
   "cell_type": "code",
   "execution_count": 11,
   "id": "a0d66372",
   "metadata": {},
   "outputs": [],
   "source": [
    "# create new column called `revenue`\n",
    "data['revenue'] = data['converted'] * data['price']"
   ]
  },
  {
   "cell_type": "code",
   "execution_count": 12,
   "id": "b8110ac9",
   "metadata": {},
   "outputs": [
    {
     "data": {
      "text/html": [
       "<div>\n",
       "<style scoped>\n",
       "    .dataframe tbody tr th:only-of-type {\n",
       "        vertical-align: middle;\n",
       "    }\n",
       "\n",
       "    .dataframe tbody tr th {\n",
       "        vertical-align: top;\n",
       "    }\n",
       "\n",
       "    .dataframe thead th {\n",
       "        text-align: right;\n",
       "    }\n",
       "</style>\n",
       "<table border=\"1\" class=\"dataframe\">\n",
       "  <thead>\n",
       "    <tr style=\"text-align: right;\">\n",
       "      <th></th>\n",
       "      <th>user_id</th>\n",
       "      <th>timestamp</th>\n",
       "      <th>source</th>\n",
       "      <th>device</th>\n",
       "      <th>operative_system</th>\n",
       "      <th>test</th>\n",
       "      <th>price</th>\n",
       "      <th>converted</th>\n",
       "      <th>city</th>\n",
       "      <th>country</th>\n",
       "      <th>lat</th>\n",
       "      <th>long</th>\n",
       "      <th>revenue</th>\n",
       "    </tr>\n",
       "  </thead>\n",
       "  <tbody>\n",
       "    <tr>\n",
       "      <th>0</th>\n",
       "      <td>604839</td>\n",
       "      <td>2015-05-08 03:38:34</td>\n",
       "      <td>ads_facebook</td>\n",
       "      <td>mobile</td>\n",
       "      <td>iOS</td>\n",
       "      <td>0</td>\n",
       "      <td>39</td>\n",
       "      <td>0</td>\n",
       "      <td>Buffalo</td>\n",
       "      <td>USA</td>\n",
       "      <td>42.89</td>\n",
       "      <td>-78.86</td>\n",
       "      <td>0</td>\n",
       "    </tr>\n",
       "    <tr>\n",
       "      <th>1</th>\n",
       "      <td>624057</td>\n",
       "      <td>2015-05-10 21:08:46</td>\n",
       "      <td>seo-google</td>\n",
       "      <td>mobile</td>\n",
       "      <td>android</td>\n",
       "      <td>0</td>\n",
       "      <td>39</td>\n",
       "      <td>0</td>\n",
       "      <td>Lakeville</td>\n",
       "      <td>USA</td>\n",
       "      <td>44.68</td>\n",
       "      <td>-93.24</td>\n",
       "      <td>0</td>\n",
       "    </tr>\n",
       "    <tr>\n",
       "      <th>2</th>\n",
       "      <td>317970</td>\n",
       "      <td>2015-04-04 15:01:23</td>\n",
       "      <td>ads-bing</td>\n",
       "      <td>mobile</td>\n",
       "      <td>android</td>\n",
       "      <td>0</td>\n",
       "      <td>39</td>\n",
       "      <td>0</td>\n",
       "      <td>Parma</td>\n",
       "      <td>USA</td>\n",
       "      <td>41.38</td>\n",
       "      <td>-81.73</td>\n",
       "      <td>0</td>\n",
       "    </tr>\n",
       "    <tr>\n",
       "      <th>3</th>\n",
       "      <td>685636</td>\n",
       "      <td>2015-05-07 07:26:01</td>\n",
       "      <td>direct_traffic</td>\n",
       "      <td>mobile</td>\n",
       "      <td>iOS</td>\n",
       "      <td>1</td>\n",
       "      <td>59</td>\n",
       "      <td>0</td>\n",
       "      <td>Fayetteville</td>\n",
       "      <td>USA</td>\n",
       "      <td>35.07</td>\n",
       "      <td>-78.90</td>\n",
       "      <td>0</td>\n",
       "    </tr>\n",
       "    <tr>\n",
       "      <th>4</th>\n",
       "      <td>820854</td>\n",
       "      <td>2015-05-24 11:04:40</td>\n",
       "      <td>ads_facebook</td>\n",
       "      <td>web</td>\n",
       "      <td>mac</td>\n",
       "      <td>0</td>\n",
       "      <td>39</td>\n",
       "      <td>0</td>\n",
       "      <td>Fishers</td>\n",
       "      <td>USA</td>\n",
       "      <td>39.95</td>\n",
       "      <td>-86.02</td>\n",
       "      <td>0</td>\n",
       "    </tr>\n",
       "  </tbody>\n",
       "</table>\n",
       "</div>"
      ],
      "text/plain": [
       "   user_id            timestamp          source  device operative_system  \\\n",
       "0   604839  2015-05-08 03:38:34    ads_facebook  mobile              iOS   \n",
       "1   624057  2015-05-10 21:08:46      seo-google  mobile          android   \n",
       "2   317970  2015-04-04 15:01:23        ads-bing  mobile          android   \n",
       "3   685636  2015-05-07 07:26:01  direct_traffic  mobile              iOS   \n",
       "4   820854  2015-05-24 11:04:40    ads_facebook     web              mac   \n",
       "\n",
       "   test  price  converted          city country    lat   long  revenue  \n",
       "0     0     39          0       Buffalo     USA  42.89 -78.86        0  \n",
       "1     0     39          0     Lakeville     USA  44.68 -93.24        0  \n",
       "2     0     39          0         Parma     USA  41.38 -81.73        0  \n",
       "3     1     59          0  Fayetteville     USA  35.07 -78.90        0  \n",
       "4     0     39          0       Fishers     USA  39.95 -86.02        0  "
      ]
     },
     "execution_count": 12,
     "metadata": {},
     "output_type": "execute_result"
    }
   ],
   "source": [
    "data.head()"
   ]
  },
  {
   "cell_type": "code",
   "execution_count": 13,
   "id": "44a58c19",
   "metadata": {},
   "outputs": [
    {
     "data": {
      "text/plain": [
       "user_id                 0\n",
       "timestamp               0\n",
       "source                  0\n",
       "device                  0\n",
       "operative_system        0\n",
       "test                    0\n",
       "price                   0\n",
       "converted               0\n",
       "city                41141\n",
       "country             41141\n",
       "lat                 41141\n",
       "long                41141\n",
       "revenue                 0\n",
       "dtype: int64"
      ]
     },
     "execution_count": 13,
     "metadata": {},
     "output_type": "execute_result"
    }
   ],
   "source": [
    "data.isnull().sum()"
   ]
  },
  {
   "cell_type": "markdown",
   "id": "a135d241",
   "metadata": {},
   "source": [
    "# Visualization"
   ]
  },
  {
   "cell_type": "markdown",
   "id": "d84898ca",
   "metadata": {},
   "source": [
    "Now, let's check whether or not the test are totally randomized through simple visualization."
   ]
  },
  {
   "cell_type": "markdown",
   "id": "186d935e",
   "metadata": {},
   "source": [
    "## 1. Source"
   ]
  },
  {
   "cell_type": "code",
   "execution_count": 14,
   "id": "7dd572e0",
   "metadata": {},
   "outputs": [
    {
     "data": {
      "text/html": [
       "<div>\n",
       "<style scoped>\n",
       "    .dataframe tbody tr th:only-of-type {\n",
       "        vertical-align: middle;\n",
       "    }\n",
       "\n",
       "    .dataframe tbody tr th {\n",
       "        vertical-align: top;\n",
       "    }\n",
       "\n",
       "    .dataframe thead th {\n",
       "        text-align: right;\n",
       "    }\n",
       "</style>\n",
       "<table border=\"1\" class=\"dataframe\">\n",
       "  <thead>\n",
       "    <tr style=\"text-align: right;\">\n",
       "      <th></th>\n",
       "      <th>ads-bing</th>\n",
       "      <th>ads-google</th>\n",
       "      <th>ads-yahoo</th>\n",
       "      <th>ads_facebook</th>\n",
       "      <th>ads_other</th>\n",
       "      <th>direct_traffic</th>\n",
       "      <th>friend_referral</th>\n",
       "      <th>seo-bing</th>\n",
       "      <th>seo-google</th>\n",
       "      <th>seo-other</th>\n",
       "      <th>seo-yahoo</th>\n",
       "      <th>seo_facebook</th>\n",
       "    </tr>\n",
       "    <tr>\n",
       "      <th>test</th>\n",
       "      <th></th>\n",
       "      <th></th>\n",
       "      <th></th>\n",
       "      <th></th>\n",
       "      <th></th>\n",
       "      <th></th>\n",
       "      <th></th>\n",
       "      <th></th>\n",
       "      <th></th>\n",
       "      <th></th>\n",
       "      <th></th>\n",
       "      <th></th>\n",
       "    </tr>\n",
       "  </thead>\n",
       "  <tbody>\n",
       "    <tr>\n",
       "      <th>0</th>\n",
       "      <td>0.072014</td>\n",
       "      <td>0.186873</td>\n",
       "      <td>0.023761</td>\n",
       "      <td>0.168253</td>\n",
       "      <td>0.095083</td>\n",
       "      <td>0.191154</td>\n",
       "      <td>0.064790</td>\n",
       "      <td>0.006562</td>\n",
       "      <td>0.074502</td>\n",
       "      <td>0.029030</td>\n",
       "      <td>0.021509</td>\n",
       "      <td>0.066468</td>\n",
       "    </tr>\n",
       "    <tr>\n",
       "      <th>1</th>\n",
       "      <td>0.072394</td>\n",
       "      <td>0.188706</td>\n",
       "      <td>0.024219</td>\n",
       "      <td>0.169253</td>\n",
       "      <td>0.092786</td>\n",
       "      <td>0.189259</td>\n",
       "      <td>0.066337</td>\n",
       "      <td>0.007154</td>\n",
       "      <td>0.070753</td>\n",
       "      <td>0.029539</td>\n",
       "      <td>0.021814</td>\n",
       "      <td>0.067786</td>\n",
       "    </tr>\n",
       "  </tbody>\n",
       "</table>\n",
       "</div>"
      ],
      "text/plain": [
       "      ads-bing  ads-google  ads-yahoo  ads_facebook  ads_other  \\\n",
       "test                                                             \n",
       "0     0.072014    0.186873   0.023761      0.168253   0.095083   \n",
       "1     0.072394    0.188706   0.024219      0.169253   0.092786   \n",
       "\n",
       "      direct_traffic  friend_referral  seo-bing  seo-google  seo-other  \\\n",
       "test                                                                     \n",
       "0           0.191154         0.064790  0.006562    0.074502   0.029030   \n",
       "1           0.189259         0.066337  0.007154    0.070753   0.029539   \n",
       "\n",
       "      seo-yahoo  seo_facebook  \n",
       "test                           \n",
       "0      0.021509      0.066468  \n",
       "1      0.021814      0.067786  "
      ]
     },
     "execution_count": 14,
     "metadata": {},
     "output_type": "execute_result"
    }
   ],
   "source": [
    "# Check randominess\n",
    "tmp = data.groupby('test')['source'].apply(lambda x: x.value_counts(normalize=True)).unstack()\n",
    "tmp"
   ]
  },
  {
   "cell_type": "code",
   "execution_count": 15,
   "id": "bead1753",
   "metadata": {},
   "outputs": [
    {
     "data": {
      "image/png": "[encoded data removed]",
      "text/plain": [
       "<Figure size 864x432 with 1 Axes>"
      ]
     },
     "metadata": {
      "needs_background": "light"
     },
     "output_type": "display_data"
    }
   ],
   "source": [
    "fig, ax = plt.subplots(figsize=(12, 6))\n",
    "tmp.plot(kind='bar', ax=ax)\n",
    "plt.show()"
   ]
  },
  {
   "cell_type": "code",
   "execution_count": 16,
   "id": "939cabdf",
   "metadata": {},
   "outputs": [
    {
     "data": {
      "image/png": "[encoded data removed]",
      "text/plain": [
       "<Figure size 1296x432 with 2 Axes>"
      ]
     },
     "metadata": {
      "needs_background": "light"
     },
     "output_type": "display_data"
    }
   ],
   "source": [
    "# Visualization of source\n",
    "count = data[['source', 'test', 'revenue']].groupby(['source', 'test']).count().reset_index()\n",
    "count.loc[count['test'] == 1, 'revenue'] = count.loc[count['test'] == 1, 'revenue'] / 113918\n",
    "count.loc[count['test'] == 0, 'revenue'] = count.loc[count['test'] == 0, 'revenue'] / 202517\n",
    "\n",
    "fig, ax = plt.subplots(nrows=1, ncols=2, figsize=(18, 6))\n",
    "sns.barplot(x='source', y='revenue', hue='test', data=count, ax=ax[0])\n",
    "ax[0].set_title('Percentage Plot of Source', fontsize=16)\n",
    "\n",
    "sns.barplot(x='source', y='revenue', hue='test', data=data, ax=ax[1])\n",
    "ax[1].set_title('Mean Revenue vs. Source', fontsize=16)\n",
    "plt.tight_layout()\n",
    "plt.show()"
   ]
  },
  {
   "cell_type": "markdown",
   "id": "eecd2ed0",
   "metadata": {},
   "source": [
    "## 2. Device"
   ]
  },
  {
   "cell_type": "code",
   "execution_count": 17,
   "id": "46a9b20a",
   "metadata": {},
   "outputs": [
    {
     "data": {
      "text/html": [
       "<div>\n",
       "<style scoped>\n",
       "    .dataframe tbody tr th:only-of-type {\n",
       "        vertical-align: middle;\n",
       "    }\n",
       "\n",
       "    .dataframe tbody tr th {\n",
       "        vertical-align: top;\n",
       "    }\n",
       "\n",
       "    .dataframe thead th {\n",
       "        text-align: right;\n",
       "    }\n",
       "</style>\n",
       "<table border=\"1\" class=\"dataframe\">\n",
       "  <thead>\n",
       "    <tr style=\"text-align: right;\">\n",
       "      <th></th>\n",
       "      <th>mobile</th>\n",
       "      <th>web</th>\n",
       "    </tr>\n",
       "    <tr>\n",
       "      <th>test</th>\n",
       "      <th></th>\n",
       "      <th></th>\n",
       "    </tr>\n",
       "  </thead>\n",
       "  <tbody>\n",
       "    <tr>\n",
       "      <th>0</th>\n",
       "      <td>0.594365</td>\n",
       "      <td>0.405635</td>\n",
       "    </tr>\n",
       "    <tr>\n",
       "      <th>1</th>\n",
       "      <td>0.578469</td>\n",
       "      <td>0.421531</td>\n",
       "    </tr>\n",
       "  </tbody>\n",
       "</table>\n",
       "</div>"
      ],
      "text/plain": [
       "        mobile       web\n",
       "test                    \n",
       "0     0.594365  0.405635\n",
       "1     0.578469  0.421531"
      ]
     },
     "execution_count": 17,
     "metadata": {},
     "output_type": "execute_result"
    }
   ],
   "source": [
    "# Check randominess\n",
    "tmp = data.groupby('test')['device'].apply(lambda x: x.value_counts(normalize=True)).unstack()\n",
    "tmp"
   ]
  },
  {
   "cell_type": "code",
   "execution_count": 18,
   "id": "03efebef",
   "metadata": {},
   "outputs": [
    {
     "data": {
      "image/png": "[encoded data removed]",
      "text/plain": [
       "<Figure size 864x432 with 1 Axes>"
      ]
     },
     "metadata": {
      "needs_background": "light"
     },
     "output_type": "display_data"
    }
   ],
   "source": [
    "fig, ax = plt.subplots(figsize=(12, 6))\n",
    "tmp.plot(kind='bar', ax=ax)\n",
    "plt.show()"
   ]
  },
  {
   "cell_type": "code",
   "execution_count": 19,
   "id": "e5ad175e",
   "metadata": {},
   "outputs": [
    {
     "data": {
      "image/png": "[encoded data removed]",
      "text/plain": [
       "<Figure size 1296x432 with 2 Axes>"
      ]
     },
     "metadata": {
      "needs_background": "light"
     },
     "output_type": "display_data"
    }
   ],
   "source": [
    "# Visualization of device\n",
    "count = data[['device', 'test', 'revenue']].groupby(['device', 'test']).count().reset_index()\n",
    "count.loc[count['test'] == 1, 'revenue'] = count.loc[count['test'] == 1, 'revenue'] / 113918\n",
    "count.loc[count['test'] == 0, 'revenue'] = count.loc[count['test'] == 0, 'revenue'] / 202517\n",
    "\n",
    "fig, ax = plt.subplots(nrows=1, ncols=2, figsize=(18, 6))\n",
    "sns.barplot(x='device', y='revenue', hue='test', data=count, ax=ax[0])\n",
    "ax[0].set_title('Percentage Plot of Device', fontsize=16)\n",
    "\n",
    "sns.barplot(x='device', y='revenue', hue='test', data=data, ax=ax[1])\n",
    "ax[1].set_title('Mean Revenue vs. Device', fontsize=16)\n",
    "plt.tight_layout()\n",
    "plt.show()"
   ]
  },
  {
   "cell_type": "markdown",
   "id": "a06c4f6f",
   "metadata": {},
   "source": [
    "## 3. Operative System"
   ]
  },
  {
   "cell_type": "code",
   "execution_count": 20,
   "id": "eedd3569",
   "metadata": {},
   "outputs": [
    {
     "data": {
      "text/html": [
       "<div>\n",
       "<style scoped>\n",
       "    .dataframe tbody tr th:only-of-type {\n",
       "        vertical-align: middle;\n",
       "    }\n",
       "\n",
       "    .dataframe tbody tr th {\n",
       "        vertical-align: top;\n",
       "    }\n",
       "\n",
       "    .dataframe thead th {\n",
       "        text-align: right;\n",
       "    }\n",
       "</style>\n",
       "<table border=\"1\" class=\"dataframe\">\n",
       "  <thead>\n",
       "    <tr style=\"text-align: right;\">\n",
       "      <th></th>\n",
       "      <th>windows</th>\n",
       "      <th>iOS</th>\n",
       "      <th>android</th>\n",
       "      <th>mac</th>\n",
       "      <th>other</th>\n",
       "      <th>linux</th>\n",
       "    </tr>\n",
       "    <tr>\n",
       "      <th>test</th>\n",
       "      <th></th>\n",
       "      <th></th>\n",
       "      <th></th>\n",
       "      <th></th>\n",
       "      <th></th>\n",
       "      <th></th>\n",
       "    </tr>\n",
       "  </thead>\n",
       "  <tbody>\n",
       "    <tr>\n",
       "      <th>0</th>\n",
       "      <td>0.313638</td>\n",
       "      <td>0.305125</td>\n",
       "      <td>0.237891</td>\n",
       "      <td>0.080709</td>\n",
       "      <td>0.051754</td>\n",
       "      <td>0.010883</td>\n",
       "    </tr>\n",
       "    <tr>\n",
       "      <th>1</th>\n",
       "      <td>0.327718</td>\n",
       "      <td>0.294598</td>\n",
       "      <td>0.234318</td>\n",
       "      <td>0.076459</td>\n",
       "      <td>0.050001</td>\n",
       "      <td>0.016907</td>\n",
       "    </tr>\n",
       "  </tbody>\n",
       "</table>\n",
       "</div>"
      ],
      "text/plain": [
       "       windows       iOS   android       mac     other     linux\n",
       "test                                                            \n",
       "0     0.313638  0.305125  0.237891  0.080709  0.051754  0.010883\n",
       "1     0.327718  0.294598  0.234318  0.076459  0.050001  0.016907"
      ]
     },
     "execution_count": 20,
     "metadata": {},
     "output_type": "execute_result"
    }
   ],
   "source": [
    "# Check randominess\n",
    "tmp = data.groupby('test')['operative_system'].apply(lambda x: x.value_counts(normalize=True)).unstack()\n",
    "tmp"
   ]
  },
  {
   "cell_type": "code",
   "execution_count": 21,
   "id": "89425e52",
   "metadata": {},
   "outputs": [
    {
     "data": {
      "image/png": "[encoded data removed]",
      "text/plain": [
       "<Figure size 864x432 with 1 Axes>"
      ]
     },
     "metadata": {
      "needs_background": "light"
     },
     "output_type": "display_data"
    }
   ],
   "source": [
    "fig, ax = plt.subplots(figsize=(12, 6))\n",
    "tmp.plot(kind='bar', ax=ax)\n",
    "plt.show()"
   ]
  },
  {
   "cell_type": "code",
   "execution_count": 22,
   "id": "658e188f",
   "metadata": {},
   "outputs": [
    {
     "data": {
      "image/png": "[encoded data removed]",
      "text/plain": [
       "<Figure size 1296x432 with 2 Axes>"
      ]
     },
     "metadata": {
      "needs_background": "light"
     },
     "output_type": "display_data"
    }
   ],
   "source": [
    "# Visualization of operative system\n",
    "count = data[['operative_system', 'test', 'revenue']].groupby(['operative_system', 'test']).count().reset_index()\n",
    "count.loc[count['test'] == 1, 'revenue'] = count.loc[count['test'] == 1, 'revenue'] / 113918\n",
    "count.loc[count['test'] == 0, 'revenue'] = count.loc[count['test'] == 0, 'revenue'] / 202517\n",
    "\n",
    "fig, ax = plt.subplots(nrows=1, ncols=2, figsize=(18, 6))\n",
    "sns.barplot(x='operative_system', y='revenue', hue='test', data=count, ax=ax[0])\n",
    "ax[0].set_title('Percentage Plot of Operative System', fontsize=16)\n",
    "\n",
    "sns.barplot(x='operative_system', y='revenue', hue='test', data=data, ax=ax[1])\n",
    "ax[1].set_title('Mean Revenue vs. Operative System', fontsize=16)\n",
    "plt.tight_layout()\n",
    "plt.show()"
   ]
  },
  {
   "cell_type": "markdown",
   "id": "9acb7cc2",
   "metadata": {},
   "source": [
    "From above visualizations, we can see that the test is not  randomized, especially device and operative_system. These factors will influence the robostness of our final conclusions."
   ]
  },
  {
   "cell_type": "markdown",
   "id": "8d3b9e2a",
   "metadata": {},
   "source": [
    "# Question 1"
   ]
  },
  {
   "cell_type": "code",
   "execution_count": 23,
   "id": "227f28f5",
   "metadata": {},
   "outputs": [
    {
     "data": {
      "text/html": [
       "<div>\n",
       "<style scoped>\n",
       "    .dataframe tbody tr th:only-of-type {\n",
       "        vertical-align: middle;\n",
       "    }\n",
       "\n",
       "    .dataframe tbody tr th {\n",
       "        vertical-align: top;\n",
       "    }\n",
       "\n",
       "    .dataframe thead th {\n",
       "        text-align: right;\n",
       "    }\n",
       "</style>\n",
       "<table border=\"1\" class=\"dataframe\">\n",
       "  <thead>\n",
       "    <tr style=\"text-align: right;\">\n",
       "      <th></th>\n",
       "      <th>converted</th>\n",
       "    </tr>\n",
       "    <tr>\n",
       "      <th>test</th>\n",
       "      <th></th>\n",
       "    </tr>\n",
       "  </thead>\n",
       "  <tbody>\n",
       "    <tr>\n",
       "      <th>0</th>\n",
       "      <td>0.019900</td>\n",
       "    </tr>\n",
       "    <tr>\n",
       "      <th>1</th>\n",
       "      <td>0.015555</td>\n",
       "    </tr>\n",
       "  </tbody>\n",
       "</table>\n",
       "</div>"
      ],
      "text/plain": [
       "      converted\n",
       "test           \n",
       "0      0.019900\n",
       "1      0.015555"
      ]
     },
     "execution_count": 23,
     "metadata": {},
     "output_type": "execute_result"
    }
   ],
   "source": [
    "# check the conversion rate for A/B test\n",
    "data[['test', 'converted']].groupby('test').mean()"
   ]
  },
  {
   "cell_type": "code",
   "execution_count": 24,
   "id": "ed485a45",
   "metadata": {},
   "outputs": [
    {
     "data": {
      "text/html": [
       "<div>\n",
       "<style scoped>\n",
       "    .dataframe tbody tr th:only-of-type {\n",
       "        vertical-align: middle;\n",
       "    }\n",
       "\n",
       "    .dataframe tbody tr th {\n",
       "        vertical-align: top;\n",
       "    }\n",
       "\n",
       "    .dataframe thead th {\n",
       "        text-align: right;\n",
       "    }\n",
       "</style>\n",
       "<table border=\"1\" class=\"dataframe\">\n",
       "  <thead>\n",
       "    <tr style=\"text-align: right;\">\n",
       "      <th></th>\n",
       "      <th>revenue</th>\n",
       "    </tr>\n",
       "    <tr>\n",
       "      <th>test</th>\n",
       "      <th></th>\n",
       "    </tr>\n",
       "  </thead>\n",
       "  <tbody>\n",
       "    <tr>\n",
       "      <th>0</th>\n",
       "      <td>0.776083</td>\n",
       "    </tr>\n",
       "    <tr>\n",
       "      <th>1</th>\n",
       "      <td>0.917748</td>\n",
       "    </tr>\n",
       "  </tbody>\n",
       "</table>\n",
       "</div>"
      ],
      "text/plain": [
       "       revenue\n",
       "test          \n",
       "0     0.776083\n",
       "1     0.917748"
      ]
     },
     "execution_count": 24,
     "metadata": {},
     "output_type": "execute_result"
    }
   ],
   "source": [
    "# check the revenue for A/B test\n",
    "data[['test', 'revenue']].groupby('test').mean()"
   ]
  },
  {
   "cell_type": "markdown",
   "id": "19cf9ab9",
   "metadata": {},
   "source": [
    "Clearly, for those with lower price $39, they have a higher conversion rate 1.99\\%. For those with higher price $59, the conversion rate is 1.556\\%. However, considering the price, the average revenue for higher price (0.917) is actually larger than the lower price (0.776)."
   ]
  },
  {
   "cell_type": "markdown",
   "id": "32b0ddc5",
   "metadata": {},
   "source": [
    "Now, let's conduct hypothesis testing.\n",
    "- Null hypothesis H0: experimental group's average revenue is equal to or less than control group's average revenue\n",
    "- Alternative hypothesis H1: experimental group's average revenue is higher than control group's average revenue"
   ]
  },
  {
   "cell_type": "code",
   "execution_count": 25,
   "id": "5a6f926e",
   "metadata": {},
   "outputs": [
    {
     "name": "stdout",
     "output_type": "stream",
     "text": [
      "Ttest_indResult(statistic=-5.715224666463108, pvalue=1.0972577312420781e-08)\n"
     ]
    }
   ],
   "source": [
    "ctr_val = data[data['test'] == 0]['revenue'].values\n",
    "exp_val = data[data['test'] == 1]['revenue'].values\n",
    "print(ttest_ind(ctr_val, exp_val, axis=0, equal_var=False))"
   ]
  },
  {
   "cell_type": "markdown",
   "id": "27fc5c2f",
   "metadata": {},
   "source": [
    "The above test is actually two tailed test. What we want is one-tailed test. However, from above result, we can easily conclude that even for one-tailed test, we can safely conclude that we can reject the null hypothesis, and conclude that experimental group's average revenue is higher than control group's average revenue."
   ]
  },
  {
   "cell_type": "markdown",
   "id": "9ab342e4",
   "metadata": {},
   "source": [
    "Although our test suggest that $59 price can give us higher average revenue. However, due to the problem with the A/B test, the above result is not scientifically accurate. More scientific A/B test is needed."
   ]
  },
  {
   "cell_type": "markdown",
   "id": "3ae94a95",
   "metadata": {},
   "source": [
    "# Question 2"
   ]
  },
  {
   "cell_type": "markdown",
   "id": "a3d4a0f9",
   "metadata": {},
   "source": [
    "## 1. Source"
   ]
  },
  {
   "cell_type": "code",
   "execution_count": 26,
   "id": "0e6ac623",
   "metadata": {},
   "outputs": [
    {
     "data": {
      "text/html": [
       "<div>\n",
       "<style scoped>\n",
       "    .dataframe tbody tr th:only-of-type {\n",
       "        vertical-align: middle;\n",
       "    }\n",
       "\n",
       "    .dataframe tbody tr th {\n",
       "        vertical-align: top;\n",
       "    }\n",
       "\n",
       "    .dataframe thead th {\n",
       "        text-align: right;\n",
       "    }\n",
       "</style>\n",
       "<table border=\"1\" class=\"dataframe\">\n",
       "  <thead>\n",
       "    <tr style=\"text-align: right;\">\n",
       "      <th></th>\n",
       "      <th>source</th>\n",
       "      <th>converted</th>\n",
       "    </tr>\n",
       "  </thead>\n",
       "  <tbody>\n",
       "    <tr>\n",
       "      <th>0</th>\n",
       "      <td>ads-bing</td>\n",
       "      <td>0.012001</td>\n",
       "    </tr>\n",
       "    <tr>\n",
       "      <th>1</th>\n",
       "      <td>ads-google</td>\n",
       "      <td>0.021502</td>\n",
       "    </tr>\n",
       "    <tr>\n",
       "      <th>2</th>\n",
       "      <td>ads-yahoo</td>\n",
       "      <td>0.014793</td>\n",
       "    </tr>\n",
       "    <tr>\n",
       "      <th>3</th>\n",
       "      <td>ads_facebook</td>\n",
       "      <td>0.021198</td>\n",
       "    </tr>\n",
       "    <tr>\n",
       "      <th>4</th>\n",
       "      <td>ads_other</td>\n",
       "      <td>0.014350</td>\n",
       "    </tr>\n",
       "    <tr>\n",
       "      <th>5</th>\n",
       "      <td>direct_traffic</td>\n",
       "      <td>0.012294</td>\n",
       "    </tr>\n",
       "    <tr>\n",
       "      <th>6</th>\n",
       "      <td>friend_referral</td>\n",
       "      <td>0.038688</td>\n",
       "    </tr>\n",
       "    <tr>\n",
       "      <th>7</th>\n",
       "      <td>seo-bing</td>\n",
       "      <td>0.023787</td>\n",
       "    </tr>\n",
       "    <tr>\n",
       "      <th>8</th>\n",
       "      <td>seo-google</td>\n",
       "      <td>0.016978</td>\n",
       "    </tr>\n",
       "    <tr>\n",
       "      <th>9</th>\n",
       "      <td>seo-other</td>\n",
       "      <td>0.015686</td>\n",
       "    </tr>\n",
       "    <tr>\n",
       "      <th>10</th>\n",
       "      <td>seo-yahoo</td>\n",
       "      <td>0.016226</td>\n",
       "    </tr>\n",
       "    <tr>\n",
       "      <th>11</th>\n",
       "      <td>seo_facebook</td>\n",
       "      <td>0.016051</td>\n",
       "    </tr>\n",
       "  </tbody>\n",
       "</table>\n",
       "</div>"
      ],
      "text/plain": [
       "             source  converted\n",
       "0          ads-bing   0.012001\n",
       "1        ads-google   0.021502\n",
       "2         ads-yahoo   0.014793\n",
       "3      ads_facebook   0.021198\n",
       "4         ads_other   0.014350\n",
       "5    direct_traffic   0.012294\n",
       "6   friend_referral   0.038688\n",
       "7          seo-bing   0.023787\n",
       "8        seo-google   0.016978\n",
       "9         seo-other   0.015686\n",
       "10        seo-yahoo   0.016226\n",
       "11     seo_facebook   0.016051"
      ]
     },
     "execution_count": 26,
     "metadata": {},
     "output_type": "execute_result"
    }
   ],
   "source": [
    "data.groupby('source')['converted'].mean().reset_index()"
   ]
  },
  {
   "cell_type": "code",
   "execution_count": 27,
   "id": "d7d3a875",
   "metadata": {},
   "outputs": [
    {
     "data": {
      "image/png": "[encoded data removed]",
      "text/plain": [
       "<Figure size 1152x432 with 1 Axes>"
      ]
     },
     "metadata": {
      "needs_background": "light"
     },
     "output_type": "display_data"
    }
   ],
   "source": [
    "# Visualization of source\n",
    "fig, ax = plt.subplots(figsize=(16, 6))\n",
    "sns.barplot(x='source', y='converted', data=data, ax=ax)\n",
    "ax.set_title('Mean Conversion Rate vs. Source', fontsize=16)\n",
    "plt.show()"
   ]
  },
  {
   "cell_type": "code",
   "execution_count": 28,
   "id": "a66617c0",
   "metadata": {},
   "outputs": [
    {
     "data": {
      "image/png": "[encoded data removed]",
      "text/plain": [
       "<Figure size 1152x432 with 1 Axes>"
      ]
     },
     "metadata": {
      "needs_background": "light"
     },
     "output_type": "display_data"
    }
   ],
   "source": [
    "# Visualization of source\n",
    "fig, ax = plt.subplots(figsize=(16, 6))\n",
    "sns.barplot(x='source', y='converted', hue='test', data=data, ax=ax)\n",
    "ax.set_title('Mean Conversion Rate vs. Source', fontsize=16)\n",
    "plt.show()"
   ]
  },
  {
   "cell_type": "markdown",
   "id": "d9b65e7f",
   "metadata": {},
   "source": [
    "## 2. Device"
   ]
  },
  {
   "cell_type": "code",
   "execution_count": 29,
   "id": "6591c069",
   "metadata": {},
   "outputs": [
    {
     "data": {
      "text/html": [
       "<div>\n",
       "<style scoped>\n",
       "    .dataframe tbody tr th:only-of-type {\n",
       "        vertical-align: middle;\n",
       "    }\n",
       "\n",
       "    .dataframe tbody tr th {\n",
       "        vertical-align: top;\n",
       "    }\n",
       "\n",
       "    .dataframe thead th {\n",
       "        text-align: right;\n",
       "    }\n",
       "</style>\n",
       "<table border=\"1\" class=\"dataframe\">\n",
       "  <thead>\n",
       "    <tr style=\"text-align: right;\">\n",
       "      <th></th>\n",
       "      <th>device</th>\n",
       "      <th>converted</th>\n",
       "    </tr>\n",
       "  </thead>\n",
       "  <tbody>\n",
       "    <tr>\n",
       "      <th>0</th>\n",
       "      <td>mobile</td>\n",
       "      <td>0.018554</td>\n",
       "    </tr>\n",
       "    <tr>\n",
       "      <th>1</th>\n",
       "      <td>web</td>\n",
       "      <td>0.018023</td>\n",
       "    </tr>\n",
       "  </tbody>\n",
       "</table>\n",
       "</div>"
      ],
      "text/plain": [
       "   device  converted\n",
       "0  mobile   0.018554\n",
       "1     web   0.018023"
      ]
     },
     "execution_count": 29,
     "metadata": {},
     "output_type": "execute_result"
    }
   ],
   "source": [
    "data.groupby('device')['converted'].mean().reset_index()"
   ]
  },
  {
   "cell_type": "code",
   "execution_count": 30,
   "id": "a2836771",
   "metadata": {},
   "outputs": [
    {
     "data": {
      "image/png": "[encoded data removed]",
      "text/plain": [
       "<Figure size 864x432 with 1 Axes>"
      ]
     },
     "metadata": {
      "needs_background": "light"
     },
     "output_type": "display_data"
    }
   ],
   "source": [
    "# Visualization of device\n",
    "fig, ax = plt.subplots(figsize=(12, 6))\n",
    "sns.barplot(x='device', y='converted', data=data, ax=ax)\n",
    "ax.set_title('Mean Conversion Rate vs. Device', fontsize=16)\n",
    "plt.show()"
   ]
  },
  {
   "cell_type": "code",
   "execution_count": 31,
   "id": "a2cd374f",
   "metadata": {},
   "outputs": [
    {
     "data": {
      "image/png": "[encoded data removed]",
      "text/plain": [
       "<Figure size 864x432 with 1 Axes>"
      ]
     },
     "metadata": {
      "needs_background": "light"
     },
     "output_type": "display_data"
    }
   ],
   "source": [
    "# Visualization of device\n",
    "fig, ax = plt.subplots(figsize=(12, 6))\n",
    "sns.barplot(x='device', y='converted', hue='test', data=data, ax=ax)\n",
    "ax.set_title('Mean Conversion Rate vs. Device', fontsize=16)\n",
    "plt.show()"
   ]
  },
  {
   "cell_type": "markdown",
   "id": "5622a99d",
   "metadata": {},
   "source": [
    "## 3. Operative System"
   ]
  },
  {
   "cell_type": "code",
   "execution_count": 32,
   "id": "73e3b695",
   "metadata": {},
   "outputs": [
    {
     "data": {
      "text/html": [
       "<div>\n",
       "<style scoped>\n",
       "    .dataframe tbody tr th:only-of-type {\n",
       "        vertical-align: middle;\n",
       "    }\n",
       "\n",
       "    .dataframe tbody tr th {\n",
       "        vertical-align: top;\n",
       "    }\n",
       "\n",
       "    .dataframe thead th {\n",
       "        text-align: right;\n",
       "    }\n",
       "</style>\n",
       "<table border=\"1\" class=\"dataframe\">\n",
       "  <thead>\n",
       "    <tr style=\"text-align: right;\">\n",
       "      <th></th>\n",
       "      <th>operative_system</th>\n",
       "      <th>converted</th>\n",
       "    </tr>\n",
       "  </thead>\n",
       "  <tbody>\n",
       "    <tr>\n",
       "      <th>0</th>\n",
       "      <td>android</td>\n",
       "      <td>0.014919</td>\n",
       "    </tr>\n",
       "    <tr>\n",
       "      <th>1</th>\n",
       "      <td>iOS</td>\n",
       "      <td>0.022328</td>\n",
       "    </tr>\n",
       "    <tr>\n",
       "      <th>2</th>\n",
       "      <td>linux</td>\n",
       "      <td>0.008232</td>\n",
       "    </tr>\n",
       "    <tr>\n",
       "      <th>3</th>\n",
       "      <td>mac</td>\n",
       "      <td>0.023987</td>\n",
       "    </tr>\n",
       "    <tr>\n",
       "      <th>4</th>\n",
       "      <td>other</td>\n",
       "      <td>0.012981</td>\n",
       "    </tr>\n",
       "    <tr>\n",
       "      <th>5</th>\n",
       "      <td>windows</td>\n",
       "      <td>0.016966</td>\n",
       "    </tr>\n",
       "  </tbody>\n",
       "</table>\n",
       "</div>"
      ],
      "text/plain": [
       "  operative_system  converted\n",
       "0          android   0.014919\n",
       "1              iOS   0.022328\n",
       "2            linux   0.008232\n",
       "3              mac   0.023987\n",
       "4            other   0.012981\n",
       "5          windows   0.016966"
      ]
     },
     "execution_count": 32,
     "metadata": {},
     "output_type": "execute_result"
    }
   ],
   "source": [
    "data.groupby('operative_system')['converted'].mean().reset_index()"
   ]
  },
  {
   "cell_type": "code",
   "execution_count": 33,
   "id": "db3174e8",
   "metadata": {},
   "outputs": [
    {
     "data": {
      "image/png": "[encoded data removed]",
      "text/plain": [
       "<Figure size 864x432 with 1 Axes>"
      ]
     },
     "metadata": {
      "needs_background": "light"
     },
     "output_type": "display_data"
    }
   ],
   "source": [
    "# Visualization of operative system\n",
    "fig, ax = plt.subplots(figsize=(12, 6))\n",
    "sns.barplot(x='operative_system', y='converted', data=data, ax=ax)\n",
    "ax.set_title('Mean Conversion Rate vs. Operative System', fontsize=16)\n",
    "plt.show()"
   ]
  },
  {
   "cell_type": "code",
   "execution_count": 34,
   "id": "371299a4",
   "metadata": {},
   "outputs": [
    {
     "data": {
      "image/png": "[encoded data removed]",
      "text/plain": [
       "<Figure size 864x432 with 1 Axes>"
      ]
     },
     "metadata": {
      "needs_background": "light"
     },
     "output_type": "display_data"
    }
   ],
   "source": [
    "# Visualization of operative system\n",
    "fig, ax = plt.subplots(figsize=(12, 6))\n",
    "sns.barplot(x='operative_system', y='converted', hue='test', data=data, ax=ax)\n",
    "ax.set_title('Mean Conversion Rate vs. Operative System', fontsize=16)\n",
    "plt.show()"
   ]
  },
  {
   "cell_type": "markdown",
   "id": "0e0b7da0",
   "metadata": {},
   "source": [
    "From above visualizations, we can easily conclude that price dramatically influence the conversion rate. But beside price, there are still other factors that can influence the conversion rate."
   ]
  },
  {
   "cell_type": "markdown",
   "id": "9830c130",
   "metadata": {},
   "source": [
    "- Source\n",
    " - Friend-referral users have much higher conversion rate\n",
    "- Device\n",
    " - The influence of device is not significant\n",
    "- Operative System\n",
    " - Mac and ios users have much higher conversion rate"
   ]
  },
  {
   "cell_type": "markdown",
   "id": "3ce7f1e9",
   "metadata": {},
   "source": [
    "## Actionable Insights (refer to online resource)"
   ]
  },
  {
   "cell_type": "markdown",
   "id": "641782b1",
   "metadata": {},
   "source": [
    "friend_referral, Apple user (MAC or iOS), low price are three great positive factors which improve the conversion rate if we want to increase the price, which impacts negatively on conversion rate, we must compensate on the other two factors\n",
    "\n"
   ]
  }
 ],
 "metadata": {
  "kernelspec": {
   "display_name": "Python 3 (ipykernel)",
   "language": "python",
   "name": "python3"
  },
  "language_info": {
   "codemirror_mode": {
    "name": "ipython",
    "version": 3
   },
   "file_extension": ".py",
   "mimetype": "text/x-python",
   "name": "python",
   "nbconvert_exporter": "python",
   "pygments_lexer": "ipython3",
   "version": "3.9.7"
  }
 },
 "nbformat": 4,
 "nbformat_minor": 5
}
