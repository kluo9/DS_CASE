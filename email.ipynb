{
 "cells": [
  {
   "cell_type": "code",
   "execution_count": 1,
   "id": "35da3129",
   "metadata": {},
   "outputs": [],
   "source": [
    "import warnings\n",
    "warnings.simplefilter('ignore')\n",
    "\n",
    "import numpy as np\n",
    "import pandas as pd\n",
    "import seaborn as sns\n",
    "import matplotlib.pyplot as plt\n",
    "from sklearn.metrics import auc, roc_curve, classification_report\n",
    "\n",
    "import h2o\n",
    "from h2o.frame import H2OFrame\n",
    "from h2o.estimators.random_forest import H2ORandomForestEstimator\n",
    "\n",
    "%matplotlib inline"
   ]
  },
  {
   "cell_type": "markdown",
   "id": "dd57398b",
   "metadata": {},
   "source": [
    "# Load Dataset"
   ]
  },
  {
   "cell_type": "code",
   "execution_count": 2,
   "id": "c9d91074",
   "metadata": {},
   "outputs": [
    {
     "data": {
      "text/html": [
       "<div>\n",
       "<style scoped>\n",
       "    .dataframe tbody tr th:only-of-type {\n",
       "        vertical-align: middle;\n",
       "    }\n",
       "\n",
       "    .dataframe tbody tr th {\n",
       "        vertical-align: top;\n",
       "    }\n",
       "\n",
       "    .dataframe thead th {\n",
       "        text-align: right;\n",
       "    }\n",
       "</style>\n",
       "<table border=\"1\" class=\"dataframe\">\n",
       "  <thead>\n",
       "    <tr style=\"text-align: right;\">\n",
       "      <th></th>\n",
       "      <th>email_id</th>\n",
       "      <th>email_text</th>\n",
       "      <th>email_version</th>\n",
       "      <th>hour</th>\n",
       "      <th>weekday</th>\n",
       "      <th>user_country</th>\n",
       "      <th>user_past_purchases</th>\n",
       "    </tr>\n",
       "  </thead>\n",
       "  <tbody>\n",
       "    <tr>\n",
       "      <th>0</th>\n",
       "      <td>85120</td>\n",
       "      <td>short_email</td>\n",
       "      <td>personalized</td>\n",
       "      <td>2</td>\n",
       "      <td>Sunday</td>\n",
       "      <td>US</td>\n",
       "      <td>5</td>\n",
       "    </tr>\n",
       "    <tr>\n",
       "      <th>1</th>\n",
       "      <td>966622</td>\n",
       "      <td>long_email</td>\n",
       "      <td>personalized</td>\n",
       "      <td>12</td>\n",
       "      <td>Sunday</td>\n",
       "      <td>UK</td>\n",
       "      <td>2</td>\n",
       "    </tr>\n",
       "    <tr>\n",
       "      <th>2</th>\n",
       "      <td>777221</td>\n",
       "      <td>long_email</td>\n",
       "      <td>personalized</td>\n",
       "      <td>11</td>\n",
       "      <td>Wednesday</td>\n",
       "      <td>US</td>\n",
       "      <td>2</td>\n",
       "    </tr>\n",
       "    <tr>\n",
       "      <th>3</th>\n",
       "      <td>493711</td>\n",
       "      <td>short_email</td>\n",
       "      <td>generic</td>\n",
       "      <td>6</td>\n",
       "      <td>Monday</td>\n",
       "      <td>UK</td>\n",
       "      <td>1</td>\n",
       "    </tr>\n",
       "    <tr>\n",
       "      <th>4</th>\n",
       "      <td>106887</td>\n",
       "      <td>long_email</td>\n",
       "      <td>generic</td>\n",
       "      <td>14</td>\n",
       "      <td>Monday</td>\n",
       "      <td>US</td>\n",
       "      <td>6</td>\n",
       "    </tr>\n",
       "  </tbody>\n",
       "</table>\n",
       "</div>"
      ],
      "text/plain": [
       "   email_id   email_text email_version  hour    weekday user_country  \\\n",
       "0     85120  short_email  personalized     2     Sunday           US   \n",
       "1    966622   long_email  personalized    12     Sunday           UK   \n",
       "2    777221   long_email  personalized    11  Wednesday           US   \n",
       "3    493711  short_email       generic     6     Monday           UK   \n",
       "4    106887   long_email       generic    14     Monday           US   \n",
       "\n",
       "   user_past_purchases  \n",
       "0                    5  \n",
       "1                    2  \n",
       "2                    2  \n",
       "3                    1  \n",
       "4                    6  "
      ]
     },
     "execution_count": 2,
     "metadata": {},
     "output_type": "execute_result"
    }
   ],
   "source": [
    "# read `email_table.csv`\n",
    "email_table = pd.read_csv('/Users/kexinluo/Desktop/DS_take_home/7.email/email_table.csv')\n",
    "email_table.head()"
   ]
  },
  {
   "cell_type": "code",
   "execution_count": 3,
   "id": "48ed9a48",
   "metadata": {},
   "outputs": [
    {
     "name": "stdout",
     "output_type": "stream",
     "text": [
      "<class 'pandas.core.frame.DataFrame'>\n",
      "RangeIndex: 100000 entries, 0 to 99999\n",
      "Data columns (total 7 columns):\n",
      " #   Column               Non-Null Count   Dtype \n",
      "---  ------               --------------   ----- \n",
      " 0   email_id             100000 non-null  int64 \n",
      " 1   email_text           100000 non-null  object\n",
      " 2   email_version        100000 non-null  object\n",
      " 3   hour                 100000 non-null  int64 \n",
      " 4   weekday              100000 non-null  object\n",
      " 5   user_country         100000 non-null  object\n",
      " 6   user_past_purchases  100000 non-null  int64 \n",
      "dtypes: int64(3), object(4)\n",
      "memory usage: 5.3+ MB\n"
     ]
    }
   ],
   "source": [
    "# basic information\n",
    "email_table.info()"
   ]
  },
  {
   "cell_type": "code",
   "execution_count": 4,
   "id": "3d5c95b6",
   "metadata": {},
   "outputs": [
    {
     "data": {
      "text/plain": [
       "email_id               0\n",
       "email_text             0\n",
       "email_version          0\n",
       "hour                   0\n",
       "weekday                0\n",
       "user_country           0\n",
       "user_past_purchases    0\n",
       "dtype: int64"
      ]
     },
     "execution_count": 4,
     "metadata": {},
     "output_type": "execute_result"
    }
   ],
   "source": [
    "# check missing values\n",
    "email_table.isnull().sum()"
   ]
  },
  {
   "cell_type": "code",
   "execution_count": 5,
   "id": "ea3f63a6",
   "metadata": {},
   "outputs": [
    {
     "data": {
      "text/html": [
       "<div>\n",
       "<style scoped>\n",
       "    .dataframe tbody tr th:only-of-type {\n",
       "        vertical-align: middle;\n",
       "    }\n",
       "\n",
       "    .dataframe tbody tr th {\n",
       "        vertical-align: top;\n",
       "    }\n",
       "\n",
       "    .dataframe thead th {\n",
       "        text-align: right;\n",
       "    }\n",
       "</style>\n",
       "<table border=\"1\" class=\"dataframe\">\n",
       "  <thead>\n",
       "    <tr style=\"text-align: right;\">\n",
       "      <th></th>\n",
       "      <th>email_id</th>\n",
       "    </tr>\n",
       "  </thead>\n",
       "  <tbody>\n",
       "    <tr>\n",
       "      <th>0</th>\n",
       "      <td>284534</td>\n",
       "    </tr>\n",
       "    <tr>\n",
       "      <th>1</th>\n",
       "      <td>609056</td>\n",
       "    </tr>\n",
       "    <tr>\n",
       "      <th>2</th>\n",
       "      <td>220820</td>\n",
       "    </tr>\n",
       "    <tr>\n",
       "      <th>3</th>\n",
       "      <td>905936</td>\n",
       "    </tr>\n",
       "    <tr>\n",
       "      <th>4</th>\n",
       "      <td>164034</td>\n",
       "    </tr>\n",
       "  </tbody>\n",
       "</table>\n",
       "</div>"
      ],
      "text/plain": [
       "   email_id\n",
       "0    284534\n",
       "1    609056\n",
       "2    220820\n",
       "3    905936\n",
       "4    164034"
      ]
     },
     "execution_count": 5,
     "metadata": {},
     "output_type": "execute_result"
    }
   ],
   "source": [
    "# read email_opened_table.csv\n",
    "email_opened = pd.read_csv('/Users/kexinluo/Desktop/DS_take_home/7.email/email_opened_table.csv')\n",
    "email_opened.head()"
   ]
  },
  {
   "cell_type": "code",
   "execution_count": 6,
   "id": "0bd4ce85",
   "metadata": {},
   "outputs": [
    {
     "name": "stdout",
     "output_type": "stream",
     "text": [
      "<class 'pandas.core.frame.DataFrame'>\n",
      "RangeIndex: 10345 entries, 0 to 10344\n",
      "Data columns (total 1 columns):\n",
      " #   Column    Non-Null Count  Dtype\n",
      "---  ------    --------------  -----\n",
      " 0   email_id  10345 non-null  int64\n",
      "dtypes: int64(1)\n",
      "memory usage: 80.9 KB\n"
     ]
    }
   ],
   "source": [
    "# basic information\n",
    "email_opened.info()"
   ]
  },
  {
   "cell_type": "code",
   "execution_count": 7,
   "id": "aa39fb18",
   "metadata": {},
   "outputs": [
    {
     "data": {
      "text/html": [
       "<div>\n",
       "<style scoped>\n",
       "    .dataframe tbody tr th:only-of-type {\n",
       "        vertical-align: middle;\n",
       "    }\n",
       "\n",
       "    .dataframe tbody tr th {\n",
       "        vertical-align: top;\n",
       "    }\n",
       "\n",
       "    .dataframe thead th {\n",
       "        text-align: right;\n",
       "    }\n",
       "</style>\n",
       "<table border=\"1\" class=\"dataframe\">\n",
       "  <thead>\n",
       "    <tr style=\"text-align: right;\">\n",
       "      <th></th>\n",
       "      <th>email_id</th>\n",
       "    </tr>\n",
       "  </thead>\n",
       "  <tbody>\n",
       "    <tr>\n",
       "      <th>0</th>\n",
       "      <td>609056</td>\n",
       "    </tr>\n",
       "    <tr>\n",
       "      <th>1</th>\n",
       "      <td>870980</td>\n",
       "    </tr>\n",
       "    <tr>\n",
       "      <th>2</th>\n",
       "      <td>935124</td>\n",
       "    </tr>\n",
       "    <tr>\n",
       "      <th>3</th>\n",
       "      <td>158501</td>\n",
       "    </tr>\n",
       "    <tr>\n",
       "      <th>4</th>\n",
       "      <td>177561</td>\n",
       "    </tr>\n",
       "  </tbody>\n",
       "</table>\n",
       "</div>"
      ],
      "text/plain": [
       "   email_id\n",
       "0    609056\n",
       "1    870980\n",
       "2    935124\n",
       "3    158501\n",
       "4    177561"
      ]
     },
     "execution_count": 7,
     "metadata": {},
     "output_type": "execute_result"
    }
   ],
   "source": [
    "# read link_clicked_table.csv\n",
    "link_table = pd.read_csv('/Users/kexinluo/Desktop/DS_take_home/7.email/link_clicked_table.csv')\n",
    "link_table.head()"
   ]
  },
  {
   "cell_type": "code",
   "execution_count": 8,
   "id": "05f967bd",
   "metadata": {},
   "outputs": [
    {
     "name": "stdout",
     "output_type": "stream",
     "text": [
      "<class 'pandas.core.frame.DataFrame'>\n",
      "RangeIndex: 2119 entries, 0 to 2118\n",
      "Data columns (total 1 columns):\n",
      " #   Column    Non-Null Count  Dtype\n",
      "---  ------    --------------  -----\n",
      " 0   email_id  2119 non-null   int64\n",
      "dtypes: int64(1)\n",
      "memory usage: 16.7 KB\n"
     ]
    }
   ],
   "source": [
    "# basic information\n",
    "link_table.info()"
   ]
  },
  {
   "cell_type": "code",
   "execution_count": 9,
   "id": "e198309c",
   "metadata": {},
   "outputs": [
    {
     "name": "stdout",
     "output_type": "stream",
     "text": [
      "email_table.csv:\t 100000\n",
      "email_opened_table.csv:\t 10345\n",
      "link_clicked_table.csv:\t 2119\n"
     ]
    }
   ],
   "source": [
    "# check uniqueness of email_id in three tables\n",
    "print('email_table.csv:\\t', len(email_table['email_id'].unique()))\n",
    "print('email_opened_table.csv:\\t', len(email_opened['email_id'].unique()))\n",
    "print('link_clicked_table.csv:\\t', len(link_table['email_id'].unique()))"
   ]
  },
  {
   "cell_type": "markdown",
   "id": "deba5c3e",
   "metadata": {},
   "source": [
    "# Data Processing"
   ]
  },
  {
   "cell_type": "code",
   "execution_count": 10,
   "id": "8faa508c",
   "metadata": {},
   "outputs": [
    {
     "data": {
      "text/html": [
       "<div>\n",
       "<style scoped>\n",
       "    .dataframe tbody tr th:only-of-type {\n",
       "        vertical-align: middle;\n",
       "    }\n",
       "\n",
       "    .dataframe tbody tr th {\n",
       "        vertical-align: top;\n",
       "    }\n",
       "\n",
       "    .dataframe thead th {\n",
       "        text-align: right;\n",
       "    }\n",
       "</style>\n",
       "<table border=\"1\" class=\"dataframe\">\n",
       "  <thead>\n",
       "    <tr style=\"text-align: right;\">\n",
       "      <th></th>\n",
       "      <th>email_id</th>\n",
       "      <th>email_text</th>\n",
       "      <th>email_version</th>\n",
       "      <th>hour</th>\n",
       "      <th>weekday</th>\n",
       "      <th>user_country</th>\n",
       "      <th>user_past_purchases</th>\n",
       "      <th>opened</th>\n",
       "      <th>clicked</th>\n",
       "    </tr>\n",
       "  </thead>\n",
       "  <tbody>\n",
       "    <tr>\n",
       "      <th>0</th>\n",
       "      <td>85120</td>\n",
       "      <td>short_email</td>\n",
       "      <td>personalized</td>\n",
       "      <td>2</td>\n",
       "      <td>Sunday</td>\n",
       "      <td>US</td>\n",
       "      <td>5</td>\n",
       "      <td>0</td>\n",
       "      <td>0</td>\n",
       "    </tr>\n",
       "    <tr>\n",
       "      <th>1</th>\n",
       "      <td>966622</td>\n",
       "      <td>long_email</td>\n",
       "      <td>personalized</td>\n",
       "      <td>12</td>\n",
       "      <td>Sunday</td>\n",
       "      <td>UK</td>\n",
       "      <td>2</td>\n",
       "      <td>1</td>\n",
       "      <td>1</td>\n",
       "    </tr>\n",
       "    <tr>\n",
       "      <th>2</th>\n",
       "      <td>777221</td>\n",
       "      <td>long_email</td>\n",
       "      <td>personalized</td>\n",
       "      <td>11</td>\n",
       "      <td>Wednesday</td>\n",
       "      <td>US</td>\n",
       "      <td>2</td>\n",
       "      <td>0</td>\n",
       "      <td>0</td>\n",
       "    </tr>\n",
       "    <tr>\n",
       "      <th>3</th>\n",
       "      <td>493711</td>\n",
       "      <td>short_email</td>\n",
       "      <td>generic</td>\n",
       "      <td>6</td>\n",
       "      <td>Monday</td>\n",
       "      <td>UK</td>\n",
       "      <td>1</td>\n",
       "      <td>0</td>\n",
       "      <td>0</td>\n",
       "    </tr>\n",
       "    <tr>\n",
       "      <th>4</th>\n",
       "      <td>106887</td>\n",
       "      <td>long_email</td>\n",
       "      <td>generic</td>\n",
       "      <td>14</td>\n",
       "      <td>Monday</td>\n",
       "      <td>US</td>\n",
       "      <td>6</td>\n",
       "      <td>0</td>\n",
       "      <td>0</td>\n",
       "    </tr>\n",
       "  </tbody>\n",
       "</table>\n",
       "</div>"
      ],
      "text/plain": [
       "   email_id   email_text email_version  hour    weekday user_country  \\\n",
       "0     85120  short_email  personalized     2     Sunday           US   \n",
       "1    966622   long_email  personalized    12     Sunday           UK   \n",
       "2    777221   long_email  personalized    11  Wednesday           US   \n",
       "3    493711  short_email       generic     6     Monday           UK   \n",
       "4    106887   long_email       generic    14     Monday           US   \n",
       "\n",
       "   user_past_purchases  opened  clicked  \n",
       "0                    5       0        0  \n",
       "1                    2       1        1  \n",
       "2                    2       0        0  \n",
       "3                    1       0        0  \n",
       "4                    6       0        0  "
      ]
     },
     "execution_count": 10,
     "metadata": {},
     "output_type": "execute_result"
    }
   ],
   "source": [
    "# create new columns `opened` and `clicked`\n",
    "email_opened['opened'] = 1\n",
    "link_table['clicked'] = 1\n",
    "data = pd.merge(left=email_table, right=email_opened, how='left', on='email_id')\n",
    "data = pd.merge(left=data, right=link_table, how='left', on='email_id')\n",
    "data = data.fillna(value=0)\n",
    "data['opened'] = data['opened'].astype(int)\n",
    "data['clicked'] = data['clicked'].astype(int)\n",
    "data.head()"
   ]
  },
  {
   "cell_type": "markdown",
   "id": "bb92376b",
   "metadata": {},
   "source": [
    "## Question 1"
   ]
  },
  {
   "cell_type": "code",
   "execution_count": 11,
   "id": "a8277ad9",
   "metadata": {},
   "outputs": [
    {
     "name": "stdout",
     "output_type": "stream",
     "text": [
      "Opened user percentage:    10.3450%\n",
      "Clicked user percentage:    2.1190%\n"
     ]
    }
   ],
   "source": [
    "print('{0:25s} {1:>8.4f}%'.format('Opened user percentage:', data['opened'].mean() * 100))\n",
    "print('{0:25s} {1:>8.4f}%'.format('Clicked user percentage:', data['clicked'].mean() * 100))"
   ]
  },
  {
   "cell_type": "markdown",
   "id": "f31c89f4",
   "metadata": {},
   "source": [
    "## Question 2"
   ]
  },
  {
   "cell_type": "code",
   "execution_count": 12,
   "id": "7a972145",
   "metadata": {},
   "outputs": [
    {
     "data": {
      "text/plain": [
       "clicked\n",
       "0    0.97881\n",
       "1    0.02119\n",
       "Name: email_id, dtype: float64"
      ]
     },
     "execution_count": 12,
     "metadata": {},
     "output_type": "execute_result"
    }
   ],
   "source": [
    "data.groupby('clicked')['email_id'].count() / len(data)"
   ]
  },
  {
   "cell_type": "markdown",
   "id": "a5262d9a",
   "metadata": {},
   "source": [
    "### Visualization of email_text"
   ]
  },
  {
   "cell_type": "code",
   "execution_count": 13,
   "id": "9d2be2ad",
   "metadata": {},
   "outputs": [
    {
     "data": {
      "image/png": "[encoded data removed]",
      "text/plain": [
       "<Figure size 1296x432 with 2 Axes>"
      ]
     },
     "metadata": {
      "needs_background": "light"
     },
     "output_type": "display_data"
    }
   ],
   "source": [
    "fig, ax = plt.subplots(nrows=1, ncols=2, figsize=(18, 6))\n",
    "sns.countplot(x='email_text', data=data, ax=ax[0])\n",
    "ax[0].set_xlabel('Email Text', fontsize=12)\n",
    "ax[0].set_ylabel('Count', fontsize=12)\n",
    "ax[0].set_title('Count Plot of Email Text', fontsize=16)\n",
    "\n",
    "sns.barplot(x='email_text', y='clicked', data=data, ax=ax[1])\n",
    "ax[1].set_xlabel('Email Text', fontsize=12)\n",
    "ax[1].set_ylabel('Click Through Rate', fontsize=12)\n",
    "ax[1].set_title('Click Through Rate vs. Email Text', fontsize=16)\n",
    "plt.tight_layout()\n",
    "plt.show()"
   ]
  },
  {
   "cell_type": "markdown",
   "id": "a62a02c6",
   "metadata": {},
   "source": [
    "### Visualization of email_version"
   ]
  },
  {
   "cell_type": "code",
   "execution_count": 14,
   "id": "1e45599b",
   "metadata": {},
   "outputs": [
    {
     "data": {
      "image/png": "[encoded data removed]",
      "text/plain": [
       "<Figure size 1296x432 with 2 Axes>"
      ]
     },
     "metadata": {
      "needs_background": "light"
     },
     "output_type": "display_data"
    }
   ],
   "source": [
    "fig, ax = plt.subplots(nrows=1, ncols=2, figsize=(18, 6))\n",
    "sns.countplot(x='email_version', data=data, ax=ax[0])\n",
    "ax[0].set_xlabel('Email Version', fontsize=12)\n",
    "ax[0].set_ylabel('Count', fontsize=12)\n",
    "ax[0].set_title('Count Plot of Email Version', fontsize=16)\n",
    "\n",
    "sns.barplot(x='email_version', y='clicked', data=data, ax=ax[1])\n",
    "ax[1].set_xlabel('Email Version', fontsize=12)\n",
    "ax[1].set_ylabel('Click Through Rate', fontsize=12)\n",
    "ax[1].set_title('Click Through Rate vs. Email Version', fontsize=16)\n",
    "plt.tight_layout()\n",
    "plt.show()"
   ]
  },
  {
   "cell_type": "markdown",
   "id": "e1e5e4bc",
   "metadata": {},
   "source": [
    "### Visualization of hour"
   ]
  },
  {
   "cell_type": "code",
   "execution_count": 15,
   "id": "4187f8ca",
   "metadata": {},
   "outputs": [
    {
     "data": {
      "image/png": "[encoded data removed]",
      "text/plain": [
       "<Figure size 1296x432 with 2 Axes>"
      ]
     },
     "metadata": {
      "needs_background": "light"
     },
     "output_type": "display_data"
    }
   ],
   "source": [
    "fig, ax = plt.subplots(nrows=1, ncols=2, figsize=(18, 6))\n",
    "sns.countplot(x='hour', data=data, ax=ax[0])\n",
    "ax[0].set_xlabel('Email Sent Hour', fontsize=12)\n",
    "ax[0].set_ylabel('Count', fontsize=12)\n",
    "ax[0].set_title('Count Plot of Email Sent Hour', fontsize=16)\n",
    "\n",
    "sns.barplot(x='hour', y='clicked', data=data, ax=ax[1])\n",
    "ax[1].set_xlabel('Email Sent Hour', fontsize=12)\n",
    "ax[1].set_ylabel('Click Through Rate', fontsize=12)\n",
    "ax[1].set_title('Click Through Rate vs. Email Sent Hour', fontsize=16)\n",
    "plt.tight_layout()\n",
    "plt.show()"
   ]
  },
  {
   "cell_type": "markdown",
   "id": "7574eaae",
   "metadata": {},
   "source": [
    "### Visualization of weekday"
   ]
  },
  {
   "cell_type": "code",
   "execution_count": 16,
   "id": "8d5ca0b7",
   "metadata": {},
   "outputs": [
    {
     "data": {
      "image/png": "[encoded data removed]",
      "text/plain": [
       "<Figure size 1296x432 with 2 Axes>"
      ]
     },
     "metadata": {
      "needs_background": "light"
     },
     "output_type": "display_data"
    }
   ],
   "source": [
    "fig, ax = plt.subplots(nrows=1, ncols=2, figsize=(18, 6))\n",
    "sns.countplot(x='weekday', data=data, ax=ax[0])\n",
    "ax[0].set_xlabel('Email Sent Weekday', fontsize=12)\n",
    "ax[0].set_ylabel('Count', fontsize=12)\n",
    "ax[0].set_title('Count Plot of Email Sent Weekday', fontsize=16)\n",
    "\n",
    "sns.barplot(x='weekday', y='clicked', data=data, ax=ax[1])\n",
    "ax[1].set_xlabel('Email Sent Weekday', fontsize=12)\n",
    "ax[1].set_ylabel('Click Through Rate', fontsize=12)\n",
    "ax[1].set_title('Click Through Rate vs. Email Sent Weekday', fontsize=16)\n",
    "plt.tight_layout()\n",
    "plt.show()"
   ]
  }
 ],
 "metadata": {
  "kernelspec": {
   "display_name": "Python 3 (ipykernel)",
   "language": "python",
   "name": "python3"
  },
  "language_info": {
   "codemirror_mode": {
    "name": "ipython",
    "version": 3
   },
   "file_extension": ".py",
   "mimetype": "text/x-python",
   "name": "python",
   "nbconvert_exporter": "python",
   "pygments_lexer": "ipython3",
   "version": "3.9.7"
  }
 },
 "nbformat": 4,
 "nbformat_minor": 5
}
