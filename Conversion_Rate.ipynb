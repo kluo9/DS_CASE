{
 "cells": [
  {
   "cell_type": "markdown",
   "id": "d570a43a",
   "metadata": {},
   "source": [
    "The goal of this challenge is to build a model that predicts conversion rate and, based on the model, come up with ideas to improve revenue."
   ]
  },
  {
   "cell_type": "code",
   "execution_count": 266,
   "id": "03328ca5",
   "metadata": {},
   "outputs": [],
   "source": [
    "# import modules\n",
    "import pandas as pd\n",
    "import numpy as np\n",
    "import matplotlib.pyplot as plt\n",
    "import seaborn as sns\n",
    "from sklearn.preprocessing import OneHotEncoder, StandardScaler\n",
    "from sklearn.model_selection import train_test_split, cross_validate\n",
    "from sklearn.ensemble import RandomForestClassifier\n",
    "from sklearn import metrics\n",
    "from sklearn.metrics import confusion_matrix, precision_score, recall_score, balanced_accuracy_score\n",
    "from sklearn.dummy import DummyClassifier\n",
    "from sklearn.pipeline import make_pipeline\n",
    "from sklearn.compose import make_column_selector as selector\n",
    "from sklearn.compose import make_column_transformer\n",
    "from sklearn.linear_model import LogisticRegression\n",
    "from imblearn.pipeline import make_pipeline as make_pipeline_with_sampler\n",
    "from imblearn.under_sampling import RandomUnderSampler\n",
    "from imblearn.ensemble import BalancedRandomForestClassifier"
   ]
  },
  {
   "cell_type": "code",
   "execution_count": 2,
   "id": "f26288f8",
   "metadata": {},
   "outputs": [
    {
     "data": {
      "text/html": [
       "<div>\n",
       "<style scoped>\n",
       "    .dataframe tbody tr th:only-of-type {\n",
       "        vertical-align: middle;\n",
       "    }\n",
       "\n",
       "    .dataframe tbody tr th {\n",
       "        vertical-align: top;\n",
       "    }\n",
       "\n",
       "    .dataframe thead th {\n",
       "        text-align: right;\n",
       "    }\n",
       "</style>\n",
       "<table border=\"1\" class=\"dataframe\">\n",
       "  <thead>\n",
       "    <tr style=\"text-align: right;\">\n",
       "      <th></th>\n",
       "      <th>country</th>\n",
       "      <th>age</th>\n",
       "      <th>new_user</th>\n",
       "      <th>source</th>\n",
       "      <th>total_pages_visited</th>\n",
       "      <th>converted</th>\n",
       "    </tr>\n",
       "  </thead>\n",
       "  <tbody>\n",
       "    <tr>\n",
       "      <th>0</th>\n",
       "      <td>UK</td>\n",
       "      <td>25</td>\n",
       "      <td>1</td>\n",
       "      <td>Ads</td>\n",
       "      <td>1</td>\n",
       "      <td>0</td>\n",
       "    </tr>\n",
       "    <tr>\n",
       "      <th>1</th>\n",
       "      <td>US</td>\n",
       "      <td>23</td>\n",
       "      <td>1</td>\n",
       "      <td>Seo</td>\n",
       "      <td>5</td>\n",
       "      <td>0</td>\n",
       "    </tr>\n",
       "    <tr>\n",
       "      <th>2</th>\n",
       "      <td>US</td>\n",
       "      <td>28</td>\n",
       "      <td>1</td>\n",
       "      <td>Seo</td>\n",
       "      <td>4</td>\n",
       "      <td>0</td>\n",
       "    </tr>\n",
       "    <tr>\n",
       "      <th>3</th>\n",
       "      <td>China</td>\n",
       "      <td>39</td>\n",
       "      <td>1</td>\n",
       "      <td>Seo</td>\n",
       "      <td>5</td>\n",
       "      <td>0</td>\n",
       "    </tr>\n",
       "    <tr>\n",
       "      <th>4</th>\n",
       "      <td>US</td>\n",
       "      <td>30</td>\n",
       "      <td>1</td>\n",
       "      <td>Seo</td>\n",
       "      <td>6</td>\n",
       "      <td>0</td>\n",
       "    </tr>\n",
       "  </tbody>\n",
       "</table>\n",
       "</div>"
      ],
      "text/plain": [
       "  country  age  new_user source  total_pages_visited  converted\n",
       "0      UK   25         1    Ads                    1          0\n",
       "1      US   23         1    Seo                    5          0\n",
       "2      US   28         1    Seo                    4          0\n",
       "3   China   39         1    Seo                    5          0\n",
       "4      US   30         1    Seo                    6          0"
      ]
     },
     "execution_count": 2,
     "metadata": {},
     "output_type": "execute_result"
    }
   ],
   "source": [
    "# read data\n",
    "conversion_data = pd.read_csv('/Users/kexinluo/Desktop/DS_take_home/1.conversion/conversion_data.csv')\n",
    "conversion_data.head()"
   ]
  },
  {
   "cell_type": "markdown",
   "id": "abfa99f9",
   "metadata": {},
   "source": [
    "# Data exploratory analysis and visualization"
   ]
  },
  {
   "cell_type": "code",
   "execution_count": 3,
   "id": "bfbca5e0",
   "metadata": {},
   "outputs": [
    {
     "name": "stdout",
     "output_type": "stream",
     "text": [
      "<class 'pandas.core.frame.DataFrame'>\n",
      "RangeIndex: 316200 entries, 0 to 316199\n",
      "Data columns (total 6 columns):\n",
      " #   Column               Non-Null Count   Dtype \n",
      "---  ------               --------------   ----- \n",
      " 0   country              316200 non-null  object\n",
      " 1   age                  316200 non-null  int64 \n",
      " 2   new_user             316200 non-null  int64 \n",
      " 3   source               316200 non-null  object\n",
      " 4   total_pages_visited  316200 non-null  int64 \n",
      " 5   converted            316200 non-null  int64 \n",
      "dtypes: int64(4), object(2)\n",
      "memory usage: 14.5+ MB\n",
      "None\n",
      "\n",
      "------------------------\n",
      "count of missing values of each column\n"
     ]
    },
    {
     "data": {
      "text/plain": [
       "country                0\n",
       "age                    0\n",
       "new_user               0\n",
       "source                 0\n",
       "total_pages_visited    0\n",
       "converted              0\n",
       "dtype: int64"
      ]
     },
     "execution_count": 3,
     "metadata": {},
     "output_type": "execute_result"
    }
   ],
   "source": [
    "print(conversion_data.info())\n",
    "# check for any missing values\n",
    "print('\\n------------------------')\n",
    "print('count of missing values of each column')\n",
    "conversion_data.isnull().sum()"
   ]
  },
  {
   "cell_type": "code",
   "execution_count": 4,
   "id": "c82d5871",
   "metadata": {},
   "outputs": [
    {
     "data": {
      "text/html": [
       "<div>\n",
       "<style scoped>\n",
       "    .dataframe tbody tr th:only-of-type {\n",
       "        vertical-align: middle;\n",
       "    }\n",
       "\n",
       "    .dataframe tbody tr th {\n",
       "        vertical-align: top;\n",
       "    }\n",
       "\n",
       "    .dataframe thead th {\n",
       "        text-align: right;\n",
       "    }\n",
       "</style>\n",
       "<table border=\"1\" class=\"dataframe\">\n",
       "  <thead>\n",
       "    <tr style=\"text-align: right;\">\n",
       "      <th></th>\n",
       "      <th>age</th>\n",
       "      <th>new_user</th>\n",
       "      <th>total_pages_visited</th>\n",
       "      <th>converted</th>\n",
       "    </tr>\n",
       "  </thead>\n",
       "  <tbody>\n",
       "    <tr>\n",
       "      <th>count</th>\n",
       "      <td>316200.000000</td>\n",
       "      <td>316200.000000</td>\n",
       "      <td>316200.000000</td>\n",
       "      <td>316200.000000</td>\n",
       "    </tr>\n",
       "    <tr>\n",
       "      <th>mean</th>\n",
       "      <td>30.569858</td>\n",
       "      <td>0.685465</td>\n",
       "      <td>4.872966</td>\n",
       "      <td>0.032258</td>\n",
       "    </tr>\n",
       "    <tr>\n",
       "      <th>std</th>\n",
       "      <td>8.271802</td>\n",
       "      <td>0.464331</td>\n",
       "      <td>3.341104</td>\n",
       "      <td>0.176685</td>\n",
       "    </tr>\n",
       "    <tr>\n",
       "      <th>min</th>\n",
       "      <td>17.000000</td>\n",
       "      <td>0.000000</td>\n",
       "      <td>1.000000</td>\n",
       "      <td>0.000000</td>\n",
       "    </tr>\n",
       "    <tr>\n",
       "      <th>25%</th>\n",
       "      <td>24.000000</td>\n",
       "      <td>0.000000</td>\n",
       "      <td>2.000000</td>\n",
       "      <td>0.000000</td>\n",
       "    </tr>\n",
       "    <tr>\n",
       "      <th>50%</th>\n",
       "      <td>30.000000</td>\n",
       "      <td>1.000000</td>\n",
       "      <td>4.000000</td>\n",
       "      <td>0.000000</td>\n",
       "    </tr>\n",
       "    <tr>\n",
       "      <th>75%</th>\n",
       "      <td>36.000000</td>\n",
       "      <td>1.000000</td>\n",
       "      <td>7.000000</td>\n",
       "      <td>0.000000</td>\n",
       "    </tr>\n",
       "    <tr>\n",
       "      <th>max</th>\n",
       "      <td>123.000000</td>\n",
       "      <td>1.000000</td>\n",
       "      <td>29.000000</td>\n",
       "      <td>1.000000</td>\n",
       "    </tr>\n",
       "  </tbody>\n",
       "</table>\n",
       "</div>"
      ],
      "text/plain": [
       "                 age       new_user  total_pages_visited      converted\n",
       "count  316200.000000  316200.000000        316200.000000  316200.000000\n",
       "mean       30.569858       0.685465             4.872966       0.032258\n",
       "std         8.271802       0.464331             3.341104       0.176685\n",
       "min        17.000000       0.000000             1.000000       0.000000\n",
       "25%        24.000000       0.000000             2.000000       0.000000\n",
       "50%        30.000000       1.000000             4.000000       0.000000\n",
       "75%        36.000000       1.000000             7.000000       0.000000\n",
       "max       123.000000       1.000000            29.000000       1.000000"
      ]
     },
     "execution_count": 4,
     "metadata": {},
     "output_type": "execute_result"
    }
   ],
   "source": [
    "# summary statistics of each column\n",
    "conversion_data.describe()\n",
    "# max age is likely wrong, need to remove unrealistic ages"
   ]
  },
  {
   "cell_type": "code",
   "execution_count": 5,
   "id": "30ff8d89",
   "metadata": {},
   "outputs": [
    {
     "data": {
      "text/html": [
       "<div>\n",
       "<style scoped>\n",
       "    .dataframe tbody tr th:only-of-type {\n",
       "        vertical-align: middle;\n",
       "    }\n",
       "\n",
       "    .dataframe tbody tr th {\n",
       "        vertical-align: top;\n",
       "    }\n",
       "\n",
       "    .dataframe thead th {\n",
       "        text-align: right;\n",
       "    }\n",
       "</style>\n",
       "<table border=\"1\" class=\"dataframe\">\n",
       "  <thead>\n",
       "    <tr style=\"text-align: right;\">\n",
       "      <th></th>\n",
       "      <th>country</th>\n",
       "      <th>age</th>\n",
       "      <th>new_user</th>\n",
       "      <th>source</th>\n",
       "      <th>total_pages_visited</th>\n",
       "      <th>converted</th>\n",
       "    </tr>\n",
       "  </thead>\n",
       "  <tbody>\n",
       "    <tr>\n",
       "      <th>90928</th>\n",
       "      <td>Germany</td>\n",
       "      <td>123</td>\n",
       "      <td>0</td>\n",
       "      <td>Seo</td>\n",
       "      <td>15</td>\n",
       "      <td>1</td>\n",
       "    </tr>\n",
       "    <tr>\n",
       "      <th>295581</th>\n",
       "      <td>UK</td>\n",
       "      <td>111</td>\n",
       "      <td>0</td>\n",
       "      <td>Ads</td>\n",
       "      <td>10</td>\n",
       "      <td>1</td>\n",
       "    </tr>\n",
       "  </tbody>\n",
       "</table>\n",
       "</div>"
      ],
      "text/plain": [
       "        country  age  new_user source  total_pages_visited  converted\n",
       "90928   Germany  123         0    Seo                   15          1\n",
       "295581       UK  111         0    Ads                   10          1"
      ]
     },
     "execution_count": 5,
     "metadata": {},
     "output_type": "execute_result"
    }
   ],
   "source": [
    "conversion_data[conversion_data['age'] > 90]"
   ]
  },
  {
   "cell_type": "code",
   "execution_count": 6,
   "id": "6a04a0aa",
   "metadata": {},
   "outputs": [],
   "source": [
    "conversion_data = conversion_data[conversion_data['age'] < 100]"
   ]
  },
  {
   "cell_type": "code",
   "execution_count": 7,
   "id": "e445cc20",
   "metadata": {},
   "outputs": [
    {
     "name": "stdout",
     "output_type": "stream",
     "text": [
      "country                  4\t ['China', 'Germany', 'UK', 'US']\n",
      "age                     58\t [17, 18, 19, 20, 21]\n",
      "new_user                 2\t [0, 1]\n",
      "source                   3\t ['Ads', 'Direct', 'Seo']\n",
      "total_pages_visited     29\t [1, 2, 3, 4, 5]\n",
      "converted                2\t [0, 1]\n"
     ]
    }
   ],
   "source": [
    "# for each column, find count of unique values and print the top 5 unique values\n",
    "for column in conversion_data.columns:\n",
    "    uniques = sorted(conversion_data[column].unique())\n",
    "    print('{0:20s} {1:5d}\\t'.format(column, len(uniques)), uniques[:5])"
   ]
  },
  {
   "cell_type": "code",
   "execution_count": 8,
   "id": "effb143d",
   "metadata": {},
   "outputs": [
    {
     "name": "stdout",
     "output_type": "stream",
     "text": [
      "US         0.563229\n",
      "China      0.242260\n",
      "UK         0.153224\n",
      "Germany    0.041287\n",
      "Name: country, dtype: float64\n",
      "\n",
      "\n",
      "1    0.685469\n",
      "0    0.314531\n",
      "Name: new_user, dtype: float64\n",
      "\n",
      "\n",
      "Seo       0.490323\n",
      "Ads       0.280644\n",
      "Direct    0.229034\n",
      "Name: source, dtype: float64\n",
      "\n",
      "\n",
      "0    0.967748\n",
      "1    0.032252\n",
      "Name: converted, dtype: float64\n"
     ]
    }
   ],
   "source": [
    "# check proportion of each category in country, new_user, source and converted\n",
    "print(conversion_data['country'].value_counts(normalize=True))\n",
    "print('\\n')\n",
    "print(conversion_data['new_user'].value_counts(normalize=True))\n",
    "print('\\n')\n",
    "print(conversion_data['source'].value_counts(normalize=True))\n",
    "\n",
    "print(conversion_data['converted'].value_counts(normalize=True))"
   ]
  },
  {
   "cell_type": "markdown",
   "id": "74c226f4",
   "metadata": {},
   "source": [
    "The target value 'converted' is highly imbalanced"
   ]
  },
  {
   "cell_type": "code",
   "execution_count": 9,
   "id": "c92e2ba7",
   "metadata": {},
   "outputs": [
    {
     "data": {
      "image/png": "[encoded data removed]",
      "text/plain": [
       "<Figure size 432x288 with 1 Axes>"
      ]
     },
     "metadata": {
      "needs_background": "light"
     },
     "output_type": "display_data"
    },
    {
     "data": {
      "image/png": "[encoded data removed]",
      "text/plain": [
       "<Figure size 432x288 with 1 Axes>"
      ]
     },
     "metadata": {
      "needs_background": "light"
     },
     "output_type": "display_data"
    }
   ],
   "source": [
    "# visualize the distribution of the continues variables\n",
    "plt.hist(conversion_data['age'])\n",
    "plt.title(\"age\")\n",
    "plt.show()\n",
    "\n",
    "plt.hist(conversion_data['total_pages_visited'])\n",
    "plt.title(\"total pages visited\")\n",
    "plt.show()"
   ]
  },
  {
   "cell_type": "code",
   "execution_count": 13,
   "id": "a05d5416",
   "metadata": {},
   "outputs": [
    {
     "name": "stdout",
     "output_type": "stream",
     "text": [
      "   country  converted\n",
      "0    China   0.001332\n",
      "1  Germany   0.062428\n",
      "2       UK   0.052612\n",
      "3       US   0.037801\n"
     ]
    },
    {
     "data": {
      "image/png": "[encoded data removed]",
      "text/plain": [
       "<Figure size 1296x432 with 2 Axes>"
      ]
     },
     "metadata": {
      "needs_background": "light"
     },
     "output_type": "display_data"
    }
   ],
   "source": [
    "# Visualize conversion rate of different countries\n",
    "grouped = conversion_data[['country', 'converted']].groupby('country').mean().reset_index()\n",
    "print(grouped)\n",
    "\n",
    "fig, ax = plt.subplots(nrows=1, ncols=2, figsize=(18, 6))\n",
    "sns.countplot(x='country', hue='converted', data=conversion_data, ax=ax[0])\n",
    "ax[0].set_title('Count Plot of Country', fontsize=16)\n",
    "ax[0].set_yscale('log')\n",
    "sns.barplot(x='country', y='converted', data=conversion_data, ax=ax[1]);\n",
    "ax[1].set_title('Mean Conversion Rate per Country', fontsize=16)\n",
    "plt.tight_layout()\n",
    "plt.show()"
   ]
  },
  {
   "cell_type": "markdown",
   "id": "46378797",
   "metadata": {},
   "source": [
    "The variable 'country' has a great impact on convertion rate. Specifically, China has a very low convertion rate and Germany has the highest convertion rate, though the proportion of Germany is very low. "
   ]
  },
  {
   "cell_type": "code",
   "execution_count": 14,
   "id": "982910bd",
   "metadata": {},
   "outputs": [
    {
     "name": "stdout",
     "output_type": "stream",
     "text": [
      "   new_user  converted\n",
      "0         0   0.071983\n",
      "1         1   0.014021\n"
     ]
    },
    {
     "data": {
      "image/png": "[encoded data removed]",
      "text/plain": [
       "<Figure size 1296x432 with 2 Axes>"
      ]
     },
     "metadata": {
      "needs_background": "light"
     },
     "output_type": "display_data"
    }
   ],
   "source": [
    "# Visualize conversion rate of different user types\n",
    "grouped = conversion_data[['new_user', 'converted']].groupby('new_user').mean().reset_index()\n",
    "print(grouped)\n",
    "\n",
    "fig, ax = plt.subplots(nrows=1, ncols=2, figsize=(18, 6))\n",
    "sns.countplot(x='new_user', hue='converted', data=conversion_data, ax=ax[0])\n",
    "ax[0].set_title('Count Plot of User Types', fontsize=16)\n",
    "ax[0].set_yscale('log')\n",
    "sns.barplot(x='new_user', y='converted', data=conversion_data, ax=ax[1]);\n",
    "ax[1].set_title('Mean Conversion Rate per User Type', fontsize=16)\n",
    "plt.tight_layout()\n",
    "plt.show()"
   ]
  },
  {
   "cell_type": "markdown",
   "id": "834bac63",
   "metadata": {},
   "source": [
    "New user seems to have a higher convertion rate than existing user."
   ]
  },
  {
   "cell_type": "code",
   "execution_count": 15,
   "id": "b93a0182",
   "metadata": {},
   "outputs": [
    {
     "name": "stdout",
     "output_type": "stream",
     "text": [
      "   source  converted\n",
      "0     Ads   0.034472\n",
      "1  Direct   0.028169\n",
      "2     Seo   0.032888\n"
     ]
    },
    {
     "data": {
      "image/png": "[encoded data removed]",
      "text/plain": [
       "<Figure size 1296x432 with 2 Axes>"
      ]
     },
     "metadata": {
      "needs_background": "light"
     },
     "output_type": "display_data"
    }
   ],
   "source": [
    "# Visualize conversion rate of different sources\n",
    "grouped = conversion_data[['source', 'converted']].groupby('source').mean().reset_index()\n",
    "print(grouped)\n",
    "\n",
    "fig, ax = plt.subplots(nrows=1, ncols=2, figsize=(18, 6))\n",
    "sns.countplot(x='source', hue='converted', data=conversion_data, ax=ax[0])\n",
    "ax[0].set_title('Count Plot of Different Sources', fontsize=16)\n",
    "ax[0].set_yscale('log')\n",
    "sns.barplot(x='source', y='converted', data=conversion_data, ax=ax[1]);\n",
    "ax[1].set_title('Mean Conversion Rate per Source', fontsize=16)\n",
    "plt.tight_layout()\n",
    "plt.show()"
   ]
  },
  {
   "cell_type": "markdown",
   "id": "2f4e86f8",
   "metadata": {},
   "source": [
    "The convertion rates over different marketing channels are very similar."
   ]
  },
  {
   "cell_type": "code",
   "execution_count": 50,
   "id": "3d39adce",
   "metadata": {},
   "outputs": [
    {
     "data": {
      "image/png": "[encoded data removed]",
      "text/plain": [
       "<Figure size 432x288 with 1 Axes>"
      ]
     },
     "metadata": {
      "needs_background": "light"
     },
     "output_type": "display_data"
    }
   ],
   "source": [
    "# Visualize conversion rate of age\n",
    "grouped = conversion_data[['age', 'converted']].groupby('age').mean().reset_index()\n",
    "plt.plot(grouped['age'], grouped['converted'], '.-')\n",
    "plt.title('Mean Conversion Rate vs. Age', fontsize=16)\n",
    "plt.xlabel('age')\n",
    "plt.ylabel('Mean convertion rate')\n",
    "plt.grid(True)\n",
    "plt.show()"
   ]
  },
  {
   "cell_type": "markdown",
   "id": "2388e5ec",
   "metadata": {},
   "source": [
    "The mean convertion rate declines with age, but there are some peaks around 55 to 60. "
   ]
  },
  {
   "cell_type": "code",
   "execution_count": 52,
   "id": "008f23ad",
   "metadata": {},
   "outputs": [
    {
     "data": {
      "image/png": "[encoded data removed]",
      "text/plain": [
       "<Figure size 432x288 with 1 Axes>"
      ]
     },
     "metadata": {
      "needs_background": "light"
     },
     "output_type": "display_data"
    }
   ],
   "source": [
    "# Visualize conversion rate of total_pages_visited\n",
    "grouped = conversion_data[['total_pages_visited', 'converted']].groupby('total_pages_visited').mean().reset_index()\n",
    "plt.plot(grouped['total_pages_visited'], grouped['converted'], '.-')\n",
    "plt.title('Mean Conversion Rate vs. total_pages_visited', fontsize=16)\n",
    "plt.xlabel('total_pages_visited')\n",
    "plt.ylabel('Mean convertion rate')\n",
    "plt.grid(True)\n",
    "plt.show()"
   ]
  },
  {
   "cell_type": "markdown",
   "id": "46a5d3d1",
   "metadata": {},
   "source": [
    "The mean convertion rate increases with total_pages_visited, but the trend is not linear."
   ]
  },
  {
   "cell_type": "markdown",
   "id": "c2c4e02d",
   "metadata": {},
   "source": [
    "# Data preprocessing"
   ]
  },
  {
   "cell_type": "markdown",
   "id": "e3d29a5f",
   "metadata": {},
   "source": [
    "Encode categorical variables into one-hot encoding"
   ]
  },
  {
   "cell_type": "code",
   "execution_count": 80,
   "id": "a7e64de7",
   "metadata": {},
   "outputs": [
    {
     "data": {
      "text/html": [
       "<div>\n",
       "<style scoped>\n",
       "    .dataframe tbody tr th:only-of-type {\n",
       "        vertical-align: middle;\n",
       "    }\n",
       "\n",
       "    .dataframe tbody tr th {\n",
       "        vertical-align: top;\n",
       "    }\n",
       "\n",
       "    .dataframe thead th {\n",
       "        text-align: right;\n",
       "    }\n",
       "</style>\n",
       "<table border=\"1\" class=\"dataframe\">\n",
       "  <thead>\n",
       "    <tr style=\"text-align: right;\">\n",
       "      <th></th>\n",
       "      <th>age</th>\n",
       "      <th>new_user</th>\n",
       "      <th>total_pages_visited</th>\n",
       "      <th>converted</th>\n",
       "      <th>China</th>\n",
       "      <th>Germany</th>\n",
       "      <th>UK</th>\n",
       "      <th>US</th>\n",
       "      <th>Ads</th>\n",
       "      <th>Direct</th>\n",
       "      <th>Seo</th>\n",
       "    </tr>\n",
       "  </thead>\n",
       "  <tbody>\n",
       "    <tr>\n",
       "      <th>0</th>\n",
       "      <td>25</td>\n",
       "      <td>1</td>\n",
       "      <td>1</td>\n",
       "      <td>0</td>\n",
       "      <td>0.0</td>\n",
       "      <td>0.0</td>\n",
       "      <td>1.0</td>\n",
       "      <td>0.0</td>\n",
       "      <td>1.0</td>\n",
       "      <td>0.0</td>\n",
       "      <td>0.0</td>\n",
       "    </tr>\n",
       "    <tr>\n",
       "      <th>1</th>\n",
       "      <td>23</td>\n",
       "      <td>1</td>\n",
       "      <td>5</td>\n",
       "      <td>0</td>\n",
       "      <td>0.0</td>\n",
       "      <td>0.0</td>\n",
       "      <td>0.0</td>\n",
       "      <td>1.0</td>\n",
       "      <td>0.0</td>\n",
       "      <td>0.0</td>\n",
       "      <td>1.0</td>\n",
       "    </tr>\n",
       "    <tr>\n",
       "      <th>2</th>\n",
       "      <td>28</td>\n",
       "      <td>1</td>\n",
       "      <td>4</td>\n",
       "      <td>0</td>\n",
       "      <td>0.0</td>\n",
       "      <td>0.0</td>\n",
       "      <td>0.0</td>\n",
       "      <td>1.0</td>\n",
       "      <td>0.0</td>\n",
       "      <td>0.0</td>\n",
       "      <td>1.0</td>\n",
       "    </tr>\n",
       "    <tr>\n",
       "      <th>3</th>\n",
       "      <td>39</td>\n",
       "      <td>1</td>\n",
       "      <td>5</td>\n",
       "      <td>0</td>\n",
       "      <td>1.0</td>\n",
       "      <td>0.0</td>\n",
       "      <td>0.0</td>\n",
       "      <td>0.0</td>\n",
       "      <td>0.0</td>\n",
       "      <td>0.0</td>\n",
       "      <td>1.0</td>\n",
       "    </tr>\n",
       "    <tr>\n",
       "      <th>4</th>\n",
       "      <td>30</td>\n",
       "      <td>1</td>\n",
       "      <td>6</td>\n",
       "      <td>0</td>\n",
       "      <td>0.0</td>\n",
       "      <td>0.0</td>\n",
       "      <td>0.0</td>\n",
       "      <td>1.0</td>\n",
       "      <td>0.0</td>\n",
       "      <td>0.0</td>\n",
       "      <td>1.0</td>\n",
       "    </tr>\n",
       "  </tbody>\n",
       "</table>\n",
       "</div>"
      ],
      "text/plain": [
       "   age  new_user  total_pages_visited  converted  China  Germany   UK   US  \\\n",
       "0   25         1                    1          0    0.0      0.0  1.0  0.0   \n",
       "1   23         1                    5          0    0.0      0.0  0.0  1.0   \n",
       "2   28         1                    4          0    0.0      0.0  0.0  1.0   \n",
       "3   39         1                    5          0    1.0      0.0  0.0  0.0   \n",
       "4   30         1                    6          0    0.0      0.0  0.0  1.0   \n",
       "\n",
       "   Ads  Direct  Seo  \n",
       "0  1.0     0.0  0.0  \n",
       "1  0.0     0.0  1.0  \n",
       "2  0.0     0.0  1.0  \n",
       "3  0.0     0.0  1.0  \n",
       "4  0.0     0.0  1.0  "
      ]
     },
     "execution_count": 80,
     "metadata": {},
     "output_type": "execute_result"
    }
   ],
   "source": [
    "# one-hot-encode using sklearn\n",
    "conversion_data_encode = conversion_data.copy()\n",
    "\n",
    "one_hot = OneHotEncoder()\n",
    "encoded = one_hot.fit_transform(conversion_data[['country','source']])\n",
    "conversion_data_encode[one_hot.categories_[0]] = encoded[:,0:4].toarray()\n",
    "conversion_data_encode[one_hot.categories_[1]] = encoded[:,4:7].toarray()\n",
    "\n",
    "conversion_data_encode.drop(['country','source'], axis=1, inplace=True)\n",
    "\n",
    "conversion_data_encode.head()"
   ]
  },
  {
   "cell_type": "code",
   "execution_count": 81,
   "id": "aeb3a7ea",
   "metadata": {},
   "outputs": [
    {
     "data": {
      "text/html": [
       "<div>\n",
       "<style scoped>\n",
       "    .dataframe tbody tr th:only-of-type {\n",
       "        vertical-align: middle;\n",
       "    }\n",
       "\n",
       "    .dataframe tbody tr th {\n",
       "        vertical-align: top;\n",
       "    }\n",
       "\n",
       "    .dataframe thead th {\n",
       "        text-align: right;\n",
       "    }\n",
       "</style>\n",
       "<table border=\"1\" class=\"dataframe\">\n",
       "  <thead>\n",
       "    <tr style=\"text-align: right;\">\n",
       "      <th></th>\n",
       "      <th>age</th>\n",
       "      <th>new_user</th>\n",
       "      <th>total_pages_visited</th>\n",
       "      <th>China</th>\n",
       "      <th>Germany</th>\n",
       "      <th>UK</th>\n",
       "      <th>US</th>\n",
       "      <th>Ads</th>\n",
       "      <th>Direct</th>\n",
       "      <th>Seo</th>\n",
       "    </tr>\n",
       "  </thead>\n",
       "  <tbody>\n",
       "    <tr>\n",
       "      <th>0</th>\n",
       "      <td>25</td>\n",
       "      <td>1</td>\n",
       "      <td>1</td>\n",
       "      <td>0.0</td>\n",
       "      <td>0.0</td>\n",
       "      <td>1.0</td>\n",
       "      <td>0.0</td>\n",
       "      <td>1.0</td>\n",
       "      <td>0.0</td>\n",
       "      <td>0.0</td>\n",
       "    </tr>\n",
       "    <tr>\n",
       "      <th>1</th>\n",
       "      <td>23</td>\n",
       "      <td>1</td>\n",
       "      <td>5</td>\n",
       "      <td>0.0</td>\n",
       "      <td>0.0</td>\n",
       "      <td>0.0</td>\n",
       "      <td>1.0</td>\n",
       "      <td>0.0</td>\n",
       "      <td>0.0</td>\n",
       "      <td>1.0</td>\n",
       "    </tr>\n",
       "    <tr>\n",
       "      <th>2</th>\n",
       "      <td>28</td>\n",
       "      <td>1</td>\n",
       "      <td>4</td>\n",
       "      <td>0.0</td>\n",
       "      <td>0.0</td>\n",
       "      <td>0.0</td>\n",
       "      <td>1.0</td>\n",
       "      <td>0.0</td>\n",
       "      <td>0.0</td>\n",
       "      <td>1.0</td>\n",
       "    </tr>\n",
       "    <tr>\n",
       "      <th>3</th>\n",
       "      <td>39</td>\n",
       "      <td>1</td>\n",
       "      <td>5</td>\n",
       "      <td>1.0</td>\n",
       "      <td>0.0</td>\n",
       "      <td>0.0</td>\n",
       "      <td>0.0</td>\n",
       "      <td>0.0</td>\n",
       "      <td>0.0</td>\n",
       "      <td>1.0</td>\n",
       "    </tr>\n",
       "    <tr>\n",
       "      <th>4</th>\n",
       "      <td>30</td>\n",
       "      <td>1</td>\n",
       "      <td>6</td>\n",
       "      <td>0.0</td>\n",
       "      <td>0.0</td>\n",
       "      <td>0.0</td>\n",
       "      <td>1.0</td>\n",
       "      <td>0.0</td>\n",
       "      <td>0.0</td>\n",
       "      <td>1.0</td>\n",
       "    </tr>\n",
       "  </tbody>\n",
       "</table>\n",
       "</div>"
      ],
      "text/plain": [
       "   age  new_user  total_pages_visited  China  Germany   UK   US  Ads  Direct  \\\n",
       "0   25         1                    1    0.0      0.0  1.0  0.0  1.0     0.0   \n",
       "1   23         1                    5    0.0      0.0  0.0  1.0  0.0     0.0   \n",
       "2   28         1                    4    0.0      0.0  0.0  1.0  0.0     0.0   \n",
       "3   39         1                    5    1.0      0.0  0.0  0.0  0.0     0.0   \n",
       "4   30         1                    6    0.0      0.0  0.0  1.0  0.0     0.0   \n",
       "\n",
       "   Seo  \n",
       "0  0.0  \n",
       "1  1.0  \n",
       "2  1.0  \n",
       "3  1.0  \n",
       "4  1.0  "
      ]
     },
     "execution_count": 81,
     "metadata": {},
     "output_type": "execute_result"
    }
   ],
   "source": [
    "y = conversion_data_encode[\"converted\"]\n",
    "X = conversion_data_encode.drop(columns=[\"converted\"])\n",
    "X.head()"
   ]
  },
  {
   "cell_type": "code",
   "execution_count": 82,
   "id": "5c9f97c3",
   "metadata": {},
   "outputs": [],
   "source": [
    "X_train, X_test, y_train, y_test = train_test_split(X, y, test_size=0.33, random_state=42)"
   ]
  },
  {
   "cell_type": "markdown",
   "id": "f9100bd8",
   "metadata": {},
   "source": [
    "The response is highly imbalanced, so we can downsample the majority class or apply unequal weights in the model fitting to achieve some balance. "
   ]
  },
  {
   "cell_type": "code",
   "execution_count": 92,
   "id": "f601e190",
   "metadata": {},
   "outputs": [
    {
     "name": "stdout",
     "output_type": "stream",
     "text": [
      "number of converted samples in train: 6881 (3.36%)\n",
      "number of unconverted samples in train: 204971\n"
     ]
    }
   ],
   "source": [
    "print(f\"number of converted samples in train: {sum(y_train == 1)} ({round(sum(y_train == 1)/sum(y_train == 0)*100,2)}%)\")\n",
    "print(f\"number of unconverted samples in train: {sum(y_train == 0)}\")"
   ]
  },
  {
   "cell_type": "code",
   "execution_count": 94,
   "id": "b90a91fe",
   "metadata": {},
   "outputs": [
    {
     "data": {
      "text/html": [
       "<style>#sk-container-id-1 {color: black;background-color: white;}#sk-container-id-1 pre{padding: 0;}#sk-container-id-1 div.sk-toggleable {background-color: white;}#sk-container-id-1 label.sk-toggleable__label {cursor: pointer;display: block;width: 100%;margin-bottom: 0;padding: 0.3em;box-sizing: border-box;text-align: center;}#sk-container-id-1 label.sk-toggleable__label-arrow:before {content: \"▸\";float: left;margin-right: 0.25em;color: #696969;}#sk-container-id-1 label.sk-toggleable__label-arrow:hover:before {color: black;}#sk-container-id-1 div.sk-estimator:hover label.sk-toggleable__label-arrow:before {color: black;}#sk-container-id-1 div.sk-toggleable__content {max-height: 0;max-width: 0;overflow: hidden;text-align: left;background-color: #f0f8ff;}#sk-container-id-1 div.sk-toggleable__content pre {margin: 0.2em;color: black;border-radius: 0.25em;background-color: #f0f8ff;}#sk-container-id-1 input.sk-toggleable__control:checked~div.sk-toggleable__content {max-height: 200px;max-width: 100%;overflow: auto;}#sk-container-id-1 input.sk-toggleable__control:checked~label.sk-toggleable__label-arrow:before {content: \"▾\";}#sk-container-id-1 div.sk-estimator input.sk-toggleable__control:checked~label.sk-toggleable__label {background-color: #d4ebff;}#sk-container-id-1 div.sk-label input.sk-toggleable__control:checked~label.sk-toggleable__label {background-color: #d4ebff;}#sk-container-id-1 input.sk-hidden--visually {border: 0;clip: rect(1px 1px 1px 1px);clip: rect(1px, 1px, 1px, 1px);height: 1px;margin: -1px;overflow: hidden;padding: 0;position: absolute;width: 1px;}#sk-container-id-1 div.sk-estimator {font-family: monospace;background-color: #f0f8ff;border: 1px dotted black;border-radius: 0.25em;box-sizing: border-box;margin-bottom: 0.5em;}#sk-container-id-1 div.sk-estimator:hover {background-color: #d4ebff;}#sk-container-id-1 div.sk-parallel-item::after {content: \"\";width: 100%;border-bottom: 1px solid gray;flex-grow: 1;}#sk-container-id-1 div.sk-label:hover label.sk-toggleable__label {background-color: #d4ebff;}#sk-container-id-1 div.sk-serial::before {content: \"\";position: absolute;border-left: 1px solid gray;box-sizing: border-box;top: 0;bottom: 0;left: 50%;z-index: 0;}#sk-container-id-1 div.sk-serial {display: flex;flex-direction: column;align-items: center;background-color: white;padding-right: 0.2em;padding-left: 0.2em;position: relative;}#sk-container-id-1 div.sk-item {position: relative;z-index: 1;}#sk-container-id-1 div.sk-parallel {display: flex;align-items: stretch;justify-content: center;background-color: white;position: relative;}#sk-container-id-1 div.sk-item::before, #sk-container-id-1 div.sk-parallel-item::before {content: \"\";position: absolute;border-left: 1px solid gray;box-sizing: border-box;top: 0;bottom: 0;left: 50%;z-index: -1;}#sk-container-id-1 div.sk-parallel-item {display: flex;flex-direction: column;z-index: 1;position: relative;background-color: white;}#sk-container-id-1 div.sk-parallel-item:first-child::after {align-self: flex-end;width: 50%;}#sk-container-id-1 div.sk-parallel-item:last-child::after {align-self: flex-start;width: 50%;}#sk-container-id-1 div.sk-parallel-item:only-child::after {width: 0;}#sk-container-id-1 div.sk-dashed-wrapped {border: 1px dashed gray;margin: 0 0.4em 0.5em 0.4em;box-sizing: border-box;padding-bottom: 0.4em;background-color: white;}#sk-container-id-1 div.sk-label label {font-family: monospace;font-weight: bold;display: inline-block;line-height: 1.2em;}#sk-container-id-1 div.sk-label-container {text-align: center;}#sk-container-id-1 div.sk-container {/* jupyter's `normalize.less` sets `[hidden] { display: none; }` but bootstrap.min.css set `[hidden] { display: none !important; }` so we also need the `!important` here to be able to override the default hidden behavior on the sphinx rendered scikit-learn.org. See: https://github.com/scikit-learn/scikit-learn/issues/21755 */display: inline-block !important;position: relative;}#sk-container-id-1 div.sk-text-repr-fallback {display: none;}</style><div id=\"sk-container-id-1\" class=\"sk-top-container\"><div class=\"sk-text-repr-fallback\"><pre>RandomForestClassifier(class_weight=&#x27;balanced&#x27;, max_depth=20)</pre><b>In a Jupyter environment, please rerun this cell to show the HTML representation or trust the notebook. <br />On GitHub, the HTML representation is unable to render, please try loading this page with nbviewer.org.</b></div><div class=\"sk-container\" hidden><div class=\"sk-item\"><div class=\"sk-estimator sk-toggleable\"><input class=\"sk-toggleable__control sk-hidden--visually\" id=\"sk-estimator-id-1\" type=\"checkbox\" checked><label for=\"sk-estimator-id-1\" class=\"sk-toggleable__label sk-toggleable__label-arrow\">RandomForestClassifier</label><div class=\"sk-toggleable__content\"><pre>RandomForestClassifier(class_weight=&#x27;balanced&#x27;, max_depth=20)</pre></div></div></div></div></div>"
      ],
      "text/plain": [
       "RandomForestClassifier(class_weight='balanced', max_depth=20)"
      ]
     },
     "execution_count": 94,
     "metadata": {},
     "output_type": "execute_result"
    }
   ],
   "source": [
    "# apply random forest with unequal class weights on the original data set\n",
    "clf = RandomForestClassifier(max_depth=20, class_weight = 'balanced', n_estimators = 100)\n",
    "clf.fit(X_train, y_train)"
   ]
  },
  {
   "cell_type": "code",
   "execution_count": 95,
   "id": "58ef641a",
   "metadata": {},
   "outputs": [
    {
     "data": {
      "image/png": "[encoded data removed]",
      "text/plain": [
       "<Figure size 1080x432 with 1 Axes>"
      ]
     },
     "metadata": {
      "needs_background": "light"
     },
     "output_type": "display_data"
    }
   ],
   "source": [
    "# feature importance plot\n",
    "importances = clf.feature_importances_\n",
    "feature_names = X_train.columns.values.tolist()\n",
    "d = {'importance':importances, 'feature': feature_names}\n",
    "forest_importances = pd.DataFrame(data=d)\n",
    "forest_importances.sort_values(by=['importance'],ascending = False,inplace=True)\n",
    "forest_importances_plt = forest_importances.head(15)\n",
    "\n",
    "fig, ax = plt.subplots(figsize=(15, 6))\n",
    "forest_importances_plt.plot.bar(ax=ax)\n",
    "ax.set_title(\"Feature importances\")\n",
    "ax.set_ylabel(\"Mean decrease in impurity\")\n",
    "ax.set_xticklabels(forest_importances_plt['feature'],rotation=65)\n",
    "fig.tight_layout()"
   ]
  },
  {
   "cell_type": "code",
   "execution_count": 133,
   "id": "df4b54b7",
   "metadata": {},
   "outputs": [
    {
     "data": {
      "text/plain": [
       "array([[97629,  3400],\n",
       "       [  553,  2764]])"
      ]
     },
     "execution_count": 133,
     "metadata": {},
     "output_type": "execute_result"
    }
   ],
   "source": [
    "# Predict on test data\n",
    "test_prediction = clf.predict(X_test)\n",
    "confusion_matrix(y_test, test_prediction)"
   ]
  },
  {
   "cell_type": "code",
   "execution_count": 136,
   "id": "073906b9",
   "metadata": {},
   "outputs": [
    {
     "name": "stdout",
     "output_type": "stream",
     "text": [
      "recall: 0.833\n",
      "precision: 0.448\n",
      "AUC: 0.900\n",
      "balanced accuracy: 0.900\n"
     ]
    }
   ],
   "source": [
    "print(f\"recall: {recall_score(y_test, test_prediction, average='binary'):.3f}\")\n",
    "print(f\"precision: {precision_score(y_test, test_prediction, average='binary'):.3f}\")\n",
    "fpr, tpr, thresholds = metrics.roc_curve(y_test, test_prediction, pos_label=1)\n",
    "print(f\"AUC: {metrics.auc(fpr, tpr):.3f}\")\n",
    "print(f\"balanced accuracy: {balanced_accuracy_score(y_test, test_prediction):.3f}\")"
   ]
  },
  {
   "cell_type": "code",
   "execution_count": 124,
   "id": "8bf411ff",
   "metadata": {},
   "outputs": [
    {
     "name": "stdout",
     "output_type": "stream",
     "text": [
      "0    0.748667\n",
      "1    0.251333\n",
      "Name: converted, dtype: float64\n",
      "27378\n"
     ]
    }
   ],
   "source": [
    "# down sample unconverted data to create a slightly balanced dataset\n",
    "X = pd.concat([X_train, y_train], axis=1)\n",
    "undersample = pd.concat([X[X['converted']==1], \n",
    "                         X[X['converted']==0].sample(frac=0.1, random_state=42)])\n",
    "\n",
    "# now randomly shuffle the dataframe rows in order to mix up the classes again\n",
    "undersample = undersample.sample(frac=1, random_state=42)\n",
    "print(undersample['converted'].value_counts(normalize=True))\n",
    "print(undersample.shape[0])"
   ]
  },
  {
   "cell_type": "code",
   "execution_count": 125,
   "id": "112148f3",
   "metadata": {},
   "outputs": [
    {
     "data": {
      "text/html": [
       "<div>\n",
       "<style scoped>\n",
       "    .dataframe tbody tr th:only-of-type {\n",
       "        vertical-align: middle;\n",
       "    }\n",
       "\n",
       "    .dataframe tbody tr th {\n",
       "        vertical-align: top;\n",
       "    }\n",
       "\n",
       "    .dataframe thead th {\n",
       "        text-align: right;\n",
       "    }\n",
       "</style>\n",
       "<table border=\"1\" class=\"dataframe\">\n",
       "  <thead>\n",
       "    <tr style=\"text-align: right;\">\n",
       "      <th></th>\n",
       "      <th>age</th>\n",
       "      <th>new_user</th>\n",
       "      <th>total_pages_visited</th>\n",
       "      <th>China</th>\n",
       "      <th>Germany</th>\n",
       "      <th>UK</th>\n",
       "      <th>US</th>\n",
       "      <th>Ads</th>\n",
       "      <th>Direct</th>\n",
       "      <th>Seo</th>\n",
       "    </tr>\n",
       "  </thead>\n",
       "  <tbody>\n",
       "    <tr>\n",
       "      <th>301014</th>\n",
       "      <td>32</td>\n",
       "      <td>1</td>\n",
       "      <td>6</td>\n",
       "      <td>1.0</td>\n",
       "      <td>0.0</td>\n",
       "      <td>0.0</td>\n",
       "      <td>0.0</td>\n",
       "      <td>1.0</td>\n",
       "      <td>0.0</td>\n",
       "      <td>0.0</td>\n",
       "    </tr>\n",
       "    <tr>\n",
       "      <th>284276</th>\n",
       "      <td>17</td>\n",
       "      <td>0</td>\n",
       "      <td>5</td>\n",
       "      <td>0.0</td>\n",
       "      <td>0.0</td>\n",
       "      <td>0.0</td>\n",
       "      <td>1.0</td>\n",
       "      <td>1.0</td>\n",
       "      <td>0.0</td>\n",
       "      <td>0.0</td>\n",
       "    </tr>\n",
       "    <tr>\n",
       "      <th>272786</th>\n",
       "      <td>35</td>\n",
       "      <td>1</td>\n",
       "      <td>6</td>\n",
       "      <td>0.0</td>\n",
       "      <td>0.0</td>\n",
       "      <td>0.0</td>\n",
       "      <td>1.0</td>\n",
       "      <td>0.0</td>\n",
       "      <td>1.0</td>\n",
       "      <td>0.0</td>\n",
       "    </tr>\n",
       "    <tr>\n",
       "      <th>30118</th>\n",
       "      <td>32</td>\n",
       "      <td>1</td>\n",
       "      <td>1</td>\n",
       "      <td>0.0</td>\n",
       "      <td>0.0</td>\n",
       "      <td>0.0</td>\n",
       "      <td>1.0</td>\n",
       "      <td>0.0</td>\n",
       "      <td>0.0</td>\n",
       "      <td>1.0</td>\n",
       "    </tr>\n",
       "    <tr>\n",
       "      <th>313985</th>\n",
       "      <td>34</td>\n",
       "      <td>0</td>\n",
       "      <td>8</td>\n",
       "      <td>0.0</td>\n",
       "      <td>0.0</td>\n",
       "      <td>0.0</td>\n",
       "      <td>1.0</td>\n",
       "      <td>1.0</td>\n",
       "      <td>0.0</td>\n",
       "      <td>0.0</td>\n",
       "    </tr>\n",
       "  </tbody>\n",
       "</table>\n",
       "</div>"
      ],
      "text/plain": [
       "        age  new_user  total_pages_visited  China  Germany   UK   US  Ads  \\\n",
       "301014   32         1                    6    1.0      0.0  0.0  0.0  1.0   \n",
       "284276   17         0                    5    0.0      0.0  0.0  1.0  1.0   \n",
       "272786   35         1                    6    0.0      0.0  0.0  1.0  0.0   \n",
       "30118    32         1                    1    0.0      0.0  0.0  1.0  0.0   \n",
       "313985   34         0                    8    0.0      0.0  0.0  1.0  1.0   \n",
       "\n",
       "        Direct  Seo  \n",
       "301014     0.0  0.0  \n",
       "284276     0.0  0.0  \n",
       "272786     1.0  0.0  \n",
       "30118      0.0  1.0  \n",
       "313985     0.0  0.0  "
      ]
     },
     "execution_count": 125,
     "metadata": {},
     "output_type": "execute_result"
    }
   ],
   "source": [
    "y_train_b = undersample[\"converted\"]\n",
    "X_train_b = undersample.drop(columns=[\"converted\"])\n",
    "X_train_b.head()"
   ]
  },
  {
   "cell_type": "code",
   "execution_count": 126,
   "id": "981d2dd7",
   "metadata": {},
   "outputs": [
    {
     "data": {
      "text/html": [
       "<style>#sk-container-id-2 {color: black;background-color: white;}#sk-container-id-2 pre{padding: 0;}#sk-container-id-2 div.sk-toggleable {background-color: white;}#sk-container-id-2 label.sk-toggleable__label {cursor: pointer;display: block;width: 100%;margin-bottom: 0;padding: 0.3em;box-sizing: border-box;text-align: center;}#sk-container-id-2 label.sk-toggleable__label-arrow:before {content: \"▸\";float: left;margin-right: 0.25em;color: #696969;}#sk-container-id-2 label.sk-toggleable__label-arrow:hover:before {color: black;}#sk-container-id-2 div.sk-estimator:hover label.sk-toggleable__label-arrow:before {color: black;}#sk-container-id-2 div.sk-toggleable__content {max-height: 0;max-width: 0;overflow: hidden;text-align: left;background-color: #f0f8ff;}#sk-container-id-2 div.sk-toggleable__content pre {margin: 0.2em;color: black;border-radius: 0.25em;background-color: #f0f8ff;}#sk-container-id-2 input.sk-toggleable__control:checked~div.sk-toggleable__content {max-height: 200px;max-width: 100%;overflow: auto;}#sk-container-id-2 input.sk-toggleable__control:checked~label.sk-toggleable__label-arrow:before {content: \"▾\";}#sk-container-id-2 div.sk-estimator input.sk-toggleable__control:checked~label.sk-toggleable__label {background-color: #d4ebff;}#sk-container-id-2 div.sk-label input.sk-toggleable__control:checked~label.sk-toggleable__label {background-color: #d4ebff;}#sk-container-id-2 input.sk-hidden--visually {border: 0;clip: rect(1px 1px 1px 1px);clip: rect(1px, 1px, 1px, 1px);height: 1px;margin: -1px;overflow: hidden;padding: 0;position: absolute;width: 1px;}#sk-container-id-2 div.sk-estimator {font-family: monospace;background-color: #f0f8ff;border: 1px dotted black;border-radius: 0.25em;box-sizing: border-box;margin-bottom: 0.5em;}#sk-container-id-2 div.sk-estimator:hover {background-color: #d4ebff;}#sk-container-id-2 div.sk-parallel-item::after {content: \"\";width: 100%;border-bottom: 1px solid gray;flex-grow: 1;}#sk-container-id-2 div.sk-label:hover label.sk-toggleable__label {background-color: #d4ebff;}#sk-container-id-2 div.sk-serial::before {content: \"\";position: absolute;border-left: 1px solid gray;box-sizing: border-box;top: 0;bottom: 0;left: 50%;z-index: 0;}#sk-container-id-2 div.sk-serial {display: flex;flex-direction: column;align-items: center;background-color: white;padding-right: 0.2em;padding-left: 0.2em;position: relative;}#sk-container-id-2 div.sk-item {position: relative;z-index: 1;}#sk-container-id-2 div.sk-parallel {display: flex;align-items: stretch;justify-content: center;background-color: white;position: relative;}#sk-container-id-2 div.sk-item::before, #sk-container-id-2 div.sk-parallel-item::before {content: \"\";position: absolute;border-left: 1px solid gray;box-sizing: border-box;top: 0;bottom: 0;left: 50%;z-index: -1;}#sk-container-id-2 div.sk-parallel-item {display: flex;flex-direction: column;z-index: 1;position: relative;background-color: white;}#sk-container-id-2 div.sk-parallel-item:first-child::after {align-self: flex-end;width: 50%;}#sk-container-id-2 div.sk-parallel-item:last-child::after {align-self: flex-start;width: 50%;}#sk-container-id-2 div.sk-parallel-item:only-child::after {width: 0;}#sk-container-id-2 div.sk-dashed-wrapped {border: 1px dashed gray;margin: 0 0.4em 0.5em 0.4em;box-sizing: border-box;padding-bottom: 0.4em;background-color: white;}#sk-container-id-2 div.sk-label label {font-family: monospace;font-weight: bold;display: inline-block;line-height: 1.2em;}#sk-container-id-2 div.sk-label-container {text-align: center;}#sk-container-id-2 div.sk-container {/* jupyter's `normalize.less` sets `[hidden] { display: none; }` but bootstrap.min.css set `[hidden] { display: none !important; }` so we also need the `!important` here to be able to override the default hidden behavior on the sphinx rendered scikit-learn.org. See: https://github.com/scikit-learn/scikit-learn/issues/21755 */display: inline-block !important;position: relative;}#sk-container-id-2 div.sk-text-repr-fallback {display: none;}</style><div id=\"sk-container-id-2\" class=\"sk-top-container\"><div class=\"sk-text-repr-fallback\"><pre>RandomForestClassifier(class_weight=&#x27;balanced&#x27;, max_depth=20)</pre><b>In a Jupyter environment, please rerun this cell to show the HTML representation or trust the notebook. <br />On GitHub, the HTML representation is unable to render, please try loading this page with nbviewer.org.</b></div><div class=\"sk-container\" hidden><div class=\"sk-item\"><div class=\"sk-estimator sk-toggleable\"><input class=\"sk-toggleable__control sk-hidden--visually\" id=\"sk-estimator-id-2\" type=\"checkbox\" checked><label for=\"sk-estimator-id-2\" class=\"sk-toggleable__label sk-toggleable__label-arrow\">RandomForestClassifier</label><div class=\"sk-toggleable__content\"><pre>RandomForestClassifier(class_weight=&#x27;balanced&#x27;, max_depth=20)</pre></div></div></div></div></div>"
      ],
      "text/plain": [
       "RandomForestClassifier(class_weight='balanced', max_depth=20)"
      ]
     },
     "execution_count": 126,
     "metadata": {},
     "output_type": "execute_result"
    }
   ],
   "source": [
    "# apply random forest with unequal class weights on the original data set\n",
    "clf_b = RandomForestClassifier(max_depth=20, class_weight = 'balanced', n_estimators = 100)\n",
    "clf_b.fit(X_train_b, y_train_b)"
   ]
  },
  {
   "cell_type": "code",
   "execution_count": 127,
   "id": "421256ca",
   "metadata": {},
   "outputs": [
    {
     "data": {
      "image/png": "[encoded data removed]",
      "text/plain": [
       "<Figure size 1080x432 with 1 Axes>"
      ]
     },
     "metadata": {
      "needs_background": "light"
     },
     "output_type": "display_data"
    }
   ],
   "source": [
    "# feature importance plot\n",
    "importances = clf_b.feature_importances_\n",
    "feature_names = X_train_b.columns.values.tolist()\n",
    "d = {'importance':importances, 'feature': feature_names}\n",
    "forest_importances = pd.DataFrame(data=d)\n",
    "forest_importances.sort_values(by=['importance'],ascending = False,inplace=True)\n",
    "forest_importances_plt = forest_importances.head(15)\n",
    "\n",
    "fig, ax = plt.subplots(figsize=(15, 6))\n",
    "forest_importances_plt.plot.bar(ax=ax)\n",
    "ax.set_title(\"Feature importances\")\n",
    "ax.set_ylabel(\"Mean decrease in impurity\")\n",
    "ax.set_xticklabels(forest_importances_plt['feature'],rotation=65)\n",
    "fig.tight_layout()"
   ]
  },
  {
   "cell_type": "code",
   "execution_count": 137,
   "id": "9371657c",
   "metadata": {},
   "outputs": [
    {
     "name": "stdout",
     "output_type": "stream",
     "text": [
      "[[96198  4831]\n",
      " [  371  2946]]\n",
      "recall: 0.888\n",
      "precision: 0.379\n",
      "AUC: 0.920\n",
      "balanced accuracy: 0.920\n"
     ]
    }
   ],
   "source": [
    "# Predict on test data\n",
    "test_prediction_b = clf_b.predict(X_test)\n",
    "print(confusion_matrix(y_test, test_prediction_b))\n",
    "print(f\"recall: {recall_score(y_test, test_prediction_b, average='binary'):.3f}\")\n",
    "print(f\"precision: {precision_score(y_test, test_prediction_b, average='binary'):.3f}\")\n",
    "fpr, tpr, thresholds = metrics.roc_curve(y_test, test_prediction_b, pos_label=1)\n",
    "print(f\"AUC: {metrics.auc(fpr, tpr):.3f}\")\n",
    "print(f\"balanced accuracy: {balanced_accuracy_score(y_test, test_prediction_b):.3f}\")"
   ]
  },
  {
   "cell_type": "markdown",
   "id": "3882ec8c",
   "metadata": {},
   "source": [
    "Down sampling could increase the classification performance on the minority class (recall and balanced accuracy increase)"
   ]
  },
  {
   "cell_type": "markdown",
   "id": "1f0341f0",
   "metadata": {},
   "source": [
    "# Pipeline data processing and classification and compare multiple methods"
   ]
  },
  {
   "cell_type": "markdown",
   "id": "4771fe5f",
   "metadata": {},
   "source": [
    "In this section I will repeat the data processing and modelling step but with a pipeline and compare multiple methods. I will use cross-validation to evaluate the model performance."
   ]
  },
  {
   "cell_type": "code",
   "execution_count": 141,
   "id": "25d64a5e",
   "metadata": {},
   "outputs": [
    {
     "data": {
      "text/html": [
       "<div>\n",
       "<style scoped>\n",
       "    .dataframe tbody tr th:only-of-type {\n",
       "        vertical-align: middle;\n",
       "    }\n",
       "\n",
       "    .dataframe tbody tr th {\n",
       "        vertical-align: top;\n",
       "    }\n",
       "\n",
       "    .dataframe thead th {\n",
       "        text-align: right;\n",
       "    }\n",
       "</style>\n",
       "<table border=\"1\" class=\"dataframe\">\n",
       "  <thead>\n",
       "    <tr style=\"text-align: right;\">\n",
       "      <th></th>\n",
       "      <th>country</th>\n",
       "      <th>age</th>\n",
       "      <th>new_user</th>\n",
       "      <th>source</th>\n",
       "      <th>total_pages_visited</th>\n",
       "    </tr>\n",
       "  </thead>\n",
       "  <tbody>\n",
       "    <tr>\n",
       "      <th>0</th>\n",
       "      <td>UK</td>\n",
       "      <td>25</td>\n",
       "      <td>1</td>\n",
       "      <td>Ads</td>\n",
       "      <td>1</td>\n",
       "    </tr>\n",
       "    <tr>\n",
       "      <th>1</th>\n",
       "      <td>US</td>\n",
       "      <td>23</td>\n",
       "      <td>1</td>\n",
       "      <td>Seo</td>\n",
       "      <td>5</td>\n",
       "    </tr>\n",
       "    <tr>\n",
       "      <th>2</th>\n",
       "      <td>US</td>\n",
       "      <td>28</td>\n",
       "      <td>1</td>\n",
       "      <td>Seo</td>\n",
       "      <td>4</td>\n",
       "    </tr>\n",
       "    <tr>\n",
       "      <th>3</th>\n",
       "      <td>China</td>\n",
       "      <td>39</td>\n",
       "      <td>1</td>\n",
       "      <td>Seo</td>\n",
       "      <td>5</td>\n",
       "    </tr>\n",
       "    <tr>\n",
       "      <th>4</th>\n",
       "      <td>US</td>\n",
       "      <td>30</td>\n",
       "      <td>1</td>\n",
       "      <td>Seo</td>\n",
       "      <td>6</td>\n",
       "    </tr>\n",
       "  </tbody>\n",
       "</table>\n",
       "</div>"
      ],
      "text/plain": [
       "  country  age  new_user source  total_pages_visited\n",
       "0      UK   25         1    Ads                    1\n",
       "1      US   23         1    Seo                    5\n",
       "2      US   28         1    Seo                    4\n",
       "3   China   39         1    Seo                    5\n",
       "4      US   30         1    Seo                    6"
      ]
     },
     "execution_count": 141,
     "metadata": {},
     "output_type": "execute_result"
    }
   ],
   "source": [
    "y = conversion_data[\"converted\"]\n",
    "X = conversion_data.drop(columns=[\"converted\"])\n",
    "X.head()"
   ]
  },
  {
   "cell_type": "code",
   "execution_count": 234,
   "id": "87bdea22",
   "metadata": {},
   "outputs": [],
   "source": [
    "# create a table to record performance of different models\n",
    "index = []\n",
    "scores = {\"Accuracy\": [], \"Balanced accuracy\": [], \"F1\": [], \"Precision\": [], \"Recall\": [], \"ROC AUC\": []}"
   ]
  },
  {
   "cell_type": "markdown",
   "id": "336aa274",
   "metadata": {},
   "source": [
    "## Dummy classifier"
   ]
  },
  {
   "cell_type": "code",
   "execution_count": 235,
   "id": "3058d2b3",
   "metadata": {},
   "outputs": [],
   "source": [
    "# first use a majority vote classifier as a baseline\n",
    "dummy_clf = DummyClassifier(strategy=\"most_frequent\")\n",
    "scoring = [\"accuracy\", \"balanced_accuracy\", \"f1\", \"precision\", \"recall\", \"roc_auc\"]"
   ]
  },
  {
   "cell_type": "code",
   "execution_count": 236,
   "id": "f441d34a",
   "metadata": {},
   "outputs": [
    {
     "name": "stderr",
     "output_type": "stream",
     "text": [
      "/opt/anaconda3/lib/python3.9/site-packages/sklearn/metrics/_classification.py:1327: UndefinedMetricWarning: Precision is ill-defined and being set to 0.0 due to no predicted samples. Use `zero_division` parameter to control this behavior.\n",
      "  _warn_prf(average, modifier, msg_start, len(result))\n",
      "/opt/anaconda3/lib/python3.9/site-packages/sklearn/metrics/_classification.py:1327: UndefinedMetricWarning: Precision is ill-defined and being set to 0.0 due to no predicted samples. Use `zero_division` parameter to control this behavior.\n",
      "  _warn_prf(average, modifier, msg_start, len(result))\n",
      "/opt/anaconda3/lib/python3.9/site-packages/sklearn/metrics/_classification.py:1327: UndefinedMetricWarning: Precision is ill-defined and being set to 0.0 due to no predicted samples. Use `zero_division` parameter to control this behavior.\n",
      "  _warn_prf(average, modifier, msg_start, len(result))\n",
      "/opt/anaconda3/lib/python3.9/site-packages/sklearn/metrics/_classification.py:1327: UndefinedMetricWarning: Precision is ill-defined and being set to 0.0 due to no predicted samples. Use `zero_division` parameter to control this behavior.\n",
      "  _warn_prf(average, modifier, msg_start, len(result))\n",
      "/opt/anaconda3/lib/python3.9/site-packages/sklearn/metrics/_classification.py:1327: UndefinedMetricWarning: Precision is ill-defined and being set to 0.0 due to no predicted samples. Use `zero_division` parameter to control this behavior.\n",
      "  _warn_prf(average, modifier, msg_start, len(result))\n"
     ]
    }
   ],
   "source": [
    "index += [\"Dummy classifier\"]\n",
    "cv_result = cross_validate(dummy_clf, X, y, scoring=scoring)"
   ]
  },
  {
   "cell_type": "code",
   "execution_count": 237,
   "id": "9c92ac22",
   "metadata": {},
   "outputs": [
    {
     "data": {
      "text/html": [
       "<div>\n",
       "<style scoped>\n",
       "    .dataframe tbody tr th:only-of-type {\n",
       "        vertical-align: middle;\n",
       "    }\n",
       "\n",
       "    .dataframe tbody tr th {\n",
       "        vertical-align: top;\n",
       "    }\n",
       "\n",
       "    .dataframe thead th {\n",
       "        text-align: right;\n",
       "    }\n",
       "</style>\n",
       "<table border=\"1\" class=\"dataframe\">\n",
       "  <thead>\n",
       "    <tr style=\"text-align: right;\">\n",
       "      <th></th>\n",
       "      <th>Accuracy</th>\n",
       "      <th>Balanced accuracy</th>\n",
       "      <th>F1</th>\n",
       "      <th>Precision</th>\n",
       "      <th>Recall</th>\n",
       "      <th>ROC AUC</th>\n",
       "    </tr>\n",
       "  </thead>\n",
       "  <tbody>\n",
       "    <tr>\n",
       "      <th>Dummy classifier</th>\n",
       "      <td>0.967748</td>\n",
       "      <td>0.5</td>\n",
       "      <td>0.0</td>\n",
       "      <td>0.0</td>\n",
       "      <td>0.0</td>\n",
       "      <td>0.5</td>\n",
       "    </tr>\n",
       "  </tbody>\n",
       "</table>\n",
       "</div>"
      ],
      "text/plain": [
       "                  Accuracy  Balanced accuracy   F1  Precision  Recall  ROC AUC\n",
       "Dummy classifier  0.967748                0.5  0.0        0.0     0.0      0.5"
      ]
     },
     "execution_count": 237,
     "metadata": {},
     "output_type": "execute_result"
    }
   ],
   "source": [
    "scores[\"Accuracy\"].append(cv_result[\"test_accuracy\"].mean())\n",
    "scores[\"Balanced accuracy\"].append(cv_result[\"test_balanced_accuracy\"].mean())\n",
    "scores[\"F1\"].append(cv_result[\"test_f1\"].mean())\n",
    "scores[\"Precision\"].append(cv_result[\"test_precision\"].mean())\n",
    "scores[\"Recall\"].append(cv_result[\"test_recall\"].mean())\n",
    "scores[\"ROC AUC\"].append(cv_result[\"test_roc_auc\"].mean())\n",
    "\n",
    "df_scores = pd.DataFrame(scores, index=index)\n",
    "df_scores"
   ]
  },
  {
   "cell_type": "markdown",
   "id": "90432bbd",
   "metadata": {},
   "source": [
    "## Linear classifier"
   ]
  },
  {
   "cell_type": "markdown",
   "id": "d55236d1",
   "metadata": {},
   "source": [
    "Use a logistic regression model, need to one-hot encode the categorical columns and standardized the numerical columns"
   ]
  },
  {
   "cell_type": "code",
   "execution_count": 238,
   "id": "8523fe6a",
   "metadata": {},
   "outputs": [],
   "source": [
    "cat_cols = ['country','source']\n",
    "num_cols = ['age','total_pages_visited']\n",
    "passthrough_cols = ['new_user']"
   ]
  },
  {
   "cell_type": "code",
   "execution_count": 239,
   "id": "b923a89a",
   "metadata": {},
   "outputs": [],
   "source": [
    "preprocessor_linear = make_column_transformer(\n",
    "    (StandardScaler(), num_cols),\n",
    "    (OneHotEncoder(), cat_cols),\n",
    "    (\"passthrough\", passthrough_cols), \n",
    "    n_jobs=2,\n",
    ")"
   ]
  },
  {
   "cell_type": "code",
   "execution_count": 240,
   "id": "aac57216",
   "metadata": {},
   "outputs": [],
   "source": [
    "lr_clf = make_pipeline(preprocessor_linear, LogisticRegression(max_iter=1000))\n",
    "cv_result = cross_validate(lr_clf, X, y, scoring=scoring)"
   ]
  },
  {
   "cell_type": "code",
   "execution_count": 241,
   "id": "47d1d570",
   "metadata": {},
   "outputs": [
    {
     "data": {
      "text/html": [
       "<div>\n",
       "<style scoped>\n",
       "    .dataframe tbody tr th:only-of-type {\n",
       "        vertical-align: middle;\n",
       "    }\n",
       "\n",
       "    .dataframe tbody tr th {\n",
       "        vertical-align: top;\n",
       "    }\n",
       "\n",
       "    .dataframe thead th {\n",
       "        text-align: right;\n",
       "    }\n",
       "</style>\n",
       "<table border=\"1\" class=\"dataframe\">\n",
       "  <thead>\n",
       "    <tr style=\"text-align: right;\">\n",
       "      <th></th>\n",
       "      <th>Accuracy</th>\n",
       "      <th>Balanced accuracy</th>\n",
       "      <th>F1</th>\n",
       "      <th>Precision</th>\n",
       "      <th>Recall</th>\n",
       "      <th>ROC AUC</th>\n",
       "    </tr>\n",
       "  </thead>\n",
       "  <tbody>\n",
       "    <tr>\n",
       "      <th>Dummy classifier</th>\n",
       "      <td>0.967748</td>\n",
       "      <td>0.500000</td>\n",
       "      <td>0.00000</td>\n",
       "      <td>0.000000</td>\n",
       "      <td>0.00000</td>\n",
       "      <td>0.500000</td>\n",
       "    </tr>\n",
       "    <tr>\n",
       "      <th>Logistic regression</th>\n",
       "      <td>0.986167</td>\n",
       "      <td>0.841994</td>\n",
       "      <td>0.76233</td>\n",
       "      <td>0.854876</td>\n",
       "      <td>0.68788</td>\n",
       "      <td>0.986027</td>\n",
       "    </tr>\n",
       "  </tbody>\n",
       "</table>\n",
       "</div>"
      ],
      "text/plain": [
       "                     Accuracy  Balanced accuracy       F1  Precision   Recall  \\\n",
       "Dummy classifier     0.967748           0.500000  0.00000   0.000000  0.00000   \n",
       "Logistic regression  0.986167           0.841994  0.76233   0.854876  0.68788   \n",
       "\n",
       "                      ROC AUC  \n",
       "Dummy classifier     0.500000  \n",
       "Logistic regression  0.986027  "
      ]
     },
     "execution_count": 241,
     "metadata": {},
     "output_type": "execute_result"
    }
   ],
   "source": [
    "index += [\"Logistic regression\"]\n",
    "scores[\"Accuracy\"].append(cv_result[\"test_accuracy\"].mean())\n",
    "scores[\"Balanced accuracy\"].append(cv_result[\"test_balanced_accuracy\"].mean())\n",
    "scores[\"F1\"].append(cv_result[\"test_f1\"].mean())\n",
    "scores[\"Precision\"].append(cv_result[\"test_precision\"].mean())\n",
    "scores[\"Recall\"].append(cv_result[\"test_recall\"].mean())\n",
    "scores[\"ROC AUC\"].append(cv_result[\"test_roc_auc\"].mean())\n",
    "df_scores = pd.DataFrame(scores, index=index)\n",
    "df_scores"
   ]
  },
  {
   "cell_type": "markdown",
   "id": "c05dcede",
   "metadata": {},
   "source": [
    "## Random forest"
   ]
  },
  {
   "cell_type": "code",
   "execution_count": 242,
   "id": "2251946a",
   "metadata": {},
   "outputs": [],
   "source": [
    "# num_pipe = SimpleImputer(strategy=\"mean\", add_indicator=True)\n",
    "\n",
    "preprocessor_rf = make_column_transformer(\n",
    "    (\"passthrough\", num_cols), \n",
    "    (OneHotEncoder(), cat_cols),\n",
    "    (\"passthrough\", passthrough_cols), \n",
    ")\n",
    "\n",
    "rf_clf = make_pipeline(\n",
    "    preprocessor_rf, RandomForestClassifier(random_state=42, max_depth=20, n_estimators = 100)\n",
    ")"
   ]
  },
  {
   "cell_type": "code",
   "execution_count": 244,
   "id": "a2034e13",
   "metadata": {},
   "outputs": [],
   "source": [
    "cv_result = cross_validate(rf_clf, X, y, scoring=scoring)"
   ]
  },
  {
   "cell_type": "code",
   "execution_count": 246,
   "id": "3bd0075f",
   "metadata": {},
   "outputs": [
    {
     "data": {
      "text/html": [
       "<div>\n",
       "<style scoped>\n",
       "    .dataframe tbody tr th:only-of-type {\n",
       "        vertical-align: middle;\n",
       "    }\n",
       "\n",
       "    .dataframe tbody tr th {\n",
       "        vertical-align: top;\n",
       "    }\n",
       "\n",
       "    .dataframe thead th {\n",
       "        text-align: right;\n",
       "    }\n",
       "</style>\n",
       "<table border=\"1\" class=\"dataframe\">\n",
       "  <thead>\n",
       "    <tr style=\"text-align: right;\">\n",
       "      <th></th>\n",
       "      <th>Accuracy</th>\n",
       "      <th>Balanced accuracy</th>\n",
       "      <th>F1</th>\n",
       "      <th>Precision</th>\n",
       "      <th>Recall</th>\n",
       "      <th>ROC AUC</th>\n",
       "    </tr>\n",
       "  </thead>\n",
       "  <tbody>\n",
       "    <tr>\n",
       "      <th>Dummy classifier</th>\n",
       "      <td>0.967748</td>\n",
       "      <td>0.500000</td>\n",
       "      <td>0.000000</td>\n",
       "      <td>0.000000</td>\n",
       "      <td>0.000000</td>\n",
       "      <td>0.500000</td>\n",
       "    </tr>\n",
       "    <tr>\n",
       "      <th>Logistic regression</th>\n",
       "      <td>0.986167</td>\n",
       "      <td>0.841994</td>\n",
       "      <td>0.762330</td>\n",
       "      <td>0.854876</td>\n",
       "      <td>0.687880</td>\n",
       "      <td>0.986027</td>\n",
       "    </tr>\n",
       "    <tr>\n",
       "      <th>Random forest</th>\n",
       "      <td>0.984532</td>\n",
       "      <td>0.835889</td>\n",
       "      <td>0.738402</td>\n",
       "      <td>0.812141</td>\n",
       "      <td>0.676997</td>\n",
       "      <td>0.951846</td>\n",
       "    </tr>\n",
       "  </tbody>\n",
       "</table>\n",
       "</div>"
      ],
      "text/plain": [
       "                     Accuracy  Balanced accuracy        F1  Precision  \\\n",
       "Dummy classifier     0.967748           0.500000  0.000000   0.000000   \n",
       "Logistic regression  0.986167           0.841994  0.762330   0.854876   \n",
       "Random forest        0.984532           0.835889  0.738402   0.812141   \n",
       "\n",
       "                       Recall   ROC AUC  \n",
       "Dummy classifier     0.000000  0.500000  \n",
       "Logistic regression  0.687880  0.986027  \n",
       "Random forest        0.676997  0.951846  "
      ]
     },
     "execution_count": 246,
     "metadata": {},
     "output_type": "execute_result"
    }
   ],
   "source": [
    "index += [\"Random forest\"]\n",
    "scores[\"Accuracy\"].append(cv_result[\"test_accuracy\"].mean())\n",
    "scores[\"Balanced accuracy\"].append(cv_result[\"test_balanced_accuracy\"].mean())\n",
    "scores[\"F1\"].append(cv_result[\"test_f1\"].mean())\n",
    "scores[\"Precision\"].append(cv_result[\"test_precision\"].mean())\n",
    "scores[\"Recall\"].append(cv_result[\"test_recall\"].mean())\n",
    "scores[\"ROC AUC\"].append(cv_result[\"test_roc_auc\"].mean())\n",
    "\n",
    "df_scores = pd.DataFrame(scores, index=index)\n",
    "df_scores"
   ]
  },
  {
   "cell_type": "markdown",
   "id": "980ca31e",
   "metadata": {},
   "source": [
    "## Logistic regression and Random Forest with class weight"
   ]
  },
  {
   "cell_type": "code",
   "execution_count": 247,
   "id": "38fabf87",
   "metadata": {},
   "outputs": [],
   "source": [
    "lr_clf.set_params(logisticregression__class_weight=\"balanced\")\n",
    "cv_result = cross_validate(lr_clf, X, y, scoring=scoring)"
   ]
  },
  {
   "cell_type": "code",
   "execution_count": 258,
   "id": "5cc1bc6e",
   "metadata": {},
   "outputs": [
    {
     "data": {
      "text/html": [
       "<div>\n",
       "<style scoped>\n",
       "    .dataframe tbody tr th:only-of-type {\n",
       "        vertical-align: middle;\n",
       "    }\n",
       "\n",
       "    .dataframe tbody tr th {\n",
       "        vertical-align: top;\n",
       "    }\n",
       "\n",
       "    .dataframe thead th {\n",
       "        text-align: right;\n",
       "    }\n",
       "</style>\n",
       "<table border=\"1\" class=\"dataframe\">\n",
       "  <thead>\n",
       "    <tr style=\"text-align: right;\">\n",
       "      <th></th>\n",
       "      <th>Accuracy</th>\n",
       "      <th>Balanced accuracy</th>\n",
       "      <th>F1</th>\n",
       "      <th>Precision</th>\n",
       "      <th>Recall</th>\n",
       "      <th>ROC AUC</th>\n",
       "    </tr>\n",
       "  </thead>\n",
       "  <tbody>\n",
       "    <tr>\n",
       "      <th>Dummy classifier</th>\n",
       "      <td>0.967748</td>\n",
       "      <td>0.500000</td>\n",
       "      <td>0.000000</td>\n",
       "      <td>0.000000</td>\n",
       "      <td>0.000000</td>\n",
       "      <td>0.500000</td>\n",
       "    </tr>\n",
       "    <tr>\n",
       "      <th>Logistic regression</th>\n",
       "      <td>0.986167</td>\n",
       "      <td>0.841994</td>\n",
       "      <td>0.762330</td>\n",
       "      <td>0.854876</td>\n",
       "      <td>0.687880</td>\n",
       "      <td>0.986027</td>\n",
       "    </tr>\n",
       "    <tr>\n",
       "      <th>Random forest</th>\n",
       "      <td>0.984532</td>\n",
       "      <td>0.835889</td>\n",
       "      <td>0.738402</td>\n",
       "      <td>0.812141</td>\n",
       "      <td>0.676997</td>\n",
       "      <td>0.951846</td>\n",
       "    </tr>\n",
       "    <tr>\n",
       "      <th>Logistic regression with balanced class weights</th>\n",
       "      <td>0.941692</td>\n",
       "      <td>0.940063</td>\n",
       "      <td>0.509357</td>\n",
       "      <td>0.349563</td>\n",
       "      <td>0.938322</td>\n",
       "      <td>0.986021</td>\n",
       "    </tr>\n",
       "  </tbody>\n",
       "</table>\n",
       "</div>"
      ],
      "text/plain": [
       "                                                 Accuracy  Balanced accuracy  \\\n",
       "Dummy classifier                                 0.967748           0.500000   \n",
       "Logistic regression                              0.986167           0.841994   \n",
       "Random forest                                    0.984532           0.835889   \n",
       "Logistic regression with balanced class weights  0.941692           0.940063   \n",
       "\n",
       "                                                       F1  Precision  \\\n",
       "Dummy classifier                                 0.000000   0.000000   \n",
       "Logistic regression                              0.762330   0.854876   \n",
       "Random forest                                    0.738402   0.812141   \n",
       "Logistic regression with balanced class weights  0.509357   0.349563   \n",
       "\n",
       "                                                   Recall   ROC AUC  \n",
       "Dummy classifier                                 0.000000  0.500000  \n",
       "Logistic regression                              0.687880  0.986027  \n",
       "Random forest                                    0.676997  0.951846  \n",
       "Logistic regression with balanced class weights  0.938322  0.986021  "
      ]
     },
     "execution_count": 258,
     "metadata": {},
     "output_type": "execute_result"
    }
   ],
   "source": [
    "index += [\"Logistic regression with balanced class weights\"]\n",
    "scores[\"Accuracy\"].append(cv_result[\"test_accuracy\"].mean())\n",
    "scores[\"Balanced accuracy\"].append(cv_result[\"test_balanced_accuracy\"].mean())\n",
    "scores[\"F1\"].append(cv_result[\"test_f1\"].mean())\n",
    "scores[\"Precision\"].append(cv_result[\"test_precision\"].mean())\n",
    "scores[\"Recall\"].append(cv_result[\"test_recall\"].mean())\n",
    "scores[\"ROC AUC\"].append(cv_result[\"test_roc_auc\"].mean())\n",
    "\n",
    "df_scores = pd.DataFrame(scores, index=index)\n",
    "df_scores"
   ]
  },
  {
   "cell_type": "code",
   "execution_count": 259,
   "id": "9ddf011b",
   "metadata": {},
   "outputs": [],
   "source": [
    "rf_clf.set_params(randomforestclassifier__class_weight=\"balanced\")\n",
    "cv_result = cross_validate(rf_clf, X, y, scoring=scoring)"
   ]
  },
  {
   "cell_type": "code",
   "execution_count": 260,
   "id": "4d1ff77f",
   "metadata": {},
   "outputs": [
    {
     "data": {
      "text/html": [
       "<div>\n",
       "<style scoped>\n",
       "    .dataframe tbody tr th:only-of-type {\n",
       "        vertical-align: middle;\n",
       "    }\n",
       "\n",
       "    .dataframe tbody tr th {\n",
       "        vertical-align: top;\n",
       "    }\n",
       "\n",
       "    .dataframe thead th {\n",
       "        text-align: right;\n",
       "    }\n",
       "</style>\n",
       "<table border=\"1\" class=\"dataframe\">\n",
       "  <thead>\n",
       "    <tr style=\"text-align: right;\">\n",
       "      <th></th>\n",
       "      <th>Accuracy</th>\n",
       "      <th>Balanced accuracy</th>\n",
       "      <th>F1</th>\n",
       "      <th>Precision</th>\n",
       "      <th>Recall</th>\n",
       "      <th>ROC AUC</th>\n",
       "    </tr>\n",
       "  </thead>\n",
       "  <tbody>\n",
       "    <tr>\n",
       "      <th>Dummy classifier</th>\n",
       "      <td>0.967748</td>\n",
       "      <td>0.500000</td>\n",
       "      <td>0.000000</td>\n",
       "      <td>0.000000</td>\n",
       "      <td>0.000000</td>\n",
       "      <td>0.500000</td>\n",
       "    </tr>\n",
       "    <tr>\n",
       "      <th>Logistic regression</th>\n",
       "      <td>0.986167</td>\n",
       "      <td>0.841994</td>\n",
       "      <td>0.762330</td>\n",
       "      <td>0.854876</td>\n",
       "      <td>0.687880</td>\n",
       "      <td>0.986027</td>\n",
       "    </tr>\n",
       "    <tr>\n",
       "      <th>Random forest</th>\n",
       "      <td>0.984532</td>\n",
       "      <td>0.835889</td>\n",
       "      <td>0.738402</td>\n",
       "      <td>0.812141</td>\n",
       "      <td>0.676997</td>\n",
       "      <td>0.951846</td>\n",
       "    </tr>\n",
       "    <tr>\n",
       "      <th>Logistic regression with balanced class weights</th>\n",
       "      <td>0.941692</td>\n",
       "      <td>0.940063</td>\n",
       "      <td>0.509357</td>\n",
       "      <td>0.349563</td>\n",
       "      <td>0.938322</td>\n",
       "      <td>0.986021</td>\n",
       "    </tr>\n",
       "    <tr>\n",
       "      <th>Random forest with balanced class weights</th>\n",
       "      <td>0.958943</td>\n",
       "      <td>0.900680</td>\n",
       "      <td>0.568472</td>\n",
       "      <td>0.430067</td>\n",
       "      <td>0.838399</td>\n",
       "      <td>0.948388</td>\n",
       "    </tr>\n",
       "  </tbody>\n",
       "</table>\n",
       "</div>"
      ],
      "text/plain": [
       "                                                 Accuracy  Balanced accuracy  \\\n",
       "Dummy classifier                                 0.967748           0.500000   \n",
       "Logistic regression                              0.986167           0.841994   \n",
       "Random forest                                    0.984532           0.835889   \n",
       "Logistic regression with balanced class weights  0.941692           0.940063   \n",
       "Random forest with balanced class weights        0.958943           0.900680   \n",
       "\n",
       "                                                       F1  Precision  \\\n",
       "Dummy classifier                                 0.000000   0.000000   \n",
       "Logistic regression                              0.762330   0.854876   \n",
       "Random forest                                    0.738402   0.812141   \n",
       "Logistic regression with balanced class weights  0.509357   0.349563   \n",
       "Random forest with balanced class weights        0.568472   0.430067   \n",
       "\n",
       "                                                   Recall   ROC AUC  \n",
       "Dummy classifier                                 0.000000  0.500000  \n",
       "Logistic regression                              0.687880  0.986027  \n",
       "Random forest                                    0.676997  0.951846  \n",
       "Logistic regression with balanced class weights  0.938322  0.986021  \n",
       "Random forest with balanced class weights        0.838399  0.948388  "
      ]
     },
     "execution_count": 260,
     "metadata": {},
     "output_type": "execute_result"
    }
   ],
   "source": [
    "index += [\"Random forest with balanced class weights\"]\n",
    "scores[\"Accuracy\"].append(cv_result[\"test_accuracy\"].mean())\n",
    "scores[\"Balanced accuracy\"].append(cv_result[\"test_balanced_accuracy\"].mean())\n",
    "scores[\"F1\"].append(cv_result[\"test_f1\"].mean())\n",
    "scores[\"Precision\"].append(cv_result[\"test_precision\"].mean())\n",
    "scores[\"Recall\"].append(cv_result[\"test_recall\"].mean())\n",
    "scores[\"ROC AUC\"].append(cv_result[\"test_roc_auc\"].mean())\n",
    "\n",
    "df_scores = pd.DataFrame(scores, index=index)\n",
    "df_scores"
   ]
  },
  {
   "cell_type": "markdown",
   "id": "7a2db5fa",
   "metadata": {},
   "source": [
    "## Under sample the majority class during learning"
   ]
  },
  {
   "cell_type": "code",
   "execution_count": 262,
   "id": "62e6da89",
   "metadata": {},
   "outputs": [],
   "source": [
    "lr_clf = make_pipeline_with_sampler(\n",
    "    preprocessor_linear,\n",
    "    RandomUnderSampler(random_state=42),\n",
    "    LogisticRegression(max_iter=1000),\n",
    ")"
   ]
  },
  {
   "cell_type": "code",
   "execution_count": 263,
   "id": "73ca77ec",
   "metadata": {},
   "outputs": [
    {
     "data": {
      "text/html": [
       "<div>\n",
       "<style scoped>\n",
       "    .dataframe tbody tr th:only-of-type {\n",
       "        vertical-align: middle;\n",
       "    }\n",
       "\n",
       "    .dataframe tbody tr th {\n",
       "        vertical-align: top;\n",
       "    }\n",
       "\n",
       "    .dataframe thead th {\n",
       "        text-align: right;\n",
       "    }\n",
       "</style>\n",
       "<table border=\"1\" class=\"dataframe\">\n",
       "  <thead>\n",
       "    <tr style=\"text-align: right;\">\n",
       "      <th></th>\n",
       "      <th>Accuracy</th>\n",
       "      <th>Balanced accuracy</th>\n",
       "      <th>F1</th>\n",
       "      <th>Precision</th>\n",
       "      <th>Recall</th>\n",
       "      <th>ROC AUC</th>\n",
       "    </tr>\n",
       "  </thead>\n",
       "  <tbody>\n",
       "    <tr>\n",
       "      <th>Dummy classifier</th>\n",
       "      <td>0.967748</td>\n",
       "      <td>0.500000</td>\n",
       "      <td>0.000000</td>\n",
       "      <td>0.000000</td>\n",
       "      <td>0.000000</td>\n",
       "      <td>0.500000</td>\n",
       "    </tr>\n",
       "    <tr>\n",
       "      <th>Logistic regression</th>\n",
       "      <td>0.986167</td>\n",
       "      <td>0.841994</td>\n",
       "      <td>0.762330</td>\n",
       "      <td>0.854876</td>\n",
       "      <td>0.687880</td>\n",
       "      <td>0.986027</td>\n",
       "    </tr>\n",
       "    <tr>\n",
       "      <th>Random forest</th>\n",
       "      <td>0.984532</td>\n",
       "      <td>0.835889</td>\n",
       "      <td>0.738402</td>\n",
       "      <td>0.812141</td>\n",
       "      <td>0.676997</td>\n",
       "      <td>0.951846</td>\n",
       "    </tr>\n",
       "    <tr>\n",
       "      <th>Logistic regression with balanced class weights</th>\n",
       "      <td>0.941692</td>\n",
       "      <td>0.940063</td>\n",
       "      <td>0.509357</td>\n",
       "      <td>0.349563</td>\n",
       "      <td>0.938322</td>\n",
       "      <td>0.986021</td>\n",
       "    </tr>\n",
       "    <tr>\n",
       "      <th>Random forest with balanced class weights</th>\n",
       "      <td>0.958943</td>\n",
       "      <td>0.900680</td>\n",
       "      <td>0.568472</td>\n",
       "      <td>0.430067</td>\n",
       "      <td>0.838399</td>\n",
       "      <td>0.948388</td>\n",
       "    </tr>\n",
       "    <tr>\n",
       "      <th>Under-sampling + Logistic regression</th>\n",
       "      <td>0.940521</td>\n",
       "      <td>0.940359</td>\n",
       "      <td>0.504930</td>\n",
       "      <td>0.345168</td>\n",
       "      <td>0.940185</td>\n",
       "      <td>0.985998</td>\n",
       "    </tr>\n",
       "  </tbody>\n",
       "</table>\n",
       "</div>"
      ],
      "text/plain": [
       "                                                 Accuracy  Balanced accuracy  \\\n",
       "Dummy classifier                                 0.967748           0.500000   \n",
       "Logistic regression                              0.986167           0.841994   \n",
       "Random forest                                    0.984532           0.835889   \n",
       "Logistic regression with balanced class weights  0.941692           0.940063   \n",
       "Random forest with balanced class weights        0.958943           0.900680   \n",
       "Under-sampling + Logistic regression             0.940521           0.940359   \n",
       "\n",
       "                                                       F1  Precision  \\\n",
       "Dummy classifier                                 0.000000   0.000000   \n",
       "Logistic regression                              0.762330   0.854876   \n",
       "Random forest                                    0.738402   0.812141   \n",
       "Logistic regression with balanced class weights  0.509357   0.349563   \n",
       "Random forest with balanced class weights        0.568472   0.430067   \n",
       "Under-sampling + Logistic regression             0.504930   0.345168   \n",
       "\n",
       "                                                   Recall   ROC AUC  \n",
       "Dummy classifier                                 0.000000  0.500000  \n",
       "Logistic regression                              0.687880  0.986027  \n",
       "Random forest                                    0.676997  0.951846  \n",
       "Logistic regression with balanced class weights  0.938322  0.986021  \n",
       "Random forest with balanced class weights        0.838399  0.948388  \n",
       "Under-sampling + Logistic regression             0.940185  0.985998  "
      ]
     },
     "execution_count": 263,
     "metadata": {},
     "output_type": "execute_result"
    }
   ],
   "source": [
    "cv_result = cross_validate(lr_clf, X, y, scoring=scoring)\n",
    "index += [\"Under-sampling + Logistic regression\"]\n",
    "\n",
    "scores[\"Accuracy\"].append(cv_result[\"test_accuracy\"].mean())\n",
    "scores[\"Balanced accuracy\"].append(cv_result[\"test_balanced_accuracy\"].mean())\n",
    "scores[\"F1\"].append(cv_result[\"test_f1\"].mean())\n",
    "scores[\"Precision\"].append(cv_result[\"test_precision\"].mean())\n",
    "scores[\"Recall\"].append(cv_result[\"test_recall\"].mean())\n",
    "scores[\"ROC AUC\"].append(cv_result[\"test_roc_auc\"].mean())\n",
    "\n",
    "df_scores = pd.DataFrame(scores, index=index)\n",
    "df_scores"
   ]
  },
  {
   "cell_type": "code",
   "execution_count": 264,
   "id": "1a199c8d",
   "metadata": {},
   "outputs": [],
   "source": [
    "rf_clf = make_pipeline_with_sampler(\n",
    "    preprocessor_rf,\n",
    "    RandomUnderSampler(random_state=42),\n",
    "    RandomForestClassifier(random_state=42, max_depth=20, n_estimators = 100),\n",
    ")"
   ]
  },
  {
   "cell_type": "code",
   "execution_count": 265,
   "id": "b7ba18ba",
   "metadata": {},
   "outputs": [
    {
     "data": {
      "text/html": [
       "<div>\n",
       "<style scoped>\n",
       "    .dataframe tbody tr th:only-of-type {\n",
       "        vertical-align: middle;\n",
       "    }\n",
       "\n",
       "    .dataframe tbody tr th {\n",
       "        vertical-align: top;\n",
       "    }\n",
       "\n",
       "    .dataframe thead th {\n",
       "        text-align: right;\n",
       "    }\n",
       "</style>\n",
       "<table border=\"1\" class=\"dataframe\">\n",
       "  <thead>\n",
       "    <tr style=\"text-align: right;\">\n",
       "      <th></th>\n",
       "      <th>Accuracy</th>\n",
       "      <th>Balanced accuracy</th>\n",
       "      <th>F1</th>\n",
       "      <th>Precision</th>\n",
       "      <th>Recall</th>\n",
       "      <th>ROC AUC</th>\n",
       "    </tr>\n",
       "  </thead>\n",
       "  <tbody>\n",
       "    <tr>\n",
       "      <th>Dummy classifier</th>\n",
       "      <td>0.967748</td>\n",
       "      <td>0.500000</td>\n",
       "      <td>0.000000</td>\n",
       "      <td>0.000000</td>\n",
       "      <td>0.000000</td>\n",
       "      <td>0.500000</td>\n",
       "    </tr>\n",
       "    <tr>\n",
       "      <th>Logistic regression</th>\n",
       "      <td>0.986167</td>\n",
       "      <td>0.841994</td>\n",
       "      <td>0.762330</td>\n",
       "      <td>0.854876</td>\n",
       "      <td>0.687880</td>\n",
       "      <td>0.986027</td>\n",
       "    </tr>\n",
       "    <tr>\n",
       "      <th>Random forest</th>\n",
       "      <td>0.984532</td>\n",
       "      <td>0.835889</td>\n",
       "      <td>0.738402</td>\n",
       "      <td>0.812141</td>\n",
       "      <td>0.676997</td>\n",
       "      <td>0.951846</td>\n",
       "    </tr>\n",
       "    <tr>\n",
       "      <th>Logistic regression with balanced class weights</th>\n",
       "      <td>0.941692</td>\n",
       "      <td>0.940063</td>\n",
       "      <td>0.509357</td>\n",
       "      <td>0.349563</td>\n",
       "      <td>0.938322</td>\n",
       "      <td>0.986021</td>\n",
       "    </tr>\n",
       "    <tr>\n",
       "      <th>Random forest with balanced class weights</th>\n",
       "      <td>0.958943</td>\n",
       "      <td>0.900680</td>\n",
       "      <td>0.568472</td>\n",
       "      <td>0.430067</td>\n",
       "      <td>0.838399</td>\n",
       "      <td>0.948388</td>\n",
       "    </tr>\n",
       "    <tr>\n",
       "      <th>Under-sampling + Logistic regression</th>\n",
       "      <td>0.940521</td>\n",
       "      <td>0.940359</td>\n",
       "      <td>0.504930</td>\n",
       "      <td>0.345168</td>\n",
       "      <td>0.940185</td>\n",
       "      <td>0.985998</td>\n",
       "    </tr>\n",
       "    <tr>\n",
       "      <th>Under-sampling + Random forest</th>\n",
       "      <td>0.928048</td>\n",
       "      <td>0.927136</td>\n",
       "      <td>0.453654</td>\n",
       "      <td>0.300407</td>\n",
       "      <td>0.926161</td>\n",
       "      <td>0.974038</td>\n",
       "    </tr>\n",
       "  </tbody>\n",
       "</table>\n",
       "</div>"
      ],
      "text/plain": [
       "                                                 Accuracy  Balanced accuracy  \\\n",
       "Dummy classifier                                 0.967748           0.500000   \n",
       "Logistic regression                              0.986167           0.841994   \n",
       "Random forest                                    0.984532           0.835889   \n",
       "Logistic regression with balanced class weights  0.941692           0.940063   \n",
       "Random forest with balanced class weights        0.958943           0.900680   \n",
       "Under-sampling + Logistic regression             0.940521           0.940359   \n",
       "Under-sampling + Random forest                   0.928048           0.927136   \n",
       "\n",
       "                                                       F1  Precision  \\\n",
       "Dummy classifier                                 0.000000   0.000000   \n",
       "Logistic regression                              0.762330   0.854876   \n",
       "Random forest                                    0.738402   0.812141   \n",
       "Logistic regression with balanced class weights  0.509357   0.349563   \n",
       "Random forest with balanced class weights        0.568472   0.430067   \n",
       "Under-sampling + Logistic regression             0.504930   0.345168   \n",
       "Under-sampling + Random forest                   0.453654   0.300407   \n",
       "\n",
       "                                                   Recall   ROC AUC  \n",
       "Dummy classifier                                 0.000000  0.500000  \n",
       "Logistic regression                              0.687880  0.986027  \n",
       "Random forest                                    0.676997  0.951846  \n",
       "Logistic regression with balanced class weights  0.938322  0.986021  \n",
       "Random forest with balanced class weights        0.838399  0.948388  \n",
       "Under-sampling + Logistic regression             0.940185  0.985998  \n",
       "Under-sampling + Random forest                   0.926161  0.974038  "
      ]
     },
     "execution_count": 265,
     "metadata": {},
     "output_type": "execute_result"
    }
   ],
   "source": [
    "cv_result = cross_validate(rf_clf, X, y, scoring=scoring)\n",
    "\n",
    "index += [\"Under-sampling + Random forest\"]\n",
    "scores[\"Accuracy\"].append(cv_result[\"test_accuracy\"].mean())\n",
    "scores[\"Balanced accuracy\"].append(cv_result[\"test_balanced_accuracy\"].mean())\n",
    "scores[\"F1\"].append(cv_result[\"test_f1\"].mean())\n",
    "scores[\"Precision\"].append(cv_result[\"test_precision\"].mean())\n",
    "scores[\"Recall\"].append(cv_result[\"test_recall\"].mean())\n",
    "scores[\"ROC AUC\"].append(cv_result[\"test_roc_auc\"].mean())\n",
    "\n",
    "df_scores = pd.DataFrame(scores, index=index)\n",
    "df_scores"
   ]
  },
  {
   "cell_type": "markdown",
   "id": "19a0b792",
   "metadata": {},
   "source": [
    "# Use of specific balanced algorithms from imbalanced-learn"
   ]
  },
  {
   "cell_type": "markdown",
   "id": "608e18c8",
   "metadata": {},
   "source": [
    "Instead of under-sampling once the dataset, one could under-sample the original dataset before to take a bootstrap sample."
   ]
  },
  {
   "cell_type": "code",
   "execution_count": 267,
   "id": "293a72f1",
   "metadata": {},
   "outputs": [],
   "source": [
    "rf_clf = make_pipeline(\n",
    "    preprocessor_rf,\n",
    "    BalancedRandomForestClassifier(random_state=42, max_depth=20, n_estimators = 100),\n",
    ")"
   ]
  },
  {
   "cell_type": "code",
   "execution_count": 268,
   "id": "d9190099",
   "metadata": {},
   "outputs": [
    {
     "data": {
      "text/html": [
       "<div>\n",
       "<style scoped>\n",
       "    .dataframe tbody tr th:only-of-type {\n",
       "        vertical-align: middle;\n",
       "    }\n",
       "\n",
       "    .dataframe tbody tr th {\n",
       "        vertical-align: top;\n",
       "    }\n",
       "\n",
       "    .dataframe thead th {\n",
       "        text-align: right;\n",
       "    }\n",
       "</style>\n",
       "<table border=\"1\" class=\"dataframe\">\n",
       "  <thead>\n",
       "    <tr style=\"text-align: right;\">\n",
       "      <th></th>\n",
       "      <th>Accuracy</th>\n",
       "      <th>Balanced accuracy</th>\n",
       "      <th>F1</th>\n",
       "      <th>Precision</th>\n",
       "      <th>Recall</th>\n",
       "      <th>ROC AUC</th>\n",
       "    </tr>\n",
       "  </thead>\n",
       "  <tbody>\n",
       "    <tr>\n",
       "      <th>Dummy classifier</th>\n",
       "      <td>0.967748</td>\n",
       "      <td>0.500000</td>\n",
       "      <td>0.000000</td>\n",
       "      <td>0.000000</td>\n",
       "      <td>0.000000</td>\n",
       "      <td>0.500000</td>\n",
       "    </tr>\n",
       "    <tr>\n",
       "      <th>Logistic regression</th>\n",
       "      <td>0.986167</td>\n",
       "      <td>0.841994</td>\n",
       "      <td>0.762330</td>\n",
       "      <td>0.854876</td>\n",
       "      <td>0.687880</td>\n",
       "      <td>0.986027</td>\n",
       "    </tr>\n",
       "    <tr>\n",
       "      <th>Random forest</th>\n",
       "      <td>0.984532</td>\n",
       "      <td>0.835889</td>\n",
       "      <td>0.738402</td>\n",
       "      <td>0.812141</td>\n",
       "      <td>0.676997</td>\n",
       "      <td>0.951846</td>\n",
       "    </tr>\n",
       "    <tr>\n",
       "      <th>Logistic regression with balanced class weights</th>\n",
       "      <td>0.941692</td>\n",
       "      <td>0.940063</td>\n",
       "      <td>0.509357</td>\n",
       "      <td>0.349563</td>\n",
       "      <td>0.938322</td>\n",
       "      <td>0.986021</td>\n",
       "    </tr>\n",
       "    <tr>\n",
       "      <th>Random forest with balanced class weights</th>\n",
       "      <td>0.958943</td>\n",
       "      <td>0.900680</td>\n",
       "      <td>0.568472</td>\n",
       "      <td>0.430067</td>\n",
       "      <td>0.838399</td>\n",
       "      <td>0.948388</td>\n",
       "    </tr>\n",
       "    <tr>\n",
       "      <th>Under-sampling + Logistic regression</th>\n",
       "      <td>0.940521</td>\n",
       "      <td>0.940359</td>\n",
       "      <td>0.504930</td>\n",
       "      <td>0.345168</td>\n",
       "      <td>0.940185</td>\n",
       "      <td>0.985998</td>\n",
       "    </tr>\n",
       "    <tr>\n",
       "      <th>Under-sampling + Random forest</th>\n",
       "      <td>0.928048</td>\n",
       "      <td>0.927136</td>\n",
       "      <td>0.453654</td>\n",
       "      <td>0.300407</td>\n",
       "      <td>0.926161</td>\n",
       "      <td>0.974038</td>\n",
       "    </tr>\n",
       "    <tr>\n",
       "      <th>Balanced random forest</th>\n",
       "      <td>0.927248</td>\n",
       "      <td>0.931984</td>\n",
       "      <td>0.453800</td>\n",
       "      <td>0.299402</td>\n",
       "      <td>0.937047</td>\n",
       "      <td>0.980436</td>\n",
       "    </tr>\n",
       "  </tbody>\n",
       "</table>\n",
       "</div>"
      ],
      "text/plain": [
       "                                                 Accuracy  Balanced accuracy  \\\n",
       "Dummy classifier                                 0.967748           0.500000   \n",
       "Logistic regression                              0.986167           0.841994   \n",
       "Random forest                                    0.984532           0.835889   \n",
       "Logistic regression with balanced class weights  0.941692           0.940063   \n",
       "Random forest with balanced class weights        0.958943           0.900680   \n",
       "Under-sampling + Logistic regression             0.940521           0.940359   \n",
       "Under-sampling + Random forest                   0.928048           0.927136   \n",
       "Balanced random forest                           0.927248           0.931984   \n",
       "\n",
       "                                                       F1  Precision  \\\n",
       "Dummy classifier                                 0.000000   0.000000   \n",
       "Logistic regression                              0.762330   0.854876   \n",
       "Random forest                                    0.738402   0.812141   \n",
       "Logistic regression with balanced class weights  0.509357   0.349563   \n",
       "Random forest with balanced class weights        0.568472   0.430067   \n",
       "Under-sampling + Logistic regression             0.504930   0.345168   \n",
       "Under-sampling + Random forest                   0.453654   0.300407   \n",
       "Balanced random forest                           0.453800   0.299402   \n",
       "\n",
       "                                                   Recall   ROC AUC  \n",
       "Dummy classifier                                 0.000000  0.500000  \n",
       "Logistic regression                              0.687880  0.986027  \n",
       "Random forest                                    0.676997  0.951846  \n",
       "Logistic regression with balanced class weights  0.938322  0.986021  \n",
       "Random forest with balanced class weights        0.838399  0.948388  \n",
       "Under-sampling + Logistic regression             0.940185  0.985998  \n",
       "Under-sampling + Random forest                   0.926161  0.974038  \n",
       "Balanced random forest                           0.937047  0.980436  "
      ]
     },
     "execution_count": 268,
     "metadata": {},
     "output_type": "execute_result"
    }
   ],
   "source": [
    "cv_result = cross_validate(rf_clf, X, y, scoring=scoring)\n",
    "\n",
    "index += [\"Balanced random forest\"]\n",
    "scores[\"Accuracy\"].append(cv_result[\"test_accuracy\"].mean())\n",
    "scores[\"Balanced accuracy\"].append(cv_result[\"test_balanced_accuracy\"].mean())\n",
    "scores[\"F1\"].append(cv_result[\"test_f1\"].mean())\n",
    "scores[\"Precision\"].append(cv_result[\"test_precision\"].mean())\n",
    "scores[\"Recall\"].append(cv_result[\"test_recall\"].mean())\n",
    "scores[\"ROC AUC\"].append(cv_result[\"test_roc_auc\"].mean())\n",
    "\n",
    "df_scores = pd.DataFrame(scores, index=index)\n",
    "df_scores"
   ]
  }
 ],
 "metadata": {
  "kernelspec": {
   "display_name": "Python 3 (ipykernel)",
   "language": "python",
   "name": "python3"
  },
  "language_info": {
   "codemirror_mode": {
    "name": "ipython",
    "version": 3
   },
   "file_extension": ".py",
   "mimetype": "text/x-python",
   "name": "python",
   "nbconvert_exporter": "python",
   "pygments_lexer": "ipython3",
   "version": "3.9.7"
  }
 },
 "nbformat": 4,
 "nbformat_minor": 5
}
