{
 "cells": [
  {
   "cell_type": "markdown",
   "id": "94f503ab",
   "metadata": {},
   "source": [
    "The goal of this challenge is to build a model that predicts conversion rate and, based on the model, come up with ideas to improve revenue."
   ]
  },
  {
   "cell_type": "code",
   "execution_count": 1,
   "id": "a012835d",
   "metadata": {},
   "outputs": [],
   "source": [
    "# import modules\n",
    "import pandas\n",
    "import numpy as np\n"
   ]
  },
  {
   "cell_type": "code",
   "execution_count": null,
   "id": "dc49bcb9",
   "metadata": {},
   "outputs": [],
   "source": [
    "# read data\n"
   ]
  }
 ],
 "metadata": {
  "kernelspec": {
   "display_name": "Python 3 (ipykernel)",
   "language": "python",
   "name": "python3"
  },
  "language_info": {
   "codemirror_mode": {
    "name": "ipython",
    "version": 3
   },
   "file_extension": ".py",
   "mimetype": "text/x-python",
   "name": "python",
   "nbconvert_exporter": "python",
   "pygments_lexer": "ipython3",
   "version": "3.9.7"
  }
 },
 "nbformat": 4,
 "nbformat_minor": 5
}
